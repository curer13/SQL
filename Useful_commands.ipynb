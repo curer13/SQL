{
    "metadata": {
        "kernelspec": {
            "name": "SQL",
            "display_name": "SQL",
            "language": "sql"
        },
        "language_info": {
            "name": "sql",
            "version": ""
        }
    },
    "nbformat_minor": 2,
    "nbformat": 4,
    "cells": [
        {
            "cell_type": "markdown",
            "source": [
                "USE master;\n",
                "\n",
                "DROP DATABASE \\<DB name\\>;"
            ],
            "metadata": {
                "azdata_cell_guid": "398e28df-1bfb-4563-b2b8-aa871b17837b"
            }
        },
        {
            "cell_type": "markdown",
            "source": [
                "ALTER TABLE \\<TB name\\>\n",
                "\n",
                "ALTER COLUMN \\<column name\\> type;"
            ],
            "metadata": {
                "azdata_cell_guid": "9de6d4d2-fda2-4d0a-8adf-e3175dbad56b"
            }
        },
        {
            "cell_type": "markdown",
            "source": [
                "SElect convert(date, 'DD/MM/YY', 103);"
            ],
            "metadata": {
                "azdata_cell_guid": "87649eec-4d6d-4b75-b365-dd4de93ef380"
            }
        },
        {
            "cell_type": "markdown",
            "source": [
                "Delete from \\<table name\\>;\n",
                "\n",
                "\\# Deletes all rows"
            ],
            "metadata": {
                "azdata_cell_guid": "aac2d971-7a29-44e2-b251-2b2d73333dca"
            }
        },
        {
            "cell_type": "markdown",
            "source": [
                "select distinct \\<col name\\> from \\<table name\\>;"
            ],
            "metadata": {
                "azdata_cell_guid": "513399c2-52df-4d55-89d2-5cf56601c581"
            }
        },
        {
            "cell_type": "markdown",
            "source": [
                "<span style=\"background-color: rgba(127, 127, 127, 0.1);\">update</span>\n",
                "\n",
                "\\<table name\\>\n",
                "\n",
                "column\\_name = replace(column\\_name, 'old string', 'new string');\n",
                "\n",
                "where\n",
                "\n",
                "condition(for example is not null)"
            ],
            "metadata": {
                "azdata_cell_guid": "14c81d45-e9be-48d7-9802-0caba37e4b53"
            }
        },
        {
            "cell_type": "markdown",
            "source": [
                "select LEFT(\\<column name with string type\\>, n) from \\<table name\\>;\n",
                "\n",
                "\\# takes substring of n letters from left"
            ],
            "metadata": {
                "azdata_cell_guid": "79acacf0-db50-44c4-bf7b-37c0190fe025"
            }
        },
        {
            "cell_type": "markdown",
            "source": [
                "select substring(str, start, length) from ...;"
            ],
            "metadata": {
                "azdata_cell_guid": "7d47e9d4-ac7f-4817-ab07-c0c1ba3ec1eb"
            }
        },
        {
            "cell_type": "markdown",
            "source": [
                "select ...\n",
                "\n",
                "order by ... asc|desc;"
            ],
            "metadata": {
                "azdata_cell_guid": "12dcb824-97d4-48ad-8f1c-7edc5749db4a"
            }
        }
    ]
}