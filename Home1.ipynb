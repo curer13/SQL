{
    "metadata": {
        "kernelspec": {
            "name": "SQL",
            "display_name": "SQL",
            "language": "sql"
        },
        "language_info": {
            "name": "sql",
            "version": ""
        }
    },
    "nbformat_minor": 2,
    "nbformat": 4,
    "cells": [
        {
            "cell_type": "code",
            "source": [
                "CREATE DATABASE DB_lab1;"
            ],
            "metadata": {
                "azdata_cell_guid": "3ea4bbc0-87f9-41d2-bfa2-ec302976373e"
            },
            "outputs": [
                {
                    "output_type": "display_data",
                    "data": {
                        "text/html": "Commands completed successfully."
                    },
                    "metadata": {}
                },
                {
                    "output_type": "display_data",
                    "data": {
                        "text/html": "Total execution time: 00:00:03.254"
                    },
                    "metadata": {}
                }
            ],
            "execution_count": 7
        },
        {
            "cell_type": "code",
            "source": [
                "USE DB_lab1;\n",
                "CREATE TABLE EMPLOYEES(\n",
                "EMPLOYEE_ID int,\n",
                "FIRST_NAME VARCHAR(20),\n",
                "LAST_NAME VARCHAR(20),\n",
                "EMAIL VARCHAR(40),\n",
                "PHONE_NUMBER VARCHAR(20),\n",
                "HIRE_DAT DATETIME,\n",
                "JOB_ID VARCHAR(20),\n",
                "SALARY INT\n",
                ");"
            ],
            "metadata": {
                "azdata_cell_guid": "0676d00c-3162-4c2a-999c-db6162e18812"
            },
            "outputs": [
                {
                    "output_type": "display_data",
                    "data": {
                        "text/html": "Commands completed successfully."
                    },
                    "metadata": {}
                },
                {
                    "output_type": "display_data",
                    "data": {
                        "text/html": "Total execution time: 00:00:00.011"
                    },
                    "metadata": {}
                }
            ],
            "execution_count": 61
        },
        {
            "cell_type": "code",
            "source": [
                "insert into EMPLOYEES(EMPLOYEE_ID, FIRST_NAME, LAST_NAME, EMAIL, PHONE_NUMBER, HIRE_DAT,JOB_ID,SALARY)\n",
                "\tvalues('100','Steven','King','SKING','515.123.4567','1987-06-17','AD_PRES','24000');\n",
                "insert into EMPLOYEES(EMPLOYEE_ID, FIRST_NAME, LAST_NAME, EMAIL, PHONE_NUMBER, HIRE_DAT,JOB_ID,SALARY)\n",
                "\tvalues('101','Neena','Kochhar','NKOCHAR','515.123.4568','1989-09-21','AD_VP','17000');\n",
                "insert into EMPLOYEES(EMPLOYEE_ID, FIRST_NAME, LAST_NAME, EMAIL, PHONE_NUMBER, HIRE_DAT,JOB_ID,SALARY)\n",
                "\tvalues('102','Lex','De Haan','LDEHAAN','515.123.4569','1993-03-13','AD_VP','17000');\n",
                "insert into EMPLOYEES(EMPLOYEE_ID, FIRST_NAME, LAST_NAME, EMAIL, PHONE_NUMBER, HIRE_DAT,JOB_ID,SALARY)\n",
                "\tvalues('103','Alex','Hunold','AHUNOLD','590.423.4567','1990-01-03','IT_PROG','9000');\n",
                "insert into EMPLOYEES(EMPLOYEE_ID, FIRST_NAME, LAST_NAME, EMAIL, PHONE_NUMBER, HIRE_DAT,JOB_ID,SALARY)\n",
                "\tvalues('104','Bruce','Ernst','BERNST','590.423.4568','1991-05-21','IT_PROG','6000');\n",
                "insert into EMPLOYEES(EMPLOYEE_ID, FIRST_NAME, LAST_NAME, EMAIL, PHONE_NUMBER, HIRE_DAT,JOB_ID,SALARY)\n",
                "\tvalues('107','Diana','Lorentz','DLORENTZ','590.423.5567','1999-02-07','IT-PROG','4200');\n",
                "insert into EMPLOYEES(EMPLOYEE_ID, FIRST_NAME, LAST_NAME, EMAIL, PHONE_NUMBER, HIRE_DAT,JOB_ID,SALARY)\n",
                "\tvalues('124','Kevin','Morgous','KMORGOUS','650.123.5234','1999-11-16','SH_MAN','5800');\n",
                "insert into EMPLOYEES(EMPLOYEE_ID, FIRST_NAME, LAST_NAME, EMAIL, PHONE_NUMBER, HIRE_DAT,JOB_ID,SALARY)\n",
                "\tvalues('141','Trenna','Rajs','TRAJS','650.121.8009','1995-10-17','SH_CLERK','3500');\n",
                "insert into EMPLOYEES(EMPLOYEE_ID, FIRST_NAME, LAST_NAME, EMAIL, PHONE_NUMBER, HIRE_DAT,JOB_ID,SALARY)\n",
                "\tvalues('142','Curtis','Davies','CDAVIES','650.121.2994','1997-01-29','AD_PRES','3100');\n",
                "insert into EMPLOYEES(EMPLOYEE_ID, FIRST_NAME, LAST_NAME, EMAIL, PHONE_NUMBER, HIRE_DAT,JOB_ID,SALARY)\n",
                "\tvalues('143','Randall','Matos','RMATOS','650.121.2874','1998-03-15','SH_CLERK','2600');\n",
                "insert into EMPLOYEES(EMPLOYEE_ID, FIRST_NAME, LAST_NAME, EMAIL, PHONE_NUMBER, HIRE_DAT,JOB_ID,SALARY)\n",
                "\tvalues('144','Peter','Vargas','PVARGAS','650.121.2004','1998-07-09','SH_CLERK','2500');\n",
                "insert into EMPLOYEES(EMPLOYEE_ID, FIRST_NAME, LAST_NAME, EMAIL, PHONE_NUMBER, HIRE_DAT,JOB_ID,SALARY)\n",
                "\tvalues('149','Eleni','Zlotkey','EZLOTKEY','011.44.1344.429018','2000-01-29','SA_MAN','10500');\n",
                "insert into EMPLOYEES(EMPLOYEE_ID, FIRST_NAME, LAST_NAME, EMAIL, PHONE_NUMBER, HIRE_DAT,JOB_ID,SALARY)\n",
                "\tvalues('174','Ellen','Abel','EABEL','011.44.1644.429267','1996-05-11','SA_REP','11000');\n",
                "insert into EMPLOYEES(EMPLOYEE_ID, FIRST_NAME, LAST_NAME, EMAIL, PHONE_NUMBER, HIRE_DAT,JOB_ID,SALARY)\n",
                "\tvalues('176','Jonathon','Taylor','JTAYLOR','011.44.1644.429265','1998-03-24','SA_REP','8600');\n",
                "insert into EMPLOYEES(EMPLOYEE_ID, FIRST_NAME, LAST_NAME, EMAIL, PHONE_NUMBER, HIRE_DAT,JOB_ID,SALARY)\n",
                "\tvalues('178','Kimberely','Grant','KGRANT','011.44.1644.429263','1999-05-24','SA_REP','7000');\n",
                "insert into EMPLOYEES(EMPLOYEE_ID, FIRST_NAME, LAST_NAME, EMAIL, PHONE_NUMBER, HIRE_DAT,JOB_ID,SALARY)\n",
                "\tvalues('200','Jennifer','Whalen','JWHALEN','515.123.4444','1987-09-17','AD_ASST','4400');\n",
                "insert into EMPLOYEES(EMPLOYEE_ID, FIRST_NAME, LAST_NAME, EMAIL, PHONE_NUMBER, HIRE_DAT,JOB_ID,SALARY)\n",
                "\tvalues('201','Michael','Hartstein','MHARTSTE','515.123.5555','1996-02-17','MK_MAN','13000');\n",
                "insert into EMPLOYEES(EMPLOYEE_ID, FIRST_NAME, LAST_NAME, EMAIL, PHONE_NUMBER, HIRE_DAT,JOB_ID,SALARY)\n",
                "\tvalues('202','Pat','Fay','PFAY','603.123.6666','1997-08-17','MK_REP','6000');\n",
                "insert into EMPLOYEES(EMPLOYEE_ID, FIRST_NAME, LAST_NAME, EMAIL, PHONE_NUMBER, HIRE_DAT,JOB_ID,SALARY)\n",
                "\tvalues('205','Shelley','Higgins','SHIGGINS','515.123.8080','1994-06-07','AC_MGR','12000');\n",
                "insert into EMPLOYEES(EMPLOYEE_ID, FIRST_NAME, LAST_NAME, EMAIL, PHONE_NUMBER, HIRE_DAT,JOB_ID,SALARY)\n",
                "\tvalues('206','William','Gietz','WGIETZ','515.123.8181','1994-06-07','AC_ACCOUNT','8300');"
            ],
            "metadata": {
                "azdata_cell_guid": "f0b632db-4432-4d93-9bdc-997cd3f10a82"
            },
            "outputs": [
                {
                    "output_type": "display_data",
                    "data": {
                        "text/html": "(1 row affected)"
                    },
                    "metadata": {}
                },
                {
                    "output_type": "display_data",
                    "data": {
                        "text/html": "(1 row affected)"
                    },
                    "metadata": {}
                },
                {
                    "output_type": "display_data",
                    "data": {
                        "text/html": "(1 row affected)"
                    },
                    "metadata": {}
                },
                {
                    "output_type": "display_data",
                    "data": {
                        "text/html": "(1 row affected)"
                    },
                    "metadata": {}
                },
                {
                    "output_type": "display_data",
                    "data": {
                        "text/html": "(1 row affected)"
                    },
                    "metadata": {}
                },
                {
                    "output_type": "display_data",
                    "data": {
                        "text/html": "(1 row affected)"
                    },
                    "metadata": {}
                },
                {
                    "output_type": "display_data",
                    "data": {
                        "text/html": "(1 row affected)"
                    },
                    "metadata": {}
                },
                {
                    "output_type": "display_data",
                    "data": {
                        "text/html": "(1 row affected)"
                    },
                    "metadata": {}
                },
                {
                    "output_type": "display_data",
                    "data": {
                        "text/html": "(1 row affected)"
                    },
                    "metadata": {}
                },
                {
                    "output_type": "display_data",
                    "data": {
                        "text/html": "(1 row affected)"
                    },
                    "metadata": {}
                },
                {
                    "output_type": "display_data",
                    "data": {
                        "text/html": "(1 row affected)"
                    },
                    "metadata": {}
                },
                {
                    "output_type": "display_data",
                    "data": {
                        "text/html": "(1 row affected)"
                    },
                    "metadata": {}
                },
                {
                    "output_type": "display_data",
                    "data": {
                        "text/html": "(1 row affected)"
                    },
                    "metadata": {}
                },
                {
                    "output_type": "display_data",
                    "data": {
                        "text/html": "(1 row affected)"
                    },
                    "metadata": {}
                },
                {
                    "output_type": "display_data",
                    "data": {
                        "text/html": "(1 row affected)"
                    },
                    "metadata": {}
                },
                {
                    "output_type": "display_data",
                    "data": {
                        "text/html": "(1 row affected)"
                    },
                    "metadata": {}
                },
                {
                    "output_type": "display_data",
                    "data": {
                        "text/html": "(1 row affected)"
                    },
                    "metadata": {}
                },
                {
                    "output_type": "display_data",
                    "data": {
                        "text/html": "(1 row affected)"
                    },
                    "metadata": {}
                },
                {
                    "output_type": "display_data",
                    "data": {
                        "text/html": "(1 row affected)"
                    },
                    "metadata": {}
                },
                {
                    "output_type": "display_data",
                    "data": {
                        "text/html": "(1 row affected)"
                    },
                    "metadata": {}
                },
                {
                    "output_type": "display_data",
                    "data": {
                        "text/html": "Total execution time: 00:00:00.098"
                    },
                    "metadata": {}
                }
            ],
            "execution_count": 82
        },
        {
            "cell_type": "code",
            "source": [
                "SELECT * FROM Employees;"
            ],
            "metadata": {
                "azdata_cell_guid": "5aee4d8e-d108-452f-8083-6dc950b48047"
            },
            "outputs": [
                {
                    "output_type": "display_data",
                    "data": {
                        "text/html": "(20 rows affected)"
                    },
                    "metadata": {}
                },
                {
                    "output_type": "display_data",
                    "data": {
                        "text/html": "Total execution time: 00:00:00.036"
                    },
                    "metadata": {}
                },
                {
                    "output_type": "execute_result",
                    "execution_count": 83,
                    "data": {
                        "application/vnd.dataresource+json": {
                            "schema": {
                                "fields": [
                                    {
                                        "name": "EMPLOYEE_ID"
                                    },
                                    {
                                        "name": "FIRST_NAME"
                                    },
                                    {
                                        "name": "LAST_NAME"
                                    },
                                    {
                                        "name": "EMAIL"
                                    },
                                    {
                                        "name": "PHONE_NUMBER"
                                    },
                                    {
                                        "name": "HIRE_DAT"
                                    },
                                    {
                                        "name": "JOB_ID"
                                    },
                                    {
                                        "name": "SALARY"
                                    }
                                ]
                            },
                            "data": [
                                {
                                    "0": "100",
                                    "1": "Steven",
                                    "2": "King",
                                    "3": "SKING",
                                    "4": "515.123.4567",
                                    "5": "1987-06-17 00:00:00.000",
                                    "6": "AD_PRES",
                                    "7": "24000"
                                },
                                {
                                    "0": "101",
                                    "1": "Neena",
                                    "2": "Kochhar",
                                    "3": "NKOCHAR",
                                    "4": "515.123.4568",
                                    "5": "1989-09-21 00:00:00.000",
                                    "6": "AD_VP",
                                    "7": "17000"
                                },
                                {
                                    "0": "102",
                                    "1": "Lex",
                                    "2": "De Haan",
                                    "3": "LDEHAAN",
                                    "4": "515.123.4569",
                                    "5": "1993-03-13 00:00:00.000",
                                    "6": "AD_VP",
                                    "7": "17000"
                                },
                                {
                                    "0": "103",
                                    "1": "Alex",
                                    "2": "Hunold",
                                    "3": "AHUNOLD",
                                    "4": "590.423.4567",
                                    "5": "1990-01-03 00:00:00.000",
                                    "6": "IT_PROG",
                                    "7": "9000"
                                },
                                {
                                    "0": "104",
                                    "1": "Bruce",
                                    "2": "Ernst",
                                    "3": "BERNST",
                                    "4": "590.423.4568",
                                    "5": "1991-05-21 00:00:00.000",
                                    "6": "IT_PROG",
                                    "7": "6000"
                                },
                                {
                                    "0": "107",
                                    "1": "Diana",
                                    "2": "Lorentz",
                                    "3": "DLORENTZ",
                                    "4": "590.423.5567",
                                    "5": "1999-02-07 00:00:00.000",
                                    "6": "IT-PROG",
                                    "7": "4200"
                                },
                                {
                                    "0": "124",
                                    "1": "Kevin",
                                    "2": "Morgous",
                                    "3": "KMORGOUS",
                                    "4": "650.123.5234",
                                    "5": "1999-11-16 00:00:00.000",
                                    "6": "SH_MAN",
                                    "7": "5800"
                                },
                                {
                                    "0": "141",
                                    "1": "Trenna",
                                    "2": "Rajs",
                                    "3": "TRAJS",
                                    "4": "650.121.8009",
                                    "5": "1995-10-17 00:00:00.000",
                                    "6": "SH_CLERK",
                                    "7": "3500"
                                },
                                {
                                    "0": "142",
                                    "1": "Curtis",
                                    "2": "Davies",
                                    "3": "CDAVIES",
                                    "4": "650.121.2994",
                                    "5": "1997-01-29 00:00:00.000",
                                    "6": "AD_PRES",
                                    "7": "3100"
                                },
                                {
                                    "0": "143",
                                    "1": "Randall",
                                    "2": "Matos",
                                    "3": "RMATOS",
                                    "4": "650.121.2874",
                                    "5": "1998-03-15 00:00:00.000",
                                    "6": "SH_CLERK",
                                    "7": "2600"
                                },
                                {
                                    "0": "144",
                                    "1": "Peter",
                                    "2": "Vargas",
                                    "3": "PVARGAS",
                                    "4": "650.121.2004",
                                    "5": "1998-07-09 00:00:00.000",
                                    "6": "SH_CLERK",
                                    "7": "2500"
                                },
                                {
                                    "0": "149",
                                    "1": "Eleni",
                                    "2": "Zlotkey",
                                    "3": "EZLOTKEY",
                                    "4": "011.44.1344.429018",
                                    "5": "2000-01-29 00:00:00.000",
                                    "6": "SA_MAN",
                                    "7": "10500"
                                },
                                {
                                    "0": "174",
                                    "1": "Ellen",
                                    "2": "Abel",
                                    "3": "EABEL",
                                    "4": "011.44.1644.429267",
                                    "5": "1996-05-11 00:00:00.000",
                                    "6": "SA_REP",
                                    "7": "11000"
                                },
                                {
                                    "0": "176",
                                    "1": "Jonathon",
                                    "2": "Taylor",
                                    "3": "JTAYLOR",
                                    "4": "011.44.1644.429265",
                                    "5": "1998-03-24 00:00:00.000",
                                    "6": "SA_REP",
                                    "7": "8600"
                                },
                                {
                                    "0": "178",
                                    "1": "Kimberely",
                                    "2": "Grant",
                                    "3": "KGRANT",
                                    "4": "011.44.1644.429263",
                                    "5": "1999-05-24 00:00:00.000",
                                    "6": "SA_REP",
                                    "7": "7000"
                                },
                                {
                                    "0": "200",
                                    "1": "Jennifer",
                                    "2": "Whalen",
                                    "3": "JWHALEN",
                                    "4": "515.123.4444",
                                    "5": "1987-09-17 00:00:00.000",
                                    "6": "AD_ASST",
                                    "7": "4400"
                                },
                                {
                                    "0": "201",
                                    "1": "Michael",
                                    "2": "Hartstein",
                                    "3": "MHARTSTE",
                                    "4": "515.123.5555",
                                    "5": "1996-02-17 00:00:00.000",
                                    "6": "MK_MAN",
                                    "7": "13000"
                                },
                                {
                                    "0": "202",
                                    "1": "Pat",
                                    "2": "Fay",
                                    "3": "PFAY",
                                    "4": "603.123.6666",
                                    "5": "1997-08-17 00:00:00.000",
                                    "6": "MK_REP",
                                    "7": "6000"
                                },
                                {
                                    "0": "205",
                                    "1": "Shelley",
                                    "2": "Higgins",
                                    "3": "SHIGGINS",
                                    "4": "515.123.8080",
                                    "5": "1994-06-07 00:00:00.000",
                                    "6": "AC_MGR",
                                    "7": "12000"
                                },
                                {
                                    "0": "206",
                                    "1": "William",
                                    "2": "Gietz",
                                    "3": "WGIETZ",
                                    "4": "515.123.8181",
                                    "5": "1994-06-07 00:00:00.000",
                                    "6": "AC_ACCOUNT",
                                    "7": "8300"
                                }
                            ]
                        },
                        "text/html": "<table><tr><th>EMPLOYEE_ID</th><th>FIRST_NAME</th><th>LAST_NAME</th><th>EMAIL</th><th>PHONE_NUMBER</th><th>HIRE_DAT</th><th>JOB_ID</th><th>SALARY</th></tr><tr><td>100</td><td>Steven</td><td>King</td><td>SKING</td><td>515.123.4567</td><td>1987-06-17 00:00:00.000</td><td>AD_PRES</td><td>24000</td></tr><tr><td>101</td><td>Neena</td><td>Kochhar</td><td>NKOCHAR</td><td>515.123.4568</td><td>1989-09-21 00:00:00.000</td><td>AD_VP</td><td>17000</td></tr><tr><td>102</td><td>Lex</td><td>De Haan</td><td>LDEHAAN</td><td>515.123.4569</td><td>1993-03-13 00:00:00.000</td><td>AD_VP</td><td>17000</td></tr><tr><td>103</td><td>Alex</td><td>Hunold</td><td>AHUNOLD</td><td>590.423.4567</td><td>1990-01-03 00:00:00.000</td><td>IT_PROG</td><td>9000</td></tr><tr><td>104</td><td>Bruce</td><td>Ernst</td><td>BERNST</td><td>590.423.4568</td><td>1991-05-21 00:00:00.000</td><td>IT_PROG</td><td>6000</td></tr><tr><td>107</td><td>Diana</td><td>Lorentz</td><td>DLORENTZ</td><td>590.423.5567</td><td>1999-02-07 00:00:00.000</td><td>IT-PROG</td><td>4200</td></tr><tr><td>124</td><td>Kevin</td><td>Morgous</td><td>KMORGOUS</td><td>650.123.5234</td><td>1999-11-16 00:00:00.000</td><td>SH_MAN</td><td>5800</td></tr><tr><td>141</td><td>Trenna</td><td>Rajs</td><td>TRAJS</td><td>650.121.8009</td><td>1995-10-17 00:00:00.000</td><td>SH_CLERK</td><td>3500</td></tr><tr><td>142</td><td>Curtis</td><td>Davies</td><td>CDAVIES</td><td>650.121.2994</td><td>1997-01-29 00:00:00.000</td><td>AD_PRES</td><td>3100</td></tr><tr><td>143</td><td>Randall</td><td>Matos</td><td>RMATOS</td><td>650.121.2874</td><td>1998-03-15 00:00:00.000</td><td>SH_CLERK</td><td>2600</td></tr><tr><td>144</td><td>Peter</td><td>Vargas</td><td>PVARGAS</td><td>650.121.2004</td><td>1998-07-09 00:00:00.000</td><td>SH_CLERK</td><td>2500</td></tr><tr><td>149</td><td>Eleni</td><td>Zlotkey</td><td>EZLOTKEY</td><td>011.44.1344.429018</td><td>2000-01-29 00:00:00.000</td><td>SA_MAN</td><td>10500</td></tr><tr><td>174</td><td>Ellen</td><td>Abel</td><td>EABEL</td><td>011.44.1644.429267</td><td>1996-05-11 00:00:00.000</td><td>SA_REP</td><td>11000</td></tr><tr><td>176</td><td>Jonathon</td><td>Taylor</td><td>JTAYLOR</td><td>011.44.1644.429265</td><td>1998-03-24 00:00:00.000</td><td>SA_REP</td><td>8600</td></tr><tr><td>178</td><td>Kimberely</td><td>Grant</td><td>KGRANT</td><td>011.44.1644.429263</td><td>1999-05-24 00:00:00.000</td><td>SA_REP</td><td>7000</td></tr><tr><td>200</td><td>Jennifer</td><td>Whalen</td><td>JWHALEN</td><td>515.123.4444</td><td>1987-09-17 00:00:00.000</td><td>AD_ASST</td><td>4400</td></tr><tr><td>201</td><td>Michael</td><td>Hartstein</td><td>MHARTSTE</td><td>515.123.5555</td><td>1996-02-17 00:00:00.000</td><td>MK_MAN</td><td>13000</td></tr><tr><td>202</td><td>Pat</td><td>Fay</td><td>PFAY</td><td>603.123.6666</td><td>1997-08-17 00:00:00.000</td><td>MK_REP</td><td>6000</td></tr><tr><td>205</td><td>Shelley</td><td>Higgins</td><td>SHIGGINS</td><td>515.123.8080</td><td>1994-06-07 00:00:00.000</td><td>AC_MGR</td><td>12000</td></tr><tr><td>206</td><td>William</td><td>Gietz</td><td>WGIETZ</td><td>515.123.8181</td><td>1994-06-07 00:00:00.000</td><td>AC_ACCOUNT</td><td>8300</td></tr></table>"
                    },
                    "metadata": {
                        "resultSet": {
                            "id": 0,
                            "batchId": 0,
                            "rowCount": 20,
                            "complete": true,
                            "columnInfo": [
                                {
                                    "isBytes": false,
                                    "isChars": false,
                                    "isSqlVariant": false,
                                    "isUdt": false,
                                    "isXml": false,
                                    "isJson": false,
                                    "sqlDbType": 8,
                                    "isHierarchyId": false,
                                    "isSqlXmlType": false,
                                    "isUnknownType": false,
                                    "isUpdatable": true,
                                    "allowDBNull": true,
                                    "baseCatalogName": null,
                                    "baseColumnName": null,
                                    "baseSchemaName": null,
                                    "baseServerName": null,
                                    "baseTableName": null,
                                    "columnName": "EMPLOYEE_ID",
                                    "columnOrdinal": 0,
                                    "columnSize": 4,
                                    "isAliased": null,
                                    "isAutoIncrement": false,
                                    "isExpression": null,
                                    "isHidden": null,
                                    "isIdentity": false,
                                    "isKey": null,
                                    "isLong": false,
                                    "isReadOnly": false,
                                    "isUnique": false,
                                    "numericPrecision": 10,
                                    "numericScale": 255,
                                    "udtAssemblyQualifiedName": null,
                                    "dataType": "System.Int32, System.Private.CoreLib, Version=4.0.0.0, Culture=neutral, PublicKeyToken=7cec85d7bea7798e",
                                    "dataTypeName": "int"
                                },
                                {
                                    "isBytes": false,
                                    "isChars": true,
                                    "isSqlVariant": false,
                                    "isUdt": false,
                                    "isXml": false,
                                    "isJson": false,
                                    "sqlDbType": 22,
                                    "isHierarchyId": false,
                                    "isSqlXmlType": false,
                                    "isUnknownType": false,
                                    "isUpdatable": true,
                                    "allowDBNull": true,
                                    "baseCatalogName": null,
                                    "baseColumnName": null,
                                    "baseSchemaName": null,
                                    "baseServerName": null,
                                    "baseTableName": null,
                                    "columnName": "FIRST_NAME",
                                    "columnOrdinal": 1,
                                    "columnSize": 20,
                                    "isAliased": null,
                                    "isAutoIncrement": false,
                                    "isExpression": null,
                                    "isHidden": null,
                                    "isIdentity": false,
                                    "isKey": null,
                                    "isLong": false,
                                    "isReadOnly": false,
                                    "isUnique": false,
                                    "numericPrecision": 255,
                                    "numericScale": 255,
                                    "udtAssemblyQualifiedName": null,
                                    "dataType": "System.String, System.Private.CoreLib, Version=4.0.0.0, Culture=neutral, PublicKeyToken=7cec85d7bea7798e",
                                    "dataTypeName": "varchar"
                                },
                                {
                                    "isBytes": false,
                                    "isChars": true,
                                    "isSqlVariant": false,
                                    "isUdt": false,
                                    "isXml": false,
                                    "isJson": false,
                                    "sqlDbType": 22,
                                    "isHierarchyId": false,
                                    "isSqlXmlType": false,
                                    "isUnknownType": false,
                                    "isUpdatable": true,
                                    "allowDBNull": true,
                                    "baseCatalogName": null,
                                    "baseColumnName": null,
                                    "baseSchemaName": null,
                                    "baseServerName": null,
                                    "baseTableName": null,
                                    "columnName": "LAST_NAME",
                                    "columnOrdinal": 2,
                                    "columnSize": 20,
                                    "isAliased": null,
                                    "isAutoIncrement": false,
                                    "isExpression": null,
                                    "isHidden": null,
                                    "isIdentity": false,
                                    "isKey": null,
                                    "isLong": false,
                                    "isReadOnly": false,
                                    "isUnique": false,
                                    "numericPrecision": 255,
                                    "numericScale": 255,
                                    "udtAssemblyQualifiedName": null,
                                    "dataType": "System.String, System.Private.CoreLib, Version=4.0.0.0, Culture=neutral, PublicKeyToken=7cec85d7bea7798e",
                                    "dataTypeName": "varchar"
                                },
                                {
                                    "isBytes": false,
                                    "isChars": true,
                                    "isSqlVariant": false,
                                    "isUdt": false,
                                    "isXml": false,
                                    "isJson": false,
                                    "sqlDbType": 22,
                                    "isHierarchyId": false,
                                    "isSqlXmlType": false,
                                    "isUnknownType": false,
                                    "isUpdatable": true,
                                    "allowDBNull": true,
                                    "baseCatalogName": null,
                                    "baseColumnName": null,
                                    "baseSchemaName": null,
                                    "baseServerName": null,
                                    "baseTableName": null,
                                    "columnName": "EMAIL",
                                    "columnOrdinal": 3,
                                    "columnSize": 40,
                                    "isAliased": null,
                                    "isAutoIncrement": false,
                                    "isExpression": null,
                                    "isHidden": null,
                                    "isIdentity": false,
                                    "isKey": null,
                                    "isLong": false,
                                    "isReadOnly": false,
                                    "isUnique": false,
                                    "numericPrecision": 255,
                                    "numericScale": 255,
                                    "udtAssemblyQualifiedName": null,
                                    "dataType": "System.String, System.Private.CoreLib, Version=4.0.0.0, Culture=neutral, PublicKeyToken=7cec85d7bea7798e",
                                    "dataTypeName": "varchar"
                                },
                                {
                                    "isBytes": false,
                                    "isChars": true,
                                    "isSqlVariant": false,
                                    "isUdt": false,
                                    "isXml": false,
                                    "isJson": false,
                                    "sqlDbType": 22,
                                    "isHierarchyId": false,
                                    "isSqlXmlType": false,
                                    "isUnknownType": false,
                                    "isUpdatable": true,
                                    "allowDBNull": true,
                                    "baseCatalogName": null,
                                    "baseColumnName": null,
                                    "baseSchemaName": null,
                                    "baseServerName": null,
                                    "baseTableName": null,
                                    "columnName": "PHONE_NUMBER",
                                    "columnOrdinal": 4,
                                    "columnSize": 20,
                                    "isAliased": null,
                                    "isAutoIncrement": false,
                                    "isExpression": null,
                                    "isHidden": null,
                                    "isIdentity": false,
                                    "isKey": null,
                                    "isLong": false,
                                    "isReadOnly": false,
                                    "isUnique": false,
                                    "numericPrecision": 255,
                                    "numericScale": 255,
                                    "udtAssemblyQualifiedName": null,
                                    "dataType": "System.String, System.Private.CoreLib, Version=4.0.0.0, Culture=neutral, PublicKeyToken=7cec85d7bea7798e",
                                    "dataTypeName": "varchar"
                                },
                                {
                                    "isBytes": false,
                                    "isChars": false,
                                    "isSqlVariant": false,
                                    "isUdt": false,
                                    "isXml": false,
                                    "isJson": false,
                                    "sqlDbType": 4,
                                    "isHierarchyId": false,
                                    "isSqlXmlType": false,
                                    "isUnknownType": false,
                                    "isUpdatable": true,
                                    "allowDBNull": true,
                                    "baseCatalogName": null,
                                    "baseColumnName": null,
                                    "baseSchemaName": null,
                                    "baseServerName": null,
                                    "baseTableName": null,
                                    "columnName": "HIRE_DAT",
                                    "columnOrdinal": 5,
                                    "columnSize": 8,
                                    "isAliased": null,
                                    "isAutoIncrement": false,
                                    "isExpression": null,
                                    "isHidden": null,
                                    "isIdentity": false,
                                    "isKey": null,
                                    "isLong": false,
                                    "isReadOnly": false,
                                    "isUnique": false,
                                    "numericPrecision": 23,
                                    "numericScale": 3,
                                    "udtAssemblyQualifiedName": null,
                                    "dataType": "System.DateTime, System.Private.CoreLib, Version=4.0.0.0, Culture=neutral, PublicKeyToken=7cec85d7bea7798e",
                                    "dataTypeName": "datetime"
                                },
                                {
                                    "isBytes": false,
                                    "isChars": true,
                                    "isSqlVariant": false,
                                    "isUdt": false,
                                    "isXml": false,
                                    "isJson": false,
                                    "sqlDbType": 22,
                                    "isHierarchyId": false,
                                    "isSqlXmlType": false,
                                    "isUnknownType": false,
                                    "isUpdatable": true,
                                    "allowDBNull": true,
                                    "baseCatalogName": null,
                                    "baseColumnName": null,
                                    "baseSchemaName": null,
                                    "baseServerName": null,
                                    "baseTableName": null,
                                    "columnName": "JOB_ID",
                                    "columnOrdinal": 6,
                                    "columnSize": 20,
                                    "isAliased": null,
                                    "isAutoIncrement": false,
                                    "isExpression": null,
                                    "isHidden": null,
                                    "isIdentity": false,
                                    "isKey": null,
                                    "isLong": false,
                                    "isReadOnly": false,
                                    "isUnique": false,
                                    "numericPrecision": 255,
                                    "numericScale": 255,
                                    "udtAssemblyQualifiedName": null,
                                    "dataType": "System.String, System.Private.CoreLib, Version=4.0.0.0, Culture=neutral, PublicKeyToken=7cec85d7bea7798e",
                                    "dataTypeName": "varchar"
                                },
                                {
                                    "isBytes": false,
                                    "isChars": false,
                                    "isSqlVariant": false,
                                    "isUdt": false,
                                    "isXml": false,
                                    "isJson": false,
                                    "sqlDbType": 8,
                                    "isHierarchyId": false,
                                    "isSqlXmlType": false,
                                    "isUnknownType": false,
                                    "isUpdatable": true,
                                    "allowDBNull": true,
                                    "baseCatalogName": null,
                                    "baseColumnName": null,
                                    "baseSchemaName": null,
                                    "baseServerName": null,
                                    "baseTableName": null,
                                    "columnName": "SALARY",
                                    "columnOrdinal": 7,
                                    "columnSize": 4,
                                    "isAliased": null,
                                    "isAutoIncrement": false,
                                    "isExpression": null,
                                    "isHidden": null,
                                    "isIdentity": false,
                                    "isKey": null,
                                    "isLong": false,
                                    "isReadOnly": false,
                                    "isUnique": false,
                                    "numericPrecision": 10,
                                    "numericScale": 255,
                                    "udtAssemblyQualifiedName": null,
                                    "dataType": "System.Int32, System.Private.CoreLib, Version=4.0.0.0, Culture=neutral, PublicKeyToken=7cec85d7bea7798e",
                                    "dataTypeName": "int"
                                }
                            ],
                            "specialAction": {
                                "none": true,
                                "expectYukonXMLShowPlan": false
                            }
                        }
                    }
                }
            ],
            "execution_count": 83
        },
        {
            "cell_type": "code",
            "source": [
                "SELECT EMPLOYEE_ID, FIRST_NAME, LAST_NAME, HIRE_DAT, SALARY FROM EMPLOYEES;"
            ],
            "metadata": {
                "azdata_cell_guid": "67f702f5-bf75-403a-b29c-3743bbb23286"
            },
            "outputs": [
                {
                    "output_type": "display_data",
                    "data": {
                        "text/html": "(20 rows affected)"
                    },
                    "metadata": {}
                },
                {
                    "output_type": "display_data",
                    "data": {
                        "text/html": "Total execution time: 00:00:00.033"
                    },
                    "metadata": {}
                },
                {
                    "output_type": "execute_result",
                    "execution_count": 84,
                    "data": {
                        "application/vnd.dataresource+json": {
                            "schema": {
                                "fields": [
                                    {
                                        "name": "EMPLOYEE_ID"
                                    },
                                    {
                                        "name": "FIRST_NAME"
                                    },
                                    {
                                        "name": "LAST_NAME"
                                    },
                                    {
                                        "name": "HIRE_DAT"
                                    },
                                    {
                                        "name": "SALARY"
                                    }
                                ]
                            },
                            "data": [
                                {
                                    "0": "100",
                                    "1": "Steven",
                                    "2": "King",
                                    "3": "1987-06-17 00:00:00.000",
                                    "4": "24000"
                                },
                                {
                                    "0": "101",
                                    "1": "Neena",
                                    "2": "Kochhar",
                                    "3": "1989-09-21 00:00:00.000",
                                    "4": "17000"
                                },
                                {
                                    "0": "102",
                                    "1": "Lex",
                                    "2": "De Haan",
                                    "3": "1993-03-13 00:00:00.000",
                                    "4": "17000"
                                },
                                {
                                    "0": "103",
                                    "1": "Alex",
                                    "2": "Hunold",
                                    "3": "1990-01-03 00:00:00.000",
                                    "4": "9000"
                                },
                                {
                                    "0": "104",
                                    "1": "Bruce",
                                    "2": "Ernst",
                                    "3": "1991-05-21 00:00:00.000",
                                    "4": "6000"
                                },
                                {
                                    "0": "107",
                                    "1": "Diana",
                                    "2": "Lorentz",
                                    "3": "1999-02-07 00:00:00.000",
                                    "4": "4200"
                                },
                                {
                                    "0": "124",
                                    "1": "Kevin",
                                    "2": "Morgous",
                                    "3": "1999-11-16 00:00:00.000",
                                    "4": "5800"
                                },
                                {
                                    "0": "141",
                                    "1": "Trenna",
                                    "2": "Rajs",
                                    "3": "1995-10-17 00:00:00.000",
                                    "4": "3500"
                                },
                                {
                                    "0": "142",
                                    "1": "Curtis",
                                    "2": "Davies",
                                    "3": "1997-01-29 00:00:00.000",
                                    "4": "3100"
                                },
                                {
                                    "0": "143",
                                    "1": "Randall",
                                    "2": "Matos",
                                    "3": "1998-03-15 00:00:00.000",
                                    "4": "2600"
                                },
                                {
                                    "0": "144",
                                    "1": "Peter",
                                    "2": "Vargas",
                                    "3": "1998-07-09 00:00:00.000",
                                    "4": "2500"
                                },
                                {
                                    "0": "149",
                                    "1": "Eleni",
                                    "2": "Zlotkey",
                                    "3": "2000-01-29 00:00:00.000",
                                    "4": "10500"
                                },
                                {
                                    "0": "174",
                                    "1": "Ellen",
                                    "2": "Abel",
                                    "3": "1996-05-11 00:00:00.000",
                                    "4": "11000"
                                },
                                {
                                    "0": "176",
                                    "1": "Jonathon",
                                    "2": "Taylor",
                                    "3": "1998-03-24 00:00:00.000",
                                    "4": "8600"
                                },
                                {
                                    "0": "178",
                                    "1": "Kimberely",
                                    "2": "Grant",
                                    "3": "1999-05-24 00:00:00.000",
                                    "4": "7000"
                                },
                                {
                                    "0": "200",
                                    "1": "Jennifer",
                                    "2": "Whalen",
                                    "3": "1987-09-17 00:00:00.000",
                                    "4": "4400"
                                },
                                {
                                    "0": "201",
                                    "1": "Michael",
                                    "2": "Hartstein",
                                    "3": "1996-02-17 00:00:00.000",
                                    "4": "13000"
                                },
                                {
                                    "0": "202",
                                    "1": "Pat",
                                    "2": "Fay",
                                    "3": "1997-08-17 00:00:00.000",
                                    "4": "6000"
                                },
                                {
                                    "0": "205",
                                    "1": "Shelley",
                                    "2": "Higgins",
                                    "3": "1994-06-07 00:00:00.000",
                                    "4": "12000"
                                },
                                {
                                    "0": "206",
                                    "1": "William",
                                    "2": "Gietz",
                                    "3": "1994-06-07 00:00:00.000",
                                    "4": "8300"
                                }
                            ]
                        },
                        "text/html": "<table><tr><th>EMPLOYEE_ID</th><th>FIRST_NAME</th><th>LAST_NAME</th><th>HIRE_DAT</th><th>SALARY</th></tr><tr><td>100</td><td>Steven</td><td>King</td><td>1987-06-17 00:00:00.000</td><td>24000</td></tr><tr><td>101</td><td>Neena</td><td>Kochhar</td><td>1989-09-21 00:00:00.000</td><td>17000</td></tr><tr><td>102</td><td>Lex</td><td>De Haan</td><td>1993-03-13 00:00:00.000</td><td>17000</td></tr><tr><td>103</td><td>Alex</td><td>Hunold</td><td>1990-01-03 00:00:00.000</td><td>9000</td></tr><tr><td>104</td><td>Bruce</td><td>Ernst</td><td>1991-05-21 00:00:00.000</td><td>6000</td></tr><tr><td>107</td><td>Diana</td><td>Lorentz</td><td>1999-02-07 00:00:00.000</td><td>4200</td></tr><tr><td>124</td><td>Kevin</td><td>Morgous</td><td>1999-11-16 00:00:00.000</td><td>5800</td></tr><tr><td>141</td><td>Trenna</td><td>Rajs</td><td>1995-10-17 00:00:00.000</td><td>3500</td></tr><tr><td>142</td><td>Curtis</td><td>Davies</td><td>1997-01-29 00:00:00.000</td><td>3100</td></tr><tr><td>143</td><td>Randall</td><td>Matos</td><td>1998-03-15 00:00:00.000</td><td>2600</td></tr><tr><td>144</td><td>Peter</td><td>Vargas</td><td>1998-07-09 00:00:00.000</td><td>2500</td></tr><tr><td>149</td><td>Eleni</td><td>Zlotkey</td><td>2000-01-29 00:00:00.000</td><td>10500</td></tr><tr><td>174</td><td>Ellen</td><td>Abel</td><td>1996-05-11 00:00:00.000</td><td>11000</td></tr><tr><td>176</td><td>Jonathon</td><td>Taylor</td><td>1998-03-24 00:00:00.000</td><td>8600</td></tr><tr><td>178</td><td>Kimberely</td><td>Grant</td><td>1999-05-24 00:00:00.000</td><td>7000</td></tr><tr><td>200</td><td>Jennifer</td><td>Whalen</td><td>1987-09-17 00:00:00.000</td><td>4400</td></tr><tr><td>201</td><td>Michael</td><td>Hartstein</td><td>1996-02-17 00:00:00.000</td><td>13000</td></tr><tr><td>202</td><td>Pat</td><td>Fay</td><td>1997-08-17 00:00:00.000</td><td>6000</td></tr><tr><td>205</td><td>Shelley</td><td>Higgins</td><td>1994-06-07 00:00:00.000</td><td>12000</td></tr><tr><td>206</td><td>William</td><td>Gietz</td><td>1994-06-07 00:00:00.000</td><td>8300</td></tr></table>"
                    },
                    "metadata": {
                        "resultSet": {
                            "id": 0,
                            "batchId": 0,
                            "rowCount": 20,
                            "complete": true,
                            "columnInfo": [
                                {
                                    "isBytes": false,
                                    "isChars": false,
                                    "isSqlVariant": false,
                                    "isUdt": false,
                                    "isXml": false,
                                    "isJson": false,
                                    "sqlDbType": 8,
                                    "isHierarchyId": false,
                                    "isSqlXmlType": false,
                                    "isUnknownType": false,
                                    "isUpdatable": true,
                                    "allowDBNull": true,
                                    "baseCatalogName": null,
                                    "baseColumnName": null,
                                    "baseSchemaName": null,
                                    "baseServerName": null,
                                    "baseTableName": null,
                                    "columnName": "EMPLOYEE_ID",
                                    "columnOrdinal": 0,
                                    "columnSize": 4,
                                    "isAliased": null,
                                    "isAutoIncrement": false,
                                    "isExpression": null,
                                    "isHidden": null,
                                    "isIdentity": false,
                                    "isKey": null,
                                    "isLong": false,
                                    "isReadOnly": false,
                                    "isUnique": false,
                                    "numericPrecision": 10,
                                    "numericScale": 255,
                                    "udtAssemblyQualifiedName": null,
                                    "dataType": "System.Int32, System.Private.CoreLib, Version=4.0.0.0, Culture=neutral, PublicKeyToken=7cec85d7bea7798e",
                                    "dataTypeName": "int"
                                },
                                {
                                    "isBytes": false,
                                    "isChars": true,
                                    "isSqlVariant": false,
                                    "isUdt": false,
                                    "isXml": false,
                                    "isJson": false,
                                    "sqlDbType": 22,
                                    "isHierarchyId": false,
                                    "isSqlXmlType": false,
                                    "isUnknownType": false,
                                    "isUpdatable": true,
                                    "allowDBNull": true,
                                    "baseCatalogName": null,
                                    "baseColumnName": null,
                                    "baseSchemaName": null,
                                    "baseServerName": null,
                                    "baseTableName": null,
                                    "columnName": "FIRST_NAME",
                                    "columnOrdinal": 1,
                                    "columnSize": 20,
                                    "isAliased": null,
                                    "isAutoIncrement": false,
                                    "isExpression": null,
                                    "isHidden": null,
                                    "isIdentity": false,
                                    "isKey": null,
                                    "isLong": false,
                                    "isReadOnly": false,
                                    "isUnique": false,
                                    "numericPrecision": 255,
                                    "numericScale": 255,
                                    "udtAssemblyQualifiedName": null,
                                    "dataType": "System.String, System.Private.CoreLib, Version=4.0.0.0, Culture=neutral, PublicKeyToken=7cec85d7bea7798e",
                                    "dataTypeName": "varchar"
                                },
                                {
                                    "isBytes": false,
                                    "isChars": true,
                                    "isSqlVariant": false,
                                    "isUdt": false,
                                    "isXml": false,
                                    "isJson": false,
                                    "sqlDbType": 22,
                                    "isHierarchyId": false,
                                    "isSqlXmlType": false,
                                    "isUnknownType": false,
                                    "isUpdatable": true,
                                    "allowDBNull": true,
                                    "baseCatalogName": null,
                                    "baseColumnName": null,
                                    "baseSchemaName": null,
                                    "baseServerName": null,
                                    "baseTableName": null,
                                    "columnName": "LAST_NAME",
                                    "columnOrdinal": 2,
                                    "columnSize": 20,
                                    "isAliased": null,
                                    "isAutoIncrement": false,
                                    "isExpression": null,
                                    "isHidden": null,
                                    "isIdentity": false,
                                    "isKey": null,
                                    "isLong": false,
                                    "isReadOnly": false,
                                    "isUnique": false,
                                    "numericPrecision": 255,
                                    "numericScale": 255,
                                    "udtAssemblyQualifiedName": null,
                                    "dataType": "System.String, System.Private.CoreLib, Version=4.0.0.0, Culture=neutral, PublicKeyToken=7cec85d7bea7798e",
                                    "dataTypeName": "varchar"
                                },
                                {
                                    "isBytes": false,
                                    "isChars": false,
                                    "isSqlVariant": false,
                                    "isUdt": false,
                                    "isXml": false,
                                    "isJson": false,
                                    "sqlDbType": 4,
                                    "isHierarchyId": false,
                                    "isSqlXmlType": false,
                                    "isUnknownType": false,
                                    "isUpdatable": true,
                                    "allowDBNull": true,
                                    "baseCatalogName": null,
                                    "baseColumnName": null,
                                    "baseSchemaName": null,
                                    "baseServerName": null,
                                    "baseTableName": null,
                                    "columnName": "HIRE_DAT",
                                    "columnOrdinal": 3,
                                    "columnSize": 8,
                                    "isAliased": null,
                                    "isAutoIncrement": false,
                                    "isExpression": null,
                                    "isHidden": null,
                                    "isIdentity": false,
                                    "isKey": null,
                                    "isLong": false,
                                    "isReadOnly": false,
                                    "isUnique": false,
                                    "numericPrecision": 23,
                                    "numericScale": 3,
                                    "udtAssemblyQualifiedName": null,
                                    "dataType": "System.DateTime, System.Private.CoreLib, Version=4.0.0.0, Culture=neutral, PublicKeyToken=7cec85d7bea7798e",
                                    "dataTypeName": "datetime"
                                },
                                {
                                    "isBytes": false,
                                    "isChars": false,
                                    "isSqlVariant": false,
                                    "isUdt": false,
                                    "isXml": false,
                                    "isJson": false,
                                    "sqlDbType": 8,
                                    "isHierarchyId": false,
                                    "isSqlXmlType": false,
                                    "isUnknownType": false,
                                    "isUpdatable": true,
                                    "allowDBNull": true,
                                    "baseCatalogName": null,
                                    "baseColumnName": null,
                                    "baseSchemaName": null,
                                    "baseServerName": null,
                                    "baseTableName": null,
                                    "columnName": "SALARY",
                                    "columnOrdinal": 4,
                                    "columnSize": 4,
                                    "isAliased": null,
                                    "isAutoIncrement": false,
                                    "isExpression": null,
                                    "isHidden": null,
                                    "isIdentity": false,
                                    "isKey": null,
                                    "isLong": false,
                                    "isReadOnly": false,
                                    "isUnique": false,
                                    "numericPrecision": 10,
                                    "numericScale": 255,
                                    "udtAssemblyQualifiedName": null,
                                    "dataType": "System.Int32, System.Private.CoreLib, Version=4.0.0.0, Culture=neutral, PublicKeyToken=7cec85d7bea7798e",
                                    "dataTypeName": "int"
                                }
                            ],
                            "specialAction": {
                                "none": true,
                                "expectYukonXMLShowPlan": false
                            }
                        }
                    }
                }
            ],
            "execution_count": 84
        },
        {
            "cell_type": "code",
            "source": [
                "SELECT distinct Job_id from employees;"
            ],
            "metadata": {
                "azdata_cell_guid": "eb7857d4-36ac-458c-b4f8-714442f7407a"
            },
            "outputs": [
                {
                    "output_type": "display_data",
                    "data": {
                        "text/html": "(13 rows affected)"
                    },
                    "metadata": {}
                },
                {
                    "output_type": "display_data",
                    "data": {
                        "text/html": "Total execution time: 00:00:00.068"
                    },
                    "metadata": {}
                },
                {
                    "output_type": "execute_result",
                    "execution_count": 85,
                    "data": {
                        "application/vnd.dataresource+json": {
                            "schema": {
                                "fields": [
                                    {
                                        "name": "Job_id"
                                    }
                                ]
                            },
                            "data": [
                                {
                                    "0": "AC_ACCOUNT"
                                },
                                {
                                    "0": "AC_MGR"
                                },
                                {
                                    "0": "AD_ASST"
                                },
                                {
                                    "0": "AD_PRES"
                                },
                                {
                                    "0": "AD_VP"
                                },
                                {
                                    "0": "IT-PROG"
                                },
                                {
                                    "0": "IT_PROG"
                                },
                                {
                                    "0": "MK_MAN"
                                },
                                {
                                    "0": "MK_REP"
                                },
                                {
                                    "0": "SA_MAN"
                                },
                                {
                                    "0": "SA_REP"
                                },
                                {
                                    "0": "SH_CLERK"
                                },
                                {
                                    "0": "SH_MAN"
                                }
                            ]
                        },
                        "text/html": "<table><tr><th>Job_id</th></tr><tr><td>AC_ACCOUNT</td></tr><tr><td>AC_MGR</td></tr><tr><td>AD_ASST</td></tr><tr><td>AD_PRES</td></tr><tr><td>AD_VP</td></tr><tr><td>IT-PROG</td></tr><tr><td>IT_PROG</td></tr><tr><td>MK_MAN</td></tr><tr><td>MK_REP</td></tr><tr><td>SA_MAN</td></tr><tr><td>SA_REP</td></tr><tr><td>SH_CLERK</td></tr><tr><td>SH_MAN</td></tr></table>"
                    },
                    "metadata": {
                        "resultSet": {
                            "id": 0,
                            "batchId": 0,
                            "rowCount": 13,
                            "complete": true,
                            "columnInfo": [
                                {
                                    "isBytes": false,
                                    "isChars": true,
                                    "isSqlVariant": false,
                                    "isUdt": false,
                                    "isXml": false,
                                    "isJson": false,
                                    "sqlDbType": 22,
                                    "isHierarchyId": false,
                                    "isSqlXmlType": false,
                                    "isUnknownType": false,
                                    "isUpdatable": true,
                                    "allowDBNull": true,
                                    "baseCatalogName": null,
                                    "baseColumnName": null,
                                    "baseSchemaName": null,
                                    "baseServerName": null,
                                    "baseTableName": null,
                                    "columnName": "Job_id",
                                    "columnOrdinal": 0,
                                    "columnSize": 20,
                                    "isAliased": null,
                                    "isAutoIncrement": false,
                                    "isExpression": null,
                                    "isHidden": null,
                                    "isIdentity": false,
                                    "isKey": null,
                                    "isLong": false,
                                    "isReadOnly": false,
                                    "isUnique": false,
                                    "numericPrecision": 255,
                                    "numericScale": 255,
                                    "udtAssemblyQualifiedName": null,
                                    "dataType": "System.String, System.Private.CoreLib, Version=4.0.0.0, Culture=neutral, PublicKeyToken=7cec85d7bea7798e",
                                    "dataTypeName": "varchar"
                                }
                            ],
                            "specialAction": {
                                "none": true,
                                "expectYukonXMLShowPlan": false
                            }
                        }
                    }
                }
            ],
            "execution_count": 85
        },
        {
            "cell_type": "code",
            "source": [
                "UPDATE employees\n",
                "set job_id = REPLACE(job_id, 'IT-PROG', 'IT_PROG')\n",
                "WHERE job_id = 'IT-PROG';"
            ],
            "metadata": {
                "azdata_cell_guid": "5f38849a-7811-4df8-9a87-c0e52ee5728a",
                "tags": []
            },
            "outputs": [
                {
                    "output_type": "display_data",
                    "data": {
                        "text/html": "(1 row affected)"
                    },
                    "metadata": {}
                },
                {
                    "output_type": "display_data",
                    "data": {
                        "text/html": "Total execution time: 00:00:00.040"
                    },
                    "metadata": {}
                }
            ],
            "execution_count": 86
        },
        {
            "cell_type": "code",
            "source": [
                "SELECT distinct Job_id from employees;"
            ],
            "metadata": {
                "azdata_cell_guid": "9f84c826-4503-4892-98af-4773e85de113"
            },
            "outputs": [
                {
                    "output_type": "display_data",
                    "data": {
                        "text/html": "(12 rows affected)"
                    },
                    "metadata": {}
                },
                {
                    "output_type": "display_data",
                    "data": {
                        "text/html": "Total execution time: 00:00:00.011"
                    },
                    "metadata": {}
                },
                {
                    "output_type": "execute_result",
                    "execution_count": 87,
                    "data": {
                        "application/vnd.dataresource+json": {
                            "schema": {
                                "fields": [
                                    {
                                        "name": "Job_id"
                                    }
                                ]
                            },
                            "data": [
                                {
                                    "0": "AC_ACCOUNT"
                                },
                                {
                                    "0": "AC_MGR"
                                },
                                {
                                    "0": "AD_ASST"
                                },
                                {
                                    "0": "AD_PRES"
                                },
                                {
                                    "0": "AD_VP"
                                },
                                {
                                    "0": "IT_PROG"
                                },
                                {
                                    "0": "MK_MAN"
                                },
                                {
                                    "0": "MK_REP"
                                },
                                {
                                    "0": "SA_MAN"
                                },
                                {
                                    "0": "SA_REP"
                                },
                                {
                                    "0": "SH_CLERK"
                                },
                                {
                                    "0": "SH_MAN"
                                }
                            ]
                        },
                        "text/html": "<table><tr><th>Job_id</th></tr><tr><td>AC_ACCOUNT</td></tr><tr><td>AC_MGR</td></tr><tr><td>AD_ASST</td></tr><tr><td>AD_PRES</td></tr><tr><td>AD_VP</td></tr><tr><td>IT_PROG</td></tr><tr><td>MK_MAN</td></tr><tr><td>MK_REP</td></tr><tr><td>SA_MAN</td></tr><tr><td>SA_REP</td></tr><tr><td>SH_CLERK</td></tr><tr><td>SH_MAN</td></tr></table>"
                    },
                    "metadata": {
                        "resultSet": {
                            "id": 0,
                            "batchId": 0,
                            "rowCount": 12,
                            "complete": true,
                            "columnInfo": [
                                {
                                    "isBytes": false,
                                    "isChars": true,
                                    "isSqlVariant": false,
                                    "isUdt": false,
                                    "isXml": false,
                                    "isJson": false,
                                    "sqlDbType": 22,
                                    "isHierarchyId": false,
                                    "isSqlXmlType": false,
                                    "isUnknownType": false,
                                    "isUpdatable": true,
                                    "allowDBNull": true,
                                    "baseCatalogName": null,
                                    "baseColumnName": null,
                                    "baseSchemaName": null,
                                    "baseServerName": null,
                                    "baseTableName": null,
                                    "columnName": "Job_id",
                                    "columnOrdinal": 0,
                                    "columnSize": 20,
                                    "isAliased": null,
                                    "isAutoIncrement": false,
                                    "isExpression": null,
                                    "isHidden": null,
                                    "isIdentity": false,
                                    "isKey": null,
                                    "isLong": false,
                                    "isReadOnly": false,
                                    "isUnique": false,
                                    "numericPrecision": 255,
                                    "numericScale": 255,
                                    "udtAssemblyQualifiedName": null,
                                    "dataType": "System.String, System.Private.CoreLib, Version=4.0.0.0, Culture=neutral, PublicKeyToken=7cec85d7bea7798e",
                                    "dataTypeName": "varchar"
                                }
                            ],
                            "specialAction": {
                                "none": true,
                                "expectYukonXMLShowPlan": false
                            }
                        }
                    }
                }
            ],
            "execution_count": 87
        },
        {
            "cell_type": "code",
            "source": [
                "select * from employees\n",
                "where salary>5000;"
            ],
            "metadata": {
                "azdata_cell_guid": "452f622b-d7e8-40ab-a71f-760900ad3e9a"
            },
            "outputs": [
                {
                    "output_type": "display_data",
                    "data": {
                        "text/html": "(14 rows affected)"
                    },
                    "metadata": {}
                },
                {
                    "output_type": "display_data",
                    "data": {
                        "text/html": "Total execution time: 00:00:00.082"
                    },
                    "metadata": {}
                },
                {
                    "output_type": "execute_result",
                    "execution_count": 89,
                    "data": {
                        "application/vnd.dataresource+json": {
                            "schema": {
                                "fields": [
                                    {
                                        "name": "EMPLOYEE_ID"
                                    },
                                    {
                                        "name": "FIRST_NAME"
                                    },
                                    {
                                        "name": "LAST_NAME"
                                    },
                                    {
                                        "name": "EMAIL"
                                    },
                                    {
                                        "name": "PHONE_NUMBER"
                                    },
                                    {
                                        "name": "HIRE_DAT"
                                    },
                                    {
                                        "name": "JOB_ID"
                                    },
                                    {
                                        "name": "SALARY"
                                    }
                                ]
                            },
                            "data": [
                                {
                                    "0": "100",
                                    "1": "Steven",
                                    "2": "King",
                                    "3": "SKING",
                                    "4": "515.123.4567",
                                    "5": "1987-06-17 00:00:00.000",
                                    "6": "AD_PRES",
                                    "7": "24000"
                                },
                                {
                                    "0": "101",
                                    "1": "Neena",
                                    "2": "Kochhar",
                                    "3": "NKOCHAR",
                                    "4": "515.123.4568",
                                    "5": "1989-09-21 00:00:00.000",
                                    "6": "AD_VP",
                                    "7": "17000"
                                },
                                {
                                    "0": "102",
                                    "1": "Lex",
                                    "2": "De Haan",
                                    "3": "LDEHAAN",
                                    "4": "515.123.4569",
                                    "5": "1993-03-13 00:00:00.000",
                                    "6": "AD_VP",
                                    "7": "17000"
                                },
                                {
                                    "0": "103",
                                    "1": "Alex",
                                    "2": "Hunold",
                                    "3": "AHUNOLD",
                                    "4": "590.423.4567",
                                    "5": "1990-01-03 00:00:00.000",
                                    "6": "IT_PROG",
                                    "7": "9000"
                                },
                                {
                                    "0": "104",
                                    "1": "Bruce",
                                    "2": "Ernst",
                                    "3": "BERNST",
                                    "4": "590.423.4568",
                                    "5": "1991-05-21 00:00:00.000",
                                    "6": "IT_PROG",
                                    "7": "6000"
                                },
                                {
                                    "0": "124",
                                    "1": "Kevin",
                                    "2": "Morgous",
                                    "3": "KMORGOUS",
                                    "4": "650.123.5234",
                                    "5": "1999-11-16 00:00:00.000",
                                    "6": "SH_MAN",
                                    "7": "5800"
                                },
                                {
                                    "0": "149",
                                    "1": "Eleni",
                                    "2": "Zlotkey",
                                    "3": "EZLOTKEY",
                                    "4": "011.44.1344.429018",
                                    "5": "2000-01-29 00:00:00.000",
                                    "6": "SA_MAN",
                                    "7": "10500"
                                },
                                {
                                    "0": "174",
                                    "1": "Ellen",
                                    "2": "Abel",
                                    "3": "EABEL",
                                    "4": "011.44.1644.429267",
                                    "5": "1996-05-11 00:00:00.000",
                                    "6": "SA_REP",
                                    "7": "11000"
                                },
                                {
                                    "0": "176",
                                    "1": "Jonathon",
                                    "2": "Taylor",
                                    "3": "JTAYLOR",
                                    "4": "011.44.1644.429265",
                                    "5": "1998-03-24 00:00:00.000",
                                    "6": "SA_REP",
                                    "7": "8600"
                                },
                                {
                                    "0": "178",
                                    "1": "Kimberely",
                                    "2": "Grant",
                                    "3": "KGRANT",
                                    "4": "011.44.1644.429263",
                                    "5": "1999-05-24 00:00:00.000",
                                    "6": "SA_REP",
                                    "7": "7000"
                                },
                                {
                                    "0": "201",
                                    "1": "Michael",
                                    "2": "Hartstein",
                                    "3": "MHARTSTE",
                                    "4": "515.123.5555",
                                    "5": "1996-02-17 00:00:00.000",
                                    "6": "MK_MAN",
                                    "7": "13000"
                                },
                                {
                                    "0": "202",
                                    "1": "Pat",
                                    "2": "Fay",
                                    "3": "PFAY",
                                    "4": "603.123.6666",
                                    "5": "1997-08-17 00:00:00.000",
                                    "6": "MK_REP",
                                    "7": "6000"
                                },
                                {
                                    "0": "205",
                                    "1": "Shelley",
                                    "2": "Higgins",
                                    "3": "SHIGGINS",
                                    "4": "515.123.8080",
                                    "5": "1994-06-07 00:00:00.000",
                                    "6": "AC_MGR",
                                    "7": "12000"
                                },
                                {
                                    "0": "206",
                                    "1": "William",
                                    "2": "Gietz",
                                    "3": "WGIETZ",
                                    "4": "515.123.8181",
                                    "5": "1994-06-07 00:00:00.000",
                                    "6": "AC_ACCOUNT",
                                    "7": "8300"
                                }
                            ]
                        },
                        "text/html": "<table><tr><th>EMPLOYEE_ID</th><th>FIRST_NAME</th><th>LAST_NAME</th><th>EMAIL</th><th>PHONE_NUMBER</th><th>HIRE_DAT</th><th>JOB_ID</th><th>SALARY</th></tr><tr><td>100</td><td>Steven</td><td>King</td><td>SKING</td><td>515.123.4567</td><td>1987-06-17 00:00:00.000</td><td>AD_PRES</td><td>24000</td></tr><tr><td>101</td><td>Neena</td><td>Kochhar</td><td>NKOCHAR</td><td>515.123.4568</td><td>1989-09-21 00:00:00.000</td><td>AD_VP</td><td>17000</td></tr><tr><td>102</td><td>Lex</td><td>De Haan</td><td>LDEHAAN</td><td>515.123.4569</td><td>1993-03-13 00:00:00.000</td><td>AD_VP</td><td>17000</td></tr><tr><td>103</td><td>Alex</td><td>Hunold</td><td>AHUNOLD</td><td>590.423.4567</td><td>1990-01-03 00:00:00.000</td><td>IT_PROG</td><td>9000</td></tr><tr><td>104</td><td>Bruce</td><td>Ernst</td><td>BERNST</td><td>590.423.4568</td><td>1991-05-21 00:00:00.000</td><td>IT_PROG</td><td>6000</td></tr><tr><td>124</td><td>Kevin</td><td>Morgous</td><td>KMORGOUS</td><td>650.123.5234</td><td>1999-11-16 00:00:00.000</td><td>SH_MAN</td><td>5800</td></tr><tr><td>149</td><td>Eleni</td><td>Zlotkey</td><td>EZLOTKEY</td><td>011.44.1344.429018</td><td>2000-01-29 00:00:00.000</td><td>SA_MAN</td><td>10500</td></tr><tr><td>174</td><td>Ellen</td><td>Abel</td><td>EABEL</td><td>011.44.1644.429267</td><td>1996-05-11 00:00:00.000</td><td>SA_REP</td><td>11000</td></tr><tr><td>176</td><td>Jonathon</td><td>Taylor</td><td>JTAYLOR</td><td>011.44.1644.429265</td><td>1998-03-24 00:00:00.000</td><td>SA_REP</td><td>8600</td></tr><tr><td>178</td><td>Kimberely</td><td>Grant</td><td>KGRANT</td><td>011.44.1644.429263</td><td>1999-05-24 00:00:00.000</td><td>SA_REP</td><td>7000</td></tr><tr><td>201</td><td>Michael</td><td>Hartstein</td><td>MHARTSTE</td><td>515.123.5555</td><td>1996-02-17 00:00:00.000</td><td>MK_MAN</td><td>13000</td></tr><tr><td>202</td><td>Pat</td><td>Fay</td><td>PFAY</td><td>603.123.6666</td><td>1997-08-17 00:00:00.000</td><td>MK_REP</td><td>6000</td></tr><tr><td>205</td><td>Shelley</td><td>Higgins</td><td>SHIGGINS</td><td>515.123.8080</td><td>1994-06-07 00:00:00.000</td><td>AC_MGR</td><td>12000</td></tr><tr><td>206</td><td>William</td><td>Gietz</td><td>WGIETZ</td><td>515.123.8181</td><td>1994-06-07 00:00:00.000</td><td>AC_ACCOUNT</td><td>8300</td></tr></table>"
                    },
                    "metadata": {
                        "resultSet": {
                            "id": 0,
                            "batchId": 0,
                            "rowCount": 14,
                            "complete": true,
                            "columnInfo": [
                                {
                                    "isBytes": false,
                                    "isChars": false,
                                    "isSqlVariant": false,
                                    "isUdt": false,
                                    "isXml": false,
                                    "isJson": false,
                                    "sqlDbType": 8,
                                    "isHierarchyId": false,
                                    "isSqlXmlType": false,
                                    "isUnknownType": false,
                                    "isUpdatable": true,
                                    "allowDBNull": true,
                                    "baseCatalogName": null,
                                    "baseColumnName": null,
                                    "baseSchemaName": null,
                                    "baseServerName": null,
                                    "baseTableName": null,
                                    "columnName": "EMPLOYEE_ID",
                                    "columnOrdinal": 0,
                                    "columnSize": 4,
                                    "isAliased": null,
                                    "isAutoIncrement": false,
                                    "isExpression": null,
                                    "isHidden": null,
                                    "isIdentity": false,
                                    "isKey": null,
                                    "isLong": false,
                                    "isReadOnly": false,
                                    "isUnique": false,
                                    "numericPrecision": 10,
                                    "numericScale": 255,
                                    "udtAssemblyQualifiedName": null,
                                    "dataType": "System.Int32, System.Private.CoreLib, Version=4.0.0.0, Culture=neutral, PublicKeyToken=7cec85d7bea7798e",
                                    "dataTypeName": "int"
                                },
                                {
                                    "isBytes": false,
                                    "isChars": true,
                                    "isSqlVariant": false,
                                    "isUdt": false,
                                    "isXml": false,
                                    "isJson": false,
                                    "sqlDbType": 22,
                                    "isHierarchyId": false,
                                    "isSqlXmlType": false,
                                    "isUnknownType": false,
                                    "isUpdatable": true,
                                    "allowDBNull": true,
                                    "baseCatalogName": null,
                                    "baseColumnName": null,
                                    "baseSchemaName": null,
                                    "baseServerName": null,
                                    "baseTableName": null,
                                    "columnName": "FIRST_NAME",
                                    "columnOrdinal": 1,
                                    "columnSize": 20,
                                    "isAliased": null,
                                    "isAutoIncrement": false,
                                    "isExpression": null,
                                    "isHidden": null,
                                    "isIdentity": false,
                                    "isKey": null,
                                    "isLong": false,
                                    "isReadOnly": false,
                                    "isUnique": false,
                                    "numericPrecision": 255,
                                    "numericScale": 255,
                                    "udtAssemblyQualifiedName": null,
                                    "dataType": "System.String, System.Private.CoreLib, Version=4.0.0.0, Culture=neutral, PublicKeyToken=7cec85d7bea7798e",
                                    "dataTypeName": "varchar"
                                },
                                {
                                    "isBytes": false,
                                    "isChars": true,
                                    "isSqlVariant": false,
                                    "isUdt": false,
                                    "isXml": false,
                                    "isJson": false,
                                    "sqlDbType": 22,
                                    "isHierarchyId": false,
                                    "isSqlXmlType": false,
                                    "isUnknownType": false,
                                    "isUpdatable": true,
                                    "allowDBNull": true,
                                    "baseCatalogName": null,
                                    "baseColumnName": null,
                                    "baseSchemaName": null,
                                    "baseServerName": null,
                                    "baseTableName": null,
                                    "columnName": "LAST_NAME",
                                    "columnOrdinal": 2,
                                    "columnSize": 20,
                                    "isAliased": null,
                                    "isAutoIncrement": false,
                                    "isExpression": null,
                                    "isHidden": null,
                                    "isIdentity": false,
                                    "isKey": null,
                                    "isLong": false,
                                    "isReadOnly": false,
                                    "isUnique": false,
                                    "numericPrecision": 255,
                                    "numericScale": 255,
                                    "udtAssemblyQualifiedName": null,
                                    "dataType": "System.String, System.Private.CoreLib, Version=4.0.0.0, Culture=neutral, PublicKeyToken=7cec85d7bea7798e",
                                    "dataTypeName": "varchar"
                                },
                                {
                                    "isBytes": false,
                                    "isChars": true,
                                    "isSqlVariant": false,
                                    "isUdt": false,
                                    "isXml": false,
                                    "isJson": false,
                                    "sqlDbType": 22,
                                    "isHierarchyId": false,
                                    "isSqlXmlType": false,
                                    "isUnknownType": false,
                                    "isUpdatable": true,
                                    "allowDBNull": true,
                                    "baseCatalogName": null,
                                    "baseColumnName": null,
                                    "baseSchemaName": null,
                                    "baseServerName": null,
                                    "baseTableName": null,
                                    "columnName": "EMAIL",
                                    "columnOrdinal": 3,
                                    "columnSize": 40,
                                    "isAliased": null,
                                    "isAutoIncrement": false,
                                    "isExpression": null,
                                    "isHidden": null,
                                    "isIdentity": false,
                                    "isKey": null,
                                    "isLong": false,
                                    "isReadOnly": false,
                                    "isUnique": false,
                                    "numericPrecision": 255,
                                    "numericScale": 255,
                                    "udtAssemblyQualifiedName": null,
                                    "dataType": "System.String, System.Private.CoreLib, Version=4.0.0.0, Culture=neutral, PublicKeyToken=7cec85d7bea7798e",
                                    "dataTypeName": "varchar"
                                },
                                {
                                    "isBytes": false,
                                    "isChars": true,
                                    "isSqlVariant": false,
                                    "isUdt": false,
                                    "isXml": false,
                                    "isJson": false,
                                    "sqlDbType": 22,
                                    "isHierarchyId": false,
                                    "isSqlXmlType": false,
                                    "isUnknownType": false,
                                    "isUpdatable": true,
                                    "allowDBNull": true,
                                    "baseCatalogName": null,
                                    "baseColumnName": null,
                                    "baseSchemaName": null,
                                    "baseServerName": null,
                                    "baseTableName": null,
                                    "columnName": "PHONE_NUMBER",
                                    "columnOrdinal": 4,
                                    "columnSize": 20,
                                    "isAliased": null,
                                    "isAutoIncrement": false,
                                    "isExpression": null,
                                    "isHidden": null,
                                    "isIdentity": false,
                                    "isKey": null,
                                    "isLong": false,
                                    "isReadOnly": false,
                                    "isUnique": false,
                                    "numericPrecision": 255,
                                    "numericScale": 255,
                                    "udtAssemblyQualifiedName": null,
                                    "dataType": "System.String, System.Private.CoreLib, Version=4.0.0.0, Culture=neutral, PublicKeyToken=7cec85d7bea7798e",
                                    "dataTypeName": "varchar"
                                },
                                {
                                    "isBytes": false,
                                    "isChars": false,
                                    "isSqlVariant": false,
                                    "isUdt": false,
                                    "isXml": false,
                                    "isJson": false,
                                    "sqlDbType": 4,
                                    "isHierarchyId": false,
                                    "isSqlXmlType": false,
                                    "isUnknownType": false,
                                    "isUpdatable": true,
                                    "allowDBNull": true,
                                    "baseCatalogName": null,
                                    "baseColumnName": null,
                                    "baseSchemaName": null,
                                    "baseServerName": null,
                                    "baseTableName": null,
                                    "columnName": "HIRE_DAT",
                                    "columnOrdinal": 5,
                                    "columnSize": 8,
                                    "isAliased": null,
                                    "isAutoIncrement": false,
                                    "isExpression": null,
                                    "isHidden": null,
                                    "isIdentity": false,
                                    "isKey": null,
                                    "isLong": false,
                                    "isReadOnly": false,
                                    "isUnique": false,
                                    "numericPrecision": 23,
                                    "numericScale": 3,
                                    "udtAssemblyQualifiedName": null,
                                    "dataType": "System.DateTime, System.Private.CoreLib, Version=4.0.0.0, Culture=neutral, PublicKeyToken=7cec85d7bea7798e",
                                    "dataTypeName": "datetime"
                                },
                                {
                                    "isBytes": false,
                                    "isChars": true,
                                    "isSqlVariant": false,
                                    "isUdt": false,
                                    "isXml": false,
                                    "isJson": false,
                                    "sqlDbType": 22,
                                    "isHierarchyId": false,
                                    "isSqlXmlType": false,
                                    "isUnknownType": false,
                                    "isUpdatable": true,
                                    "allowDBNull": true,
                                    "baseCatalogName": null,
                                    "baseColumnName": null,
                                    "baseSchemaName": null,
                                    "baseServerName": null,
                                    "baseTableName": null,
                                    "columnName": "JOB_ID",
                                    "columnOrdinal": 6,
                                    "columnSize": 20,
                                    "isAliased": null,
                                    "isAutoIncrement": false,
                                    "isExpression": null,
                                    "isHidden": null,
                                    "isIdentity": false,
                                    "isKey": null,
                                    "isLong": false,
                                    "isReadOnly": false,
                                    "isUnique": false,
                                    "numericPrecision": 255,
                                    "numericScale": 255,
                                    "udtAssemblyQualifiedName": null,
                                    "dataType": "System.String, System.Private.CoreLib, Version=4.0.0.0, Culture=neutral, PublicKeyToken=7cec85d7bea7798e",
                                    "dataTypeName": "varchar"
                                },
                                {
                                    "isBytes": false,
                                    "isChars": false,
                                    "isSqlVariant": false,
                                    "isUdt": false,
                                    "isXml": false,
                                    "isJson": false,
                                    "sqlDbType": 8,
                                    "isHierarchyId": false,
                                    "isSqlXmlType": false,
                                    "isUnknownType": false,
                                    "isUpdatable": true,
                                    "allowDBNull": true,
                                    "baseCatalogName": null,
                                    "baseColumnName": null,
                                    "baseSchemaName": null,
                                    "baseServerName": null,
                                    "baseTableName": null,
                                    "columnName": "SALARY",
                                    "columnOrdinal": 7,
                                    "columnSize": 4,
                                    "isAliased": null,
                                    "isAutoIncrement": false,
                                    "isExpression": null,
                                    "isHidden": null,
                                    "isIdentity": false,
                                    "isKey": null,
                                    "isLong": false,
                                    "isReadOnly": false,
                                    "isUnique": false,
                                    "numericPrecision": 10,
                                    "numericScale": 255,
                                    "udtAssemblyQualifiedName": null,
                                    "dataType": "System.Int32, System.Private.CoreLib, Version=4.0.0.0, Culture=neutral, PublicKeyToken=7cec85d7bea7798e",
                                    "dataTypeName": "int"
                                }
                            ],
                            "specialAction": {
                                "none": true,
                                "expectYukonXMLShowPlan": false
                            }
                        }
                    }
                }
            ],
            "execution_count": 89
        },
        {
            "cell_type": "code",
            "source": [
                "select employee_id, last_name, first_name, job_id from employees\n",
                "where salary BETWEEN 4000 and 7000;"
            ],
            "metadata": {
                "azdata_cell_guid": "14d8f35c-bcec-4c66-a35e-3ce05919e6f9"
            },
            "outputs": [
                {
                    "output_type": "display_data",
                    "data": {
                        "text/html": "(6 rows affected)"
                    },
                    "metadata": {}
                },
                {
                    "output_type": "display_data",
                    "data": {
                        "text/html": "Total execution time: 00:00:00.030"
                    },
                    "metadata": {}
                },
                {
                    "output_type": "execute_result",
                    "execution_count": 91,
                    "data": {
                        "application/vnd.dataresource+json": {
                            "schema": {
                                "fields": [
                                    {
                                        "name": "employee_id"
                                    },
                                    {
                                        "name": "last_name"
                                    },
                                    {
                                        "name": "first_name"
                                    },
                                    {
                                        "name": "job_id"
                                    }
                                ]
                            },
                            "data": [
                                {
                                    "0": "104",
                                    "1": "Ernst",
                                    "2": "Bruce",
                                    "3": "IT_PROG"
                                },
                                {
                                    "0": "107",
                                    "1": "Lorentz",
                                    "2": "Diana",
                                    "3": "IT_PROG"
                                },
                                {
                                    "0": "124",
                                    "1": "Morgous",
                                    "2": "Kevin",
                                    "3": "SH_MAN"
                                },
                                {
                                    "0": "178",
                                    "1": "Grant",
                                    "2": "Kimberely",
                                    "3": "SA_REP"
                                },
                                {
                                    "0": "200",
                                    "1": "Whalen",
                                    "2": "Jennifer",
                                    "3": "AD_ASST"
                                },
                                {
                                    "0": "202",
                                    "1": "Fay",
                                    "2": "Pat",
                                    "3": "MK_REP"
                                }
                            ]
                        },
                        "text/html": "<table><tr><th>employee_id</th><th>last_name</th><th>first_name</th><th>job_id</th></tr><tr><td>104</td><td>Ernst</td><td>Bruce</td><td>IT_PROG</td></tr><tr><td>107</td><td>Lorentz</td><td>Diana</td><td>IT_PROG</td></tr><tr><td>124</td><td>Morgous</td><td>Kevin</td><td>SH_MAN</td></tr><tr><td>178</td><td>Grant</td><td>Kimberely</td><td>SA_REP</td></tr><tr><td>200</td><td>Whalen</td><td>Jennifer</td><td>AD_ASST</td></tr><tr><td>202</td><td>Fay</td><td>Pat</td><td>MK_REP</td></tr></table>"
                    },
                    "metadata": {
                        "resultSet": {
                            "id": 0,
                            "batchId": 0,
                            "rowCount": 6,
                            "complete": true,
                            "columnInfo": [
                                {
                                    "isBytes": false,
                                    "isChars": false,
                                    "isSqlVariant": false,
                                    "isUdt": false,
                                    "isXml": false,
                                    "isJson": false,
                                    "sqlDbType": 8,
                                    "isHierarchyId": false,
                                    "isSqlXmlType": false,
                                    "isUnknownType": false,
                                    "isUpdatable": true,
                                    "allowDBNull": true,
                                    "baseCatalogName": null,
                                    "baseColumnName": null,
                                    "baseSchemaName": null,
                                    "baseServerName": null,
                                    "baseTableName": null,
                                    "columnName": "employee_id",
                                    "columnOrdinal": 0,
                                    "columnSize": 4,
                                    "isAliased": null,
                                    "isAutoIncrement": false,
                                    "isExpression": null,
                                    "isHidden": null,
                                    "isIdentity": false,
                                    "isKey": null,
                                    "isLong": false,
                                    "isReadOnly": false,
                                    "isUnique": false,
                                    "numericPrecision": 10,
                                    "numericScale": 255,
                                    "udtAssemblyQualifiedName": null,
                                    "dataType": "System.Int32, System.Private.CoreLib, Version=4.0.0.0, Culture=neutral, PublicKeyToken=7cec85d7bea7798e",
                                    "dataTypeName": "int"
                                },
                                {
                                    "isBytes": false,
                                    "isChars": true,
                                    "isSqlVariant": false,
                                    "isUdt": false,
                                    "isXml": false,
                                    "isJson": false,
                                    "sqlDbType": 22,
                                    "isHierarchyId": false,
                                    "isSqlXmlType": false,
                                    "isUnknownType": false,
                                    "isUpdatable": true,
                                    "allowDBNull": true,
                                    "baseCatalogName": null,
                                    "baseColumnName": null,
                                    "baseSchemaName": null,
                                    "baseServerName": null,
                                    "baseTableName": null,
                                    "columnName": "last_name",
                                    "columnOrdinal": 1,
                                    "columnSize": 20,
                                    "isAliased": null,
                                    "isAutoIncrement": false,
                                    "isExpression": null,
                                    "isHidden": null,
                                    "isIdentity": false,
                                    "isKey": null,
                                    "isLong": false,
                                    "isReadOnly": false,
                                    "isUnique": false,
                                    "numericPrecision": 255,
                                    "numericScale": 255,
                                    "udtAssemblyQualifiedName": null,
                                    "dataType": "System.String, System.Private.CoreLib, Version=4.0.0.0, Culture=neutral, PublicKeyToken=7cec85d7bea7798e",
                                    "dataTypeName": "varchar"
                                },
                                {
                                    "isBytes": false,
                                    "isChars": true,
                                    "isSqlVariant": false,
                                    "isUdt": false,
                                    "isXml": false,
                                    "isJson": false,
                                    "sqlDbType": 22,
                                    "isHierarchyId": false,
                                    "isSqlXmlType": false,
                                    "isUnknownType": false,
                                    "isUpdatable": true,
                                    "allowDBNull": true,
                                    "baseCatalogName": null,
                                    "baseColumnName": null,
                                    "baseSchemaName": null,
                                    "baseServerName": null,
                                    "baseTableName": null,
                                    "columnName": "first_name",
                                    "columnOrdinal": 2,
                                    "columnSize": 20,
                                    "isAliased": null,
                                    "isAutoIncrement": false,
                                    "isExpression": null,
                                    "isHidden": null,
                                    "isIdentity": false,
                                    "isKey": null,
                                    "isLong": false,
                                    "isReadOnly": false,
                                    "isUnique": false,
                                    "numericPrecision": 255,
                                    "numericScale": 255,
                                    "udtAssemblyQualifiedName": null,
                                    "dataType": "System.String, System.Private.CoreLib, Version=4.0.0.0, Culture=neutral, PublicKeyToken=7cec85d7bea7798e",
                                    "dataTypeName": "varchar"
                                },
                                {
                                    "isBytes": false,
                                    "isChars": true,
                                    "isSqlVariant": false,
                                    "isUdt": false,
                                    "isXml": false,
                                    "isJson": false,
                                    "sqlDbType": 22,
                                    "isHierarchyId": false,
                                    "isSqlXmlType": false,
                                    "isUnknownType": false,
                                    "isUpdatable": true,
                                    "allowDBNull": true,
                                    "baseCatalogName": null,
                                    "baseColumnName": null,
                                    "baseSchemaName": null,
                                    "baseServerName": null,
                                    "baseTableName": null,
                                    "columnName": "job_id",
                                    "columnOrdinal": 3,
                                    "columnSize": 20,
                                    "isAliased": null,
                                    "isAutoIncrement": false,
                                    "isExpression": null,
                                    "isHidden": null,
                                    "isIdentity": false,
                                    "isKey": null,
                                    "isLong": false,
                                    "isReadOnly": false,
                                    "isUnique": false,
                                    "numericPrecision": 255,
                                    "numericScale": 255,
                                    "udtAssemblyQualifiedName": null,
                                    "dataType": "System.String, System.Private.CoreLib, Version=4.0.0.0, Culture=neutral, PublicKeyToken=7cec85d7bea7798e",
                                    "dataTypeName": "varchar"
                                }
                            ],
                            "specialAction": {
                                "none": true,
                                "expectYukonXMLShowPlan": false
                            }
                        }
                    }
                }
            ],
            "execution_count": 91
        },
        {
            "cell_type": "code",
            "source": [
                "select first_name, last_name from employees\n",
                "where salary<3000 or salary>9000"
            ],
            "metadata": {
                "azdata_cell_guid": "a13e425e-3cda-45c9-b4e0-259888fb49fb"
            },
            "outputs": [
                {
                    "output_type": "display_data",
                    "data": {
                        "text/html": "(9 rows affected)"
                    },
                    "metadata": {}
                },
                {
                    "output_type": "display_data",
                    "data": {
                        "text/html": "Total execution time: 00:00:00.015"
                    },
                    "metadata": {}
                },
                {
                    "output_type": "execute_result",
                    "execution_count": 92,
                    "data": {
                        "application/vnd.dataresource+json": {
                            "schema": {
                                "fields": [
                                    {
                                        "name": "first_name"
                                    },
                                    {
                                        "name": "last_name"
                                    }
                                ]
                            },
                            "data": [
                                {
                                    "0": "Steven",
                                    "1": "King"
                                },
                                {
                                    "0": "Neena",
                                    "1": "Kochhar"
                                },
                                {
                                    "0": "Lex",
                                    "1": "De Haan"
                                },
                                {
                                    "0": "Randall",
                                    "1": "Matos"
                                },
                                {
                                    "0": "Peter",
                                    "1": "Vargas"
                                },
                                {
                                    "0": "Eleni",
                                    "1": "Zlotkey"
                                },
                                {
                                    "0": "Ellen",
                                    "1": "Abel"
                                },
                                {
                                    "0": "Michael",
                                    "1": "Hartstein"
                                },
                                {
                                    "0": "Shelley",
                                    "1": "Higgins"
                                }
                            ]
                        },
                        "text/html": "<table><tr><th>first_name</th><th>last_name</th></tr><tr><td>Steven</td><td>King</td></tr><tr><td>Neena</td><td>Kochhar</td></tr><tr><td>Lex</td><td>De Haan</td></tr><tr><td>Randall</td><td>Matos</td></tr><tr><td>Peter</td><td>Vargas</td></tr><tr><td>Eleni</td><td>Zlotkey</td></tr><tr><td>Ellen</td><td>Abel</td></tr><tr><td>Michael</td><td>Hartstein</td></tr><tr><td>Shelley</td><td>Higgins</td></tr></table>"
                    },
                    "metadata": {
                        "resultSet": {
                            "id": 0,
                            "batchId": 0,
                            "rowCount": 9,
                            "complete": true,
                            "columnInfo": [
                                {
                                    "isBytes": false,
                                    "isChars": true,
                                    "isSqlVariant": false,
                                    "isUdt": false,
                                    "isXml": false,
                                    "isJson": false,
                                    "sqlDbType": 22,
                                    "isHierarchyId": false,
                                    "isSqlXmlType": false,
                                    "isUnknownType": false,
                                    "isUpdatable": true,
                                    "allowDBNull": true,
                                    "baseCatalogName": null,
                                    "baseColumnName": null,
                                    "baseSchemaName": null,
                                    "baseServerName": null,
                                    "baseTableName": null,
                                    "columnName": "first_name",
                                    "columnOrdinal": 0,
                                    "columnSize": 20,
                                    "isAliased": null,
                                    "isAutoIncrement": false,
                                    "isExpression": null,
                                    "isHidden": null,
                                    "isIdentity": false,
                                    "isKey": null,
                                    "isLong": false,
                                    "isReadOnly": false,
                                    "isUnique": false,
                                    "numericPrecision": 255,
                                    "numericScale": 255,
                                    "udtAssemblyQualifiedName": null,
                                    "dataType": "System.String, System.Private.CoreLib, Version=4.0.0.0, Culture=neutral, PublicKeyToken=7cec85d7bea7798e",
                                    "dataTypeName": "varchar"
                                },
                                {
                                    "isBytes": false,
                                    "isChars": true,
                                    "isSqlVariant": false,
                                    "isUdt": false,
                                    "isXml": false,
                                    "isJson": false,
                                    "sqlDbType": 22,
                                    "isHierarchyId": false,
                                    "isSqlXmlType": false,
                                    "isUnknownType": false,
                                    "isUpdatable": true,
                                    "allowDBNull": true,
                                    "baseCatalogName": null,
                                    "baseColumnName": null,
                                    "baseSchemaName": null,
                                    "baseServerName": null,
                                    "baseTableName": null,
                                    "columnName": "last_name",
                                    "columnOrdinal": 1,
                                    "columnSize": 20,
                                    "isAliased": null,
                                    "isAutoIncrement": false,
                                    "isExpression": null,
                                    "isHidden": null,
                                    "isIdentity": false,
                                    "isKey": null,
                                    "isLong": false,
                                    "isReadOnly": false,
                                    "isUnique": false,
                                    "numericPrecision": 255,
                                    "numericScale": 255,
                                    "udtAssemblyQualifiedName": null,
                                    "dataType": "System.String, System.Private.CoreLib, Version=4.0.0.0, Culture=neutral, PublicKeyToken=7cec85d7bea7798e",
                                    "dataTypeName": "varchar"
                                }
                            ],
                            "specialAction": {
                                "none": true,
                                "expectYukonXMLShowPlan": false
                            }
                        }
                    }
                }
            ],
            "execution_count": 92
        },
        {
            "cell_type": "code",
            "source": [
                "select employee_id, last_name, first_name, salary from employees\n",
                "where salary<10000;"
            ],
            "metadata": {
                "azdata_cell_guid": "06e144a5-f267-4b75-88ce-7506620b39b7"
            },
            "outputs": [
                {
                    "output_type": "display_data",
                    "data": {
                        "text/html": "(13 rows affected)"
                    },
                    "metadata": {}
                },
                {
                    "output_type": "display_data",
                    "data": {
                        "text/html": "Total execution time: 00:00:00.065"
                    },
                    "metadata": {}
                },
                {
                    "output_type": "execute_result",
                    "execution_count": 93,
                    "data": {
                        "application/vnd.dataresource+json": {
                            "schema": {
                                "fields": [
                                    {
                                        "name": "employee_id"
                                    },
                                    {
                                        "name": "last_name"
                                    },
                                    {
                                        "name": "first_name"
                                    },
                                    {
                                        "name": "salary"
                                    }
                                ]
                            },
                            "data": [
                                {
                                    "0": "103",
                                    "1": "Hunold",
                                    "2": "Alex",
                                    "3": "9000"
                                },
                                {
                                    "0": "104",
                                    "1": "Ernst",
                                    "2": "Bruce",
                                    "3": "6000"
                                },
                                {
                                    "0": "107",
                                    "1": "Lorentz",
                                    "2": "Diana",
                                    "3": "4200"
                                },
                                {
                                    "0": "124",
                                    "1": "Morgous",
                                    "2": "Kevin",
                                    "3": "5800"
                                },
                                {
                                    "0": "141",
                                    "1": "Rajs",
                                    "2": "Trenna",
                                    "3": "3500"
                                },
                                {
                                    "0": "142",
                                    "1": "Davies",
                                    "2": "Curtis",
                                    "3": "3100"
                                },
                                {
                                    "0": "143",
                                    "1": "Matos",
                                    "2": "Randall",
                                    "3": "2600"
                                },
                                {
                                    "0": "144",
                                    "1": "Vargas",
                                    "2": "Peter",
                                    "3": "2500"
                                },
                                {
                                    "0": "176",
                                    "1": "Taylor",
                                    "2": "Jonathon",
                                    "3": "8600"
                                },
                                {
                                    "0": "178",
                                    "1": "Grant",
                                    "2": "Kimberely",
                                    "3": "7000"
                                },
                                {
                                    "0": "200",
                                    "1": "Whalen",
                                    "2": "Jennifer",
                                    "3": "4400"
                                },
                                {
                                    "0": "202",
                                    "1": "Fay",
                                    "2": "Pat",
                                    "3": "6000"
                                },
                                {
                                    "0": "206",
                                    "1": "Gietz",
                                    "2": "William",
                                    "3": "8300"
                                }
                            ]
                        },
                        "text/html": "<table><tr><th>employee_id</th><th>last_name</th><th>first_name</th><th>salary</th></tr><tr><td>103</td><td>Hunold</td><td>Alex</td><td>9000</td></tr><tr><td>104</td><td>Ernst</td><td>Bruce</td><td>6000</td></tr><tr><td>107</td><td>Lorentz</td><td>Diana</td><td>4200</td></tr><tr><td>124</td><td>Morgous</td><td>Kevin</td><td>5800</td></tr><tr><td>141</td><td>Rajs</td><td>Trenna</td><td>3500</td></tr><tr><td>142</td><td>Davies</td><td>Curtis</td><td>3100</td></tr><tr><td>143</td><td>Matos</td><td>Randall</td><td>2600</td></tr><tr><td>144</td><td>Vargas</td><td>Peter</td><td>2500</td></tr><tr><td>176</td><td>Taylor</td><td>Jonathon</td><td>8600</td></tr><tr><td>178</td><td>Grant</td><td>Kimberely</td><td>7000</td></tr><tr><td>200</td><td>Whalen</td><td>Jennifer</td><td>4400</td></tr><tr><td>202</td><td>Fay</td><td>Pat</td><td>6000</td></tr><tr><td>206</td><td>Gietz</td><td>William</td><td>8300</td></tr></table>"
                    },
                    "metadata": {
                        "resultSet": {
                            "id": 0,
                            "batchId": 0,
                            "rowCount": 13,
                            "complete": true,
                            "columnInfo": [
                                {
                                    "isBytes": false,
                                    "isChars": false,
                                    "isSqlVariant": false,
                                    "isUdt": false,
                                    "isXml": false,
                                    "isJson": false,
                                    "sqlDbType": 8,
                                    "isHierarchyId": false,
                                    "isSqlXmlType": false,
                                    "isUnknownType": false,
                                    "isUpdatable": true,
                                    "allowDBNull": true,
                                    "baseCatalogName": null,
                                    "baseColumnName": null,
                                    "baseSchemaName": null,
                                    "baseServerName": null,
                                    "baseTableName": null,
                                    "columnName": "employee_id",
                                    "columnOrdinal": 0,
                                    "columnSize": 4,
                                    "isAliased": null,
                                    "isAutoIncrement": false,
                                    "isExpression": null,
                                    "isHidden": null,
                                    "isIdentity": false,
                                    "isKey": null,
                                    "isLong": false,
                                    "isReadOnly": false,
                                    "isUnique": false,
                                    "numericPrecision": 10,
                                    "numericScale": 255,
                                    "udtAssemblyQualifiedName": null,
                                    "dataType": "System.Int32, System.Private.CoreLib, Version=4.0.0.0, Culture=neutral, PublicKeyToken=7cec85d7bea7798e",
                                    "dataTypeName": "int"
                                },
                                {
                                    "isBytes": false,
                                    "isChars": true,
                                    "isSqlVariant": false,
                                    "isUdt": false,
                                    "isXml": false,
                                    "isJson": false,
                                    "sqlDbType": 22,
                                    "isHierarchyId": false,
                                    "isSqlXmlType": false,
                                    "isUnknownType": false,
                                    "isUpdatable": true,
                                    "allowDBNull": true,
                                    "baseCatalogName": null,
                                    "baseColumnName": null,
                                    "baseSchemaName": null,
                                    "baseServerName": null,
                                    "baseTableName": null,
                                    "columnName": "last_name",
                                    "columnOrdinal": 1,
                                    "columnSize": 20,
                                    "isAliased": null,
                                    "isAutoIncrement": false,
                                    "isExpression": null,
                                    "isHidden": null,
                                    "isIdentity": false,
                                    "isKey": null,
                                    "isLong": false,
                                    "isReadOnly": false,
                                    "isUnique": false,
                                    "numericPrecision": 255,
                                    "numericScale": 255,
                                    "udtAssemblyQualifiedName": null,
                                    "dataType": "System.String, System.Private.CoreLib, Version=4.0.0.0, Culture=neutral, PublicKeyToken=7cec85d7bea7798e",
                                    "dataTypeName": "varchar"
                                },
                                {
                                    "isBytes": false,
                                    "isChars": true,
                                    "isSqlVariant": false,
                                    "isUdt": false,
                                    "isXml": false,
                                    "isJson": false,
                                    "sqlDbType": 22,
                                    "isHierarchyId": false,
                                    "isSqlXmlType": false,
                                    "isUnknownType": false,
                                    "isUpdatable": true,
                                    "allowDBNull": true,
                                    "baseCatalogName": null,
                                    "baseColumnName": null,
                                    "baseSchemaName": null,
                                    "baseServerName": null,
                                    "baseTableName": null,
                                    "columnName": "first_name",
                                    "columnOrdinal": 2,
                                    "columnSize": 20,
                                    "isAliased": null,
                                    "isAutoIncrement": false,
                                    "isExpression": null,
                                    "isHidden": null,
                                    "isIdentity": false,
                                    "isKey": null,
                                    "isLong": false,
                                    "isReadOnly": false,
                                    "isUnique": false,
                                    "numericPrecision": 255,
                                    "numericScale": 255,
                                    "udtAssemblyQualifiedName": null,
                                    "dataType": "System.String, System.Private.CoreLib, Version=4.0.0.0, Culture=neutral, PublicKeyToken=7cec85d7bea7798e",
                                    "dataTypeName": "varchar"
                                },
                                {
                                    "isBytes": false,
                                    "isChars": false,
                                    "isSqlVariant": false,
                                    "isUdt": false,
                                    "isXml": false,
                                    "isJson": false,
                                    "sqlDbType": 8,
                                    "isHierarchyId": false,
                                    "isSqlXmlType": false,
                                    "isUnknownType": false,
                                    "isUpdatable": true,
                                    "allowDBNull": true,
                                    "baseCatalogName": null,
                                    "baseColumnName": null,
                                    "baseSchemaName": null,
                                    "baseServerName": null,
                                    "baseTableName": null,
                                    "columnName": "salary",
                                    "columnOrdinal": 3,
                                    "columnSize": 4,
                                    "isAliased": null,
                                    "isAutoIncrement": false,
                                    "isExpression": null,
                                    "isHidden": null,
                                    "isIdentity": false,
                                    "isKey": null,
                                    "isLong": false,
                                    "isReadOnly": false,
                                    "isUnique": false,
                                    "numericPrecision": 10,
                                    "numericScale": 255,
                                    "udtAssemblyQualifiedName": null,
                                    "dataType": "System.Int32, System.Private.CoreLib, Version=4.0.0.0, Culture=neutral, PublicKeyToken=7cec85d7bea7798e",
                                    "dataTypeName": "int"
                                }
                            ],
                            "specialAction": {
                                "none": true,
                                "expectYukonXMLShowPlan": false
                            }
                        }
                    }
                }
            ],
            "execution_count": 93
        },
        {
            "cell_type": "code",
            "source": [
                "select employee_id, last_name, first_name, job_id from employees\n",
                "where salary>4000 and salary<7000;"
            ],
            "metadata": {
                "azdata_cell_guid": "c5125904-c400-4f69-b7d5-e95d03e47e6a"
            },
            "outputs": [
                {
                    "output_type": "display_data",
                    "data": {
                        "text/html": "(5 rows affected)"
                    },
                    "metadata": {}
                },
                {
                    "output_type": "display_data",
                    "data": {
                        "text/html": "Total execution time: 00:00:00.049"
                    },
                    "metadata": {}
                },
                {
                    "output_type": "execute_result",
                    "execution_count": 96,
                    "data": {
                        "application/vnd.dataresource+json": {
                            "schema": {
                                "fields": [
                                    {
                                        "name": "employee_id"
                                    },
                                    {
                                        "name": "last_name"
                                    },
                                    {
                                        "name": "first_name"
                                    },
                                    {
                                        "name": "job_id"
                                    }
                                ]
                            },
                            "data": [
                                {
                                    "0": "104",
                                    "1": "Ernst",
                                    "2": "Bruce",
                                    "3": "IT_PROG"
                                },
                                {
                                    "0": "107",
                                    "1": "Lorentz",
                                    "2": "Diana",
                                    "3": "IT_PROG"
                                },
                                {
                                    "0": "124",
                                    "1": "Morgous",
                                    "2": "Kevin",
                                    "3": "SH_MAN"
                                },
                                {
                                    "0": "200",
                                    "1": "Whalen",
                                    "2": "Jennifer",
                                    "3": "AD_ASST"
                                },
                                {
                                    "0": "202",
                                    "1": "Fay",
                                    "2": "Pat",
                                    "3": "MK_REP"
                                }
                            ]
                        },
                        "text/html": "<table><tr><th>employee_id</th><th>last_name</th><th>first_name</th><th>job_id</th></tr><tr><td>104</td><td>Ernst</td><td>Bruce</td><td>IT_PROG</td></tr><tr><td>107</td><td>Lorentz</td><td>Diana</td><td>IT_PROG</td></tr><tr><td>124</td><td>Morgous</td><td>Kevin</td><td>SH_MAN</td></tr><tr><td>200</td><td>Whalen</td><td>Jennifer</td><td>AD_ASST</td></tr><tr><td>202</td><td>Fay</td><td>Pat</td><td>MK_REP</td></tr></table>"
                    },
                    "metadata": {
                        "resultSet": {
                            "id": 0,
                            "batchId": 0,
                            "rowCount": 5,
                            "complete": true,
                            "columnInfo": [
                                {
                                    "isBytes": false,
                                    "isChars": false,
                                    "isSqlVariant": false,
                                    "isUdt": false,
                                    "isXml": false,
                                    "isJson": false,
                                    "sqlDbType": 8,
                                    "isHierarchyId": false,
                                    "isSqlXmlType": false,
                                    "isUnknownType": false,
                                    "isUpdatable": true,
                                    "allowDBNull": true,
                                    "baseCatalogName": null,
                                    "baseColumnName": null,
                                    "baseSchemaName": null,
                                    "baseServerName": null,
                                    "baseTableName": null,
                                    "columnName": "employee_id",
                                    "columnOrdinal": 0,
                                    "columnSize": 4,
                                    "isAliased": null,
                                    "isAutoIncrement": false,
                                    "isExpression": null,
                                    "isHidden": null,
                                    "isIdentity": false,
                                    "isKey": null,
                                    "isLong": false,
                                    "isReadOnly": false,
                                    "isUnique": false,
                                    "numericPrecision": 10,
                                    "numericScale": 255,
                                    "udtAssemblyQualifiedName": null,
                                    "dataType": "System.Int32, System.Private.CoreLib, Version=4.0.0.0, Culture=neutral, PublicKeyToken=7cec85d7bea7798e",
                                    "dataTypeName": "int"
                                },
                                {
                                    "isBytes": false,
                                    "isChars": true,
                                    "isSqlVariant": false,
                                    "isUdt": false,
                                    "isXml": false,
                                    "isJson": false,
                                    "sqlDbType": 22,
                                    "isHierarchyId": false,
                                    "isSqlXmlType": false,
                                    "isUnknownType": false,
                                    "isUpdatable": true,
                                    "allowDBNull": true,
                                    "baseCatalogName": null,
                                    "baseColumnName": null,
                                    "baseSchemaName": null,
                                    "baseServerName": null,
                                    "baseTableName": null,
                                    "columnName": "last_name",
                                    "columnOrdinal": 1,
                                    "columnSize": 20,
                                    "isAliased": null,
                                    "isAutoIncrement": false,
                                    "isExpression": null,
                                    "isHidden": null,
                                    "isIdentity": false,
                                    "isKey": null,
                                    "isLong": false,
                                    "isReadOnly": false,
                                    "isUnique": false,
                                    "numericPrecision": 255,
                                    "numericScale": 255,
                                    "udtAssemblyQualifiedName": null,
                                    "dataType": "System.String, System.Private.CoreLib, Version=4.0.0.0, Culture=neutral, PublicKeyToken=7cec85d7bea7798e",
                                    "dataTypeName": "varchar"
                                },
                                {
                                    "isBytes": false,
                                    "isChars": true,
                                    "isSqlVariant": false,
                                    "isUdt": false,
                                    "isXml": false,
                                    "isJson": false,
                                    "sqlDbType": 22,
                                    "isHierarchyId": false,
                                    "isSqlXmlType": false,
                                    "isUnknownType": false,
                                    "isUpdatable": true,
                                    "allowDBNull": true,
                                    "baseCatalogName": null,
                                    "baseColumnName": null,
                                    "baseSchemaName": null,
                                    "baseServerName": null,
                                    "baseTableName": null,
                                    "columnName": "first_name",
                                    "columnOrdinal": 2,
                                    "columnSize": 20,
                                    "isAliased": null,
                                    "isAutoIncrement": false,
                                    "isExpression": null,
                                    "isHidden": null,
                                    "isIdentity": false,
                                    "isKey": null,
                                    "isLong": false,
                                    "isReadOnly": false,
                                    "isUnique": false,
                                    "numericPrecision": 255,
                                    "numericScale": 255,
                                    "udtAssemblyQualifiedName": null,
                                    "dataType": "System.String, System.Private.CoreLib, Version=4.0.0.0, Culture=neutral, PublicKeyToken=7cec85d7bea7798e",
                                    "dataTypeName": "varchar"
                                },
                                {
                                    "isBytes": false,
                                    "isChars": true,
                                    "isSqlVariant": false,
                                    "isUdt": false,
                                    "isXml": false,
                                    "isJson": false,
                                    "sqlDbType": 22,
                                    "isHierarchyId": false,
                                    "isSqlXmlType": false,
                                    "isUnknownType": false,
                                    "isUpdatable": true,
                                    "allowDBNull": true,
                                    "baseCatalogName": null,
                                    "baseColumnName": null,
                                    "baseSchemaName": null,
                                    "baseServerName": null,
                                    "baseTableName": null,
                                    "columnName": "job_id",
                                    "columnOrdinal": 3,
                                    "columnSize": 20,
                                    "isAliased": null,
                                    "isAutoIncrement": false,
                                    "isExpression": null,
                                    "isHidden": null,
                                    "isIdentity": false,
                                    "isKey": null,
                                    "isLong": false,
                                    "isReadOnly": false,
                                    "isUnique": false,
                                    "numericPrecision": 255,
                                    "numericScale": 255,
                                    "udtAssemblyQualifiedName": null,
                                    "dataType": "System.String, System.Private.CoreLib, Version=4.0.0.0, Culture=neutral, PublicKeyToken=7cec85d7bea7798e",
                                    "dataTypeName": "varchar"
                                }
                            ],
                            "specialAction": {
                                "none": true,
                                "expectYukonXMLShowPlan": false
                            }
                        }
                    }
                }
            ],
            "execution_count": 96
        },
        {
            "cell_type": "markdown",
            "source": [
                "The difference is BEETWEEN includes ranges, and another method don't."
            ],
            "metadata": {
                "azdata_cell_guid": "d616a195-9c7b-41ba-a6a8-b3c85dba1ac7"
            }
        },
        {
            "cell_type": "code",
            "source": [
                "select employee_id, last_name, salary, job_id from employees\n",
                "where employee_id in (144,102,200);"
            ],
            "metadata": {
                "azdata_cell_guid": "d3558689-096f-419f-9198-dc583ee3f603"
            },
            "outputs": [
                {
                    "output_type": "display_data",
                    "data": {
                        "text/html": "(3 rows affected)"
                    },
                    "metadata": {}
                },
                {
                    "output_type": "display_data",
                    "data": {
                        "text/html": "Total execution time: 00:00:00.068"
                    },
                    "metadata": {}
                },
                {
                    "output_type": "execute_result",
                    "execution_count": 97,
                    "data": {
                        "application/vnd.dataresource+json": {
                            "schema": {
                                "fields": [
                                    {
                                        "name": "employee_id"
                                    },
                                    {
                                        "name": "last_name"
                                    },
                                    {
                                        "name": "salary"
                                    },
                                    {
                                        "name": "job_id"
                                    }
                                ]
                            },
                            "data": [
                                {
                                    "0": "102",
                                    "1": "De Haan",
                                    "2": "17000",
                                    "3": "AD_VP"
                                },
                                {
                                    "0": "144",
                                    "1": "Vargas",
                                    "2": "2500",
                                    "3": "SH_CLERK"
                                },
                                {
                                    "0": "200",
                                    "1": "Whalen",
                                    "2": "4400",
                                    "3": "AD_ASST"
                                }
                            ]
                        },
                        "text/html": "<table><tr><th>employee_id</th><th>last_name</th><th>salary</th><th>job_id</th></tr><tr><td>102</td><td>De Haan</td><td>17000</td><td>AD_VP</td></tr><tr><td>144</td><td>Vargas</td><td>2500</td><td>SH_CLERK</td></tr><tr><td>200</td><td>Whalen</td><td>4400</td><td>AD_ASST</td></tr></table>"
                    },
                    "metadata": {
                        "resultSet": {
                            "id": 0,
                            "batchId": 0,
                            "rowCount": 3,
                            "complete": true,
                            "columnInfo": [
                                {
                                    "isBytes": false,
                                    "isChars": false,
                                    "isSqlVariant": false,
                                    "isUdt": false,
                                    "isXml": false,
                                    "isJson": false,
                                    "sqlDbType": 8,
                                    "isHierarchyId": false,
                                    "isSqlXmlType": false,
                                    "isUnknownType": false,
                                    "isUpdatable": true,
                                    "allowDBNull": true,
                                    "baseCatalogName": null,
                                    "baseColumnName": null,
                                    "baseSchemaName": null,
                                    "baseServerName": null,
                                    "baseTableName": null,
                                    "columnName": "employee_id",
                                    "columnOrdinal": 0,
                                    "columnSize": 4,
                                    "isAliased": null,
                                    "isAutoIncrement": false,
                                    "isExpression": null,
                                    "isHidden": null,
                                    "isIdentity": false,
                                    "isKey": null,
                                    "isLong": false,
                                    "isReadOnly": false,
                                    "isUnique": false,
                                    "numericPrecision": 10,
                                    "numericScale": 255,
                                    "udtAssemblyQualifiedName": null,
                                    "dataType": "System.Int32, System.Private.CoreLib, Version=4.0.0.0, Culture=neutral, PublicKeyToken=7cec85d7bea7798e",
                                    "dataTypeName": "int"
                                },
                                {
                                    "isBytes": false,
                                    "isChars": true,
                                    "isSqlVariant": false,
                                    "isUdt": false,
                                    "isXml": false,
                                    "isJson": false,
                                    "sqlDbType": 22,
                                    "isHierarchyId": false,
                                    "isSqlXmlType": false,
                                    "isUnknownType": false,
                                    "isUpdatable": true,
                                    "allowDBNull": true,
                                    "baseCatalogName": null,
                                    "baseColumnName": null,
                                    "baseSchemaName": null,
                                    "baseServerName": null,
                                    "baseTableName": null,
                                    "columnName": "last_name",
                                    "columnOrdinal": 1,
                                    "columnSize": 20,
                                    "isAliased": null,
                                    "isAutoIncrement": false,
                                    "isExpression": null,
                                    "isHidden": null,
                                    "isIdentity": false,
                                    "isKey": null,
                                    "isLong": false,
                                    "isReadOnly": false,
                                    "isUnique": false,
                                    "numericPrecision": 255,
                                    "numericScale": 255,
                                    "udtAssemblyQualifiedName": null,
                                    "dataType": "System.String, System.Private.CoreLib, Version=4.0.0.0, Culture=neutral, PublicKeyToken=7cec85d7bea7798e",
                                    "dataTypeName": "varchar"
                                },
                                {
                                    "isBytes": false,
                                    "isChars": false,
                                    "isSqlVariant": false,
                                    "isUdt": false,
                                    "isXml": false,
                                    "isJson": false,
                                    "sqlDbType": 8,
                                    "isHierarchyId": false,
                                    "isSqlXmlType": false,
                                    "isUnknownType": false,
                                    "isUpdatable": true,
                                    "allowDBNull": true,
                                    "baseCatalogName": null,
                                    "baseColumnName": null,
                                    "baseSchemaName": null,
                                    "baseServerName": null,
                                    "baseTableName": null,
                                    "columnName": "salary",
                                    "columnOrdinal": 2,
                                    "columnSize": 4,
                                    "isAliased": null,
                                    "isAutoIncrement": false,
                                    "isExpression": null,
                                    "isHidden": null,
                                    "isIdentity": false,
                                    "isKey": null,
                                    "isLong": false,
                                    "isReadOnly": false,
                                    "isUnique": false,
                                    "numericPrecision": 10,
                                    "numericScale": 255,
                                    "udtAssemblyQualifiedName": null,
                                    "dataType": "System.Int32, System.Private.CoreLib, Version=4.0.0.0, Culture=neutral, PublicKeyToken=7cec85d7bea7798e",
                                    "dataTypeName": "int"
                                },
                                {
                                    "isBytes": false,
                                    "isChars": true,
                                    "isSqlVariant": false,
                                    "isUdt": false,
                                    "isXml": false,
                                    "isJson": false,
                                    "sqlDbType": 22,
                                    "isHierarchyId": false,
                                    "isSqlXmlType": false,
                                    "isUnknownType": false,
                                    "isUpdatable": true,
                                    "allowDBNull": true,
                                    "baseCatalogName": null,
                                    "baseColumnName": null,
                                    "baseSchemaName": null,
                                    "baseServerName": null,
                                    "baseTableName": null,
                                    "columnName": "job_id",
                                    "columnOrdinal": 3,
                                    "columnSize": 20,
                                    "isAliased": null,
                                    "isAutoIncrement": false,
                                    "isExpression": null,
                                    "isHidden": null,
                                    "isIdentity": false,
                                    "isKey": null,
                                    "isLong": false,
                                    "isReadOnly": false,
                                    "isUnique": false,
                                    "numericPrecision": 255,
                                    "numericScale": 255,
                                    "udtAssemblyQualifiedName": null,
                                    "dataType": "System.String, System.Private.CoreLib, Version=4.0.0.0, Culture=neutral, PublicKeyToken=7cec85d7bea7798e",
                                    "dataTypeName": "varchar"
                                }
                            ],
                            "specialAction": {
                                "none": true,
                                "expectYukonXMLShowPlan": false
                            }
                        }
                    }
                }
            ],
            "execution_count": 97
        },
        {
            "cell_type": "code",
            "source": [
                "select employee_id, last_name, salary, job_id from employees\n",
                "where employee_id in (144,102,200,205);"
            ],
            "metadata": {
                "azdata_cell_guid": "d17ee5f7-2839-4027-85e4-9e6bd1f0fd9e"
            },
            "outputs": [
                {
                    "output_type": "display_data",
                    "data": {
                        "text/html": "(4 rows affected)"
                    },
                    "metadata": {}
                },
                {
                    "output_type": "display_data",
                    "data": {
                        "text/html": "Total execution time: 00:00:00.035"
                    },
                    "metadata": {}
                },
                {
                    "output_type": "execute_result",
                    "execution_count": 98,
                    "data": {
                        "application/vnd.dataresource+json": {
                            "schema": {
                                "fields": [
                                    {
                                        "name": "employee_id"
                                    },
                                    {
                                        "name": "last_name"
                                    },
                                    {
                                        "name": "salary"
                                    },
                                    {
                                        "name": "job_id"
                                    }
                                ]
                            },
                            "data": [
                                {
                                    "0": "102",
                                    "1": "De Haan",
                                    "2": "17000",
                                    "3": "AD_VP"
                                },
                                {
                                    "0": "144",
                                    "1": "Vargas",
                                    "2": "2500",
                                    "3": "SH_CLERK"
                                },
                                {
                                    "0": "200",
                                    "1": "Whalen",
                                    "2": "4400",
                                    "3": "AD_ASST"
                                },
                                {
                                    "0": "205",
                                    "1": "Higgins",
                                    "2": "12000",
                                    "3": "AC_MGR"
                                }
                            ]
                        },
                        "text/html": "<table><tr><th>employee_id</th><th>last_name</th><th>salary</th><th>job_id</th></tr><tr><td>102</td><td>De Haan</td><td>17000</td><td>AD_VP</td></tr><tr><td>144</td><td>Vargas</td><td>2500</td><td>SH_CLERK</td></tr><tr><td>200</td><td>Whalen</td><td>4400</td><td>AD_ASST</td></tr><tr><td>205</td><td>Higgins</td><td>12000</td><td>AC_MGR</td></tr></table>"
                    },
                    "metadata": {
                        "resultSet": {
                            "id": 0,
                            "batchId": 0,
                            "rowCount": 4,
                            "complete": true,
                            "columnInfo": [
                                {
                                    "isBytes": false,
                                    "isChars": false,
                                    "isSqlVariant": false,
                                    "isUdt": false,
                                    "isXml": false,
                                    "isJson": false,
                                    "sqlDbType": 8,
                                    "isHierarchyId": false,
                                    "isSqlXmlType": false,
                                    "isUnknownType": false,
                                    "isUpdatable": true,
                                    "allowDBNull": true,
                                    "baseCatalogName": null,
                                    "baseColumnName": null,
                                    "baseSchemaName": null,
                                    "baseServerName": null,
                                    "baseTableName": null,
                                    "columnName": "employee_id",
                                    "columnOrdinal": 0,
                                    "columnSize": 4,
                                    "isAliased": null,
                                    "isAutoIncrement": false,
                                    "isExpression": null,
                                    "isHidden": null,
                                    "isIdentity": false,
                                    "isKey": null,
                                    "isLong": false,
                                    "isReadOnly": false,
                                    "isUnique": false,
                                    "numericPrecision": 10,
                                    "numericScale": 255,
                                    "udtAssemblyQualifiedName": null,
                                    "dataType": "System.Int32, System.Private.CoreLib, Version=4.0.0.0, Culture=neutral, PublicKeyToken=7cec85d7bea7798e",
                                    "dataTypeName": "int"
                                },
                                {
                                    "isBytes": false,
                                    "isChars": true,
                                    "isSqlVariant": false,
                                    "isUdt": false,
                                    "isXml": false,
                                    "isJson": false,
                                    "sqlDbType": 22,
                                    "isHierarchyId": false,
                                    "isSqlXmlType": false,
                                    "isUnknownType": false,
                                    "isUpdatable": true,
                                    "allowDBNull": true,
                                    "baseCatalogName": null,
                                    "baseColumnName": null,
                                    "baseSchemaName": null,
                                    "baseServerName": null,
                                    "baseTableName": null,
                                    "columnName": "last_name",
                                    "columnOrdinal": 1,
                                    "columnSize": 20,
                                    "isAliased": null,
                                    "isAutoIncrement": false,
                                    "isExpression": null,
                                    "isHidden": null,
                                    "isIdentity": false,
                                    "isKey": null,
                                    "isLong": false,
                                    "isReadOnly": false,
                                    "isUnique": false,
                                    "numericPrecision": 255,
                                    "numericScale": 255,
                                    "udtAssemblyQualifiedName": null,
                                    "dataType": "System.String, System.Private.CoreLib, Version=4.0.0.0, Culture=neutral, PublicKeyToken=7cec85d7bea7798e",
                                    "dataTypeName": "varchar"
                                },
                                {
                                    "isBytes": false,
                                    "isChars": false,
                                    "isSqlVariant": false,
                                    "isUdt": false,
                                    "isXml": false,
                                    "isJson": false,
                                    "sqlDbType": 8,
                                    "isHierarchyId": false,
                                    "isSqlXmlType": false,
                                    "isUnknownType": false,
                                    "isUpdatable": true,
                                    "allowDBNull": true,
                                    "baseCatalogName": null,
                                    "baseColumnName": null,
                                    "baseSchemaName": null,
                                    "baseServerName": null,
                                    "baseTableName": null,
                                    "columnName": "salary",
                                    "columnOrdinal": 2,
                                    "columnSize": 4,
                                    "isAliased": null,
                                    "isAutoIncrement": false,
                                    "isExpression": null,
                                    "isHidden": null,
                                    "isIdentity": false,
                                    "isKey": null,
                                    "isLong": false,
                                    "isReadOnly": false,
                                    "isUnique": false,
                                    "numericPrecision": 10,
                                    "numericScale": 255,
                                    "udtAssemblyQualifiedName": null,
                                    "dataType": "System.Int32, System.Private.CoreLib, Version=4.0.0.0, Culture=neutral, PublicKeyToken=7cec85d7bea7798e",
                                    "dataTypeName": "int"
                                },
                                {
                                    "isBytes": false,
                                    "isChars": true,
                                    "isSqlVariant": false,
                                    "isUdt": false,
                                    "isXml": false,
                                    "isJson": false,
                                    "sqlDbType": 22,
                                    "isHierarchyId": false,
                                    "isSqlXmlType": false,
                                    "isUnknownType": false,
                                    "isUpdatable": true,
                                    "allowDBNull": true,
                                    "baseCatalogName": null,
                                    "baseColumnName": null,
                                    "baseSchemaName": null,
                                    "baseServerName": null,
                                    "baseTableName": null,
                                    "columnName": "job_id",
                                    "columnOrdinal": 3,
                                    "columnSize": 20,
                                    "isAliased": null,
                                    "isAutoIncrement": false,
                                    "isExpression": null,
                                    "isHidden": null,
                                    "isIdentity": false,
                                    "isKey": null,
                                    "isLong": false,
                                    "isReadOnly": false,
                                    "isUnique": false,
                                    "numericPrecision": 255,
                                    "numericScale": 255,
                                    "udtAssemblyQualifiedName": null,
                                    "dataType": "System.String, System.Private.CoreLib, Version=4.0.0.0, Culture=neutral, PublicKeyToken=7cec85d7bea7798e",
                                    "dataTypeName": "varchar"
                                }
                            ],
                            "specialAction": {
                                "none": true,
                                "expectYukonXMLShowPlan": false
                            }
                        }
                    }
                }
            ],
            "execution_count": 98
        },
        {
            "cell_type": "code",
            "source": [
                "select employee_id, last_name, first_name, salary from employees\n",
                "where LEFT(last_name, 1)='D';"
            ],
            "metadata": {
                "azdata_cell_guid": "f8443252-1a6b-4976-b270-7c539c401dbc"
            },
            "outputs": [
                {
                    "output_type": "display_data",
                    "data": {
                        "text/html": "(2 rows affected)"
                    },
                    "metadata": {}
                },
                {
                    "output_type": "display_data",
                    "data": {
                        "text/html": "Total execution time: 00:00:00.081"
                    },
                    "metadata": {}
                },
                {
                    "output_type": "execute_result",
                    "execution_count": 105,
                    "data": {
                        "application/vnd.dataresource+json": {
                            "schema": {
                                "fields": [
                                    {
                                        "name": "employee_id"
                                    },
                                    {
                                        "name": "last_name"
                                    },
                                    {
                                        "name": "first_name"
                                    },
                                    {
                                        "name": "salary"
                                    }
                                ]
                            },
                            "data": [
                                {
                                    "0": "102",
                                    "1": "De Haan",
                                    "2": "Lex",
                                    "3": "17000"
                                },
                                {
                                    "0": "142",
                                    "1": "Davies",
                                    "2": "Curtis",
                                    "3": "3100"
                                }
                            ]
                        },
                        "text/html": "<table><tr><th>employee_id</th><th>last_name</th><th>first_name</th><th>salary</th></tr><tr><td>102</td><td>De Haan</td><td>Lex</td><td>17000</td></tr><tr><td>142</td><td>Davies</td><td>Curtis</td><td>3100</td></tr></table>"
                    },
                    "metadata": {
                        "resultSet": {
                            "id": 0,
                            "batchId": 0,
                            "rowCount": 2,
                            "complete": true,
                            "columnInfo": [
                                {
                                    "isBytes": false,
                                    "isChars": false,
                                    "isSqlVariant": false,
                                    "isUdt": false,
                                    "isXml": false,
                                    "isJson": false,
                                    "sqlDbType": 8,
                                    "isHierarchyId": false,
                                    "isSqlXmlType": false,
                                    "isUnknownType": false,
                                    "isUpdatable": true,
                                    "allowDBNull": true,
                                    "baseCatalogName": null,
                                    "baseColumnName": null,
                                    "baseSchemaName": null,
                                    "baseServerName": null,
                                    "baseTableName": null,
                                    "columnName": "employee_id",
                                    "columnOrdinal": 0,
                                    "columnSize": 4,
                                    "isAliased": null,
                                    "isAutoIncrement": false,
                                    "isExpression": null,
                                    "isHidden": null,
                                    "isIdentity": false,
                                    "isKey": null,
                                    "isLong": false,
                                    "isReadOnly": false,
                                    "isUnique": false,
                                    "numericPrecision": 10,
                                    "numericScale": 255,
                                    "udtAssemblyQualifiedName": null,
                                    "dataType": "System.Int32, System.Private.CoreLib, Version=4.0.0.0, Culture=neutral, PublicKeyToken=7cec85d7bea7798e",
                                    "dataTypeName": "int"
                                },
                                {
                                    "isBytes": false,
                                    "isChars": true,
                                    "isSqlVariant": false,
                                    "isUdt": false,
                                    "isXml": false,
                                    "isJson": false,
                                    "sqlDbType": 22,
                                    "isHierarchyId": false,
                                    "isSqlXmlType": false,
                                    "isUnknownType": false,
                                    "isUpdatable": true,
                                    "allowDBNull": true,
                                    "baseCatalogName": null,
                                    "baseColumnName": null,
                                    "baseSchemaName": null,
                                    "baseServerName": null,
                                    "baseTableName": null,
                                    "columnName": "last_name",
                                    "columnOrdinal": 1,
                                    "columnSize": 20,
                                    "isAliased": null,
                                    "isAutoIncrement": false,
                                    "isExpression": null,
                                    "isHidden": null,
                                    "isIdentity": false,
                                    "isKey": null,
                                    "isLong": false,
                                    "isReadOnly": false,
                                    "isUnique": false,
                                    "numericPrecision": 255,
                                    "numericScale": 255,
                                    "udtAssemblyQualifiedName": null,
                                    "dataType": "System.String, System.Private.CoreLib, Version=4.0.0.0, Culture=neutral, PublicKeyToken=7cec85d7bea7798e",
                                    "dataTypeName": "varchar"
                                },
                                {
                                    "isBytes": false,
                                    "isChars": true,
                                    "isSqlVariant": false,
                                    "isUdt": false,
                                    "isXml": false,
                                    "isJson": false,
                                    "sqlDbType": 22,
                                    "isHierarchyId": false,
                                    "isSqlXmlType": false,
                                    "isUnknownType": false,
                                    "isUpdatable": true,
                                    "allowDBNull": true,
                                    "baseCatalogName": null,
                                    "baseColumnName": null,
                                    "baseSchemaName": null,
                                    "baseServerName": null,
                                    "baseTableName": null,
                                    "columnName": "first_name",
                                    "columnOrdinal": 2,
                                    "columnSize": 20,
                                    "isAliased": null,
                                    "isAutoIncrement": false,
                                    "isExpression": null,
                                    "isHidden": null,
                                    "isIdentity": false,
                                    "isKey": null,
                                    "isLong": false,
                                    "isReadOnly": false,
                                    "isUnique": false,
                                    "numericPrecision": 255,
                                    "numericScale": 255,
                                    "udtAssemblyQualifiedName": null,
                                    "dataType": "System.String, System.Private.CoreLib, Version=4.0.0.0, Culture=neutral, PublicKeyToken=7cec85d7bea7798e",
                                    "dataTypeName": "varchar"
                                },
                                {
                                    "isBytes": false,
                                    "isChars": false,
                                    "isSqlVariant": false,
                                    "isUdt": false,
                                    "isXml": false,
                                    "isJson": false,
                                    "sqlDbType": 8,
                                    "isHierarchyId": false,
                                    "isSqlXmlType": false,
                                    "isUnknownType": false,
                                    "isUpdatable": true,
                                    "allowDBNull": true,
                                    "baseCatalogName": null,
                                    "baseColumnName": null,
                                    "baseSchemaName": null,
                                    "baseServerName": null,
                                    "baseTableName": null,
                                    "columnName": "salary",
                                    "columnOrdinal": 3,
                                    "columnSize": 4,
                                    "isAliased": null,
                                    "isAutoIncrement": false,
                                    "isExpression": null,
                                    "isHidden": null,
                                    "isIdentity": false,
                                    "isKey": null,
                                    "isLong": false,
                                    "isReadOnly": false,
                                    "isUnique": false,
                                    "numericPrecision": 10,
                                    "numericScale": 255,
                                    "udtAssemblyQualifiedName": null,
                                    "dataType": "System.Int32, System.Private.CoreLib, Version=4.0.0.0, Culture=neutral, PublicKeyToken=7cec85d7bea7798e",
                                    "dataTypeName": "int"
                                }
                            ],
                            "specialAction": {
                                "none": true,
                                "expectYukonXMLShowPlan": false
                            }
                        }
                    }
                }
            ],
            "execution_count": 105
        },
        {
            "cell_type": "code",
            "source": [
                "select last_name, first_name from employees\n",
                "where substring(first_name, 3, 1)='A';"
            ],
            "metadata": {
                "azdata_cell_guid": "7c3f849b-8052-4675-86f6-be8e6ff06c0b"
            },
            "outputs": [
                {
                    "output_type": "display_data",
                    "data": {
                        "text/html": "(1 row affected)"
                    },
                    "metadata": {}
                },
                {
                    "output_type": "display_data",
                    "data": {
                        "text/html": "Total execution time: 00:00:00.040"
                    },
                    "metadata": {}
                },
                {
                    "output_type": "execute_result",
                    "execution_count": 113,
                    "data": {
                        "application/vnd.dataresource+json": {
                            "schema": {
                                "fields": [
                                    {
                                        "name": "last_name"
                                    },
                                    {
                                        "name": "first_name"
                                    }
                                ]
                            },
                            "data": [
                                {
                                    "0": "Lorentz",
                                    "1": "Diana"
                                }
                            ]
                        },
                        "text/html": "<table><tr><th>last_name</th><th>first_name</th></tr><tr><td>Lorentz</td><td>Diana</td></tr></table>"
                    },
                    "metadata": {
                        "resultSet": {
                            "id": 0,
                            "batchId": 0,
                            "rowCount": 1,
                            "complete": true,
                            "columnInfo": [
                                {
                                    "isBytes": false,
                                    "isChars": true,
                                    "isSqlVariant": false,
                                    "isUdt": false,
                                    "isXml": false,
                                    "isJson": false,
                                    "sqlDbType": 22,
                                    "isHierarchyId": false,
                                    "isSqlXmlType": false,
                                    "isUnknownType": false,
                                    "isUpdatable": true,
                                    "allowDBNull": true,
                                    "baseCatalogName": null,
                                    "baseColumnName": null,
                                    "baseSchemaName": null,
                                    "baseServerName": null,
                                    "baseTableName": null,
                                    "columnName": "last_name",
                                    "columnOrdinal": 0,
                                    "columnSize": 20,
                                    "isAliased": null,
                                    "isAutoIncrement": false,
                                    "isExpression": null,
                                    "isHidden": null,
                                    "isIdentity": false,
                                    "isKey": null,
                                    "isLong": false,
                                    "isReadOnly": false,
                                    "isUnique": false,
                                    "numericPrecision": 255,
                                    "numericScale": 255,
                                    "udtAssemblyQualifiedName": null,
                                    "dataType": "System.String, System.Private.CoreLib, Version=4.0.0.0, Culture=neutral, PublicKeyToken=7cec85d7bea7798e",
                                    "dataTypeName": "varchar"
                                },
                                {
                                    "isBytes": false,
                                    "isChars": true,
                                    "isSqlVariant": false,
                                    "isUdt": false,
                                    "isXml": false,
                                    "isJson": false,
                                    "sqlDbType": 22,
                                    "isHierarchyId": false,
                                    "isSqlXmlType": false,
                                    "isUnknownType": false,
                                    "isUpdatable": true,
                                    "allowDBNull": true,
                                    "baseCatalogName": null,
                                    "baseColumnName": null,
                                    "baseSchemaName": null,
                                    "baseServerName": null,
                                    "baseTableName": null,
                                    "columnName": "first_name",
                                    "columnOrdinal": 1,
                                    "columnSize": 20,
                                    "isAliased": null,
                                    "isAutoIncrement": false,
                                    "isExpression": null,
                                    "isHidden": null,
                                    "isIdentity": false,
                                    "isKey": null,
                                    "isLong": false,
                                    "isReadOnly": false,
                                    "isUnique": false,
                                    "numericPrecision": 255,
                                    "numericScale": 255,
                                    "udtAssemblyQualifiedName": null,
                                    "dataType": "System.String, System.Private.CoreLib, Version=4.0.0.0, Culture=neutral, PublicKeyToken=7cec85d7bea7798e",
                                    "dataTypeName": "varchar"
                                }
                            ],
                            "specialAction": {
                                "none": true,
                                "expectYukonXMLShowPlan": false
                            }
                        }
                    }
                }
            ],
            "execution_count": 113
        },
        {
            "cell_type": "code",
            "source": [
                "select employee_id, last_name, first_name, email, salary from employees\n",
                "where RIGHT(first_name, 1)='N';"
            ],
            "metadata": {
                "azdata_cell_guid": "8da54936-6a41-4787-a49c-4e42c4235aa4"
            },
            "outputs": [
                {
                    "output_type": "display_data",
                    "data": {
                        "text/html": "(4 rows affected)"
                    },
                    "metadata": {}
                },
                {
                    "output_type": "display_data",
                    "data": {
                        "text/html": "Total execution time: 00:00:00.015"
                    },
                    "metadata": {}
                },
                {
                    "output_type": "execute_result",
                    "execution_count": 114,
                    "data": {
                        "application/vnd.dataresource+json": {
                            "schema": {
                                "fields": [
                                    {
                                        "name": "employee_id"
                                    },
                                    {
                                        "name": "last_name"
                                    },
                                    {
                                        "name": "first_name"
                                    },
                                    {
                                        "name": "email"
                                    },
                                    {
                                        "name": "salary"
                                    }
                                ]
                            },
                            "data": [
                                {
                                    "0": "100",
                                    "1": "King",
                                    "2": "Steven",
                                    "3": "SKING",
                                    "4": "24000"
                                },
                                {
                                    "0": "124",
                                    "1": "Morgous",
                                    "2": "Kevin",
                                    "3": "KMORGOUS",
                                    "4": "5800"
                                },
                                {
                                    "0": "174",
                                    "1": "Abel",
                                    "2": "Ellen",
                                    "3": "EABEL",
                                    "4": "11000"
                                },
                                {
                                    "0": "176",
                                    "1": "Taylor",
                                    "2": "Jonathon",
                                    "3": "JTAYLOR",
                                    "4": "8600"
                                }
                            ]
                        },
                        "text/html": "<table><tr><th>employee_id</th><th>last_name</th><th>first_name</th><th>email</th><th>salary</th></tr><tr><td>100</td><td>King</td><td>Steven</td><td>SKING</td><td>24000</td></tr><tr><td>124</td><td>Morgous</td><td>Kevin</td><td>KMORGOUS</td><td>5800</td></tr><tr><td>174</td><td>Abel</td><td>Ellen</td><td>EABEL</td><td>11000</td></tr><tr><td>176</td><td>Taylor</td><td>Jonathon</td><td>JTAYLOR</td><td>8600</td></tr></table>"
                    },
                    "metadata": {
                        "resultSet": {
                            "id": 0,
                            "batchId": 0,
                            "rowCount": 4,
                            "complete": true,
                            "columnInfo": [
                                {
                                    "isBytes": false,
                                    "isChars": false,
                                    "isSqlVariant": false,
                                    "isUdt": false,
                                    "isXml": false,
                                    "isJson": false,
                                    "sqlDbType": 8,
                                    "isHierarchyId": false,
                                    "isSqlXmlType": false,
                                    "isUnknownType": false,
                                    "isUpdatable": true,
                                    "allowDBNull": true,
                                    "baseCatalogName": null,
                                    "baseColumnName": null,
                                    "baseSchemaName": null,
                                    "baseServerName": null,
                                    "baseTableName": null,
                                    "columnName": "employee_id",
                                    "columnOrdinal": 0,
                                    "columnSize": 4,
                                    "isAliased": null,
                                    "isAutoIncrement": false,
                                    "isExpression": null,
                                    "isHidden": null,
                                    "isIdentity": false,
                                    "isKey": null,
                                    "isLong": false,
                                    "isReadOnly": false,
                                    "isUnique": false,
                                    "numericPrecision": 10,
                                    "numericScale": 255,
                                    "udtAssemblyQualifiedName": null,
                                    "dataType": "System.Int32, System.Private.CoreLib, Version=4.0.0.0, Culture=neutral, PublicKeyToken=7cec85d7bea7798e",
                                    "dataTypeName": "int"
                                },
                                {
                                    "isBytes": false,
                                    "isChars": true,
                                    "isSqlVariant": false,
                                    "isUdt": false,
                                    "isXml": false,
                                    "isJson": false,
                                    "sqlDbType": 22,
                                    "isHierarchyId": false,
                                    "isSqlXmlType": false,
                                    "isUnknownType": false,
                                    "isUpdatable": true,
                                    "allowDBNull": true,
                                    "baseCatalogName": null,
                                    "baseColumnName": null,
                                    "baseSchemaName": null,
                                    "baseServerName": null,
                                    "baseTableName": null,
                                    "columnName": "last_name",
                                    "columnOrdinal": 1,
                                    "columnSize": 20,
                                    "isAliased": null,
                                    "isAutoIncrement": false,
                                    "isExpression": null,
                                    "isHidden": null,
                                    "isIdentity": false,
                                    "isKey": null,
                                    "isLong": false,
                                    "isReadOnly": false,
                                    "isUnique": false,
                                    "numericPrecision": 255,
                                    "numericScale": 255,
                                    "udtAssemblyQualifiedName": null,
                                    "dataType": "System.String, System.Private.CoreLib, Version=4.0.0.0, Culture=neutral, PublicKeyToken=7cec85d7bea7798e",
                                    "dataTypeName": "varchar"
                                },
                                {
                                    "isBytes": false,
                                    "isChars": true,
                                    "isSqlVariant": false,
                                    "isUdt": false,
                                    "isXml": false,
                                    "isJson": false,
                                    "sqlDbType": 22,
                                    "isHierarchyId": false,
                                    "isSqlXmlType": false,
                                    "isUnknownType": false,
                                    "isUpdatable": true,
                                    "allowDBNull": true,
                                    "baseCatalogName": null,
                                    "baseColumnName": null,
                                    "baseSchemaName": null,
                                    "baseServerName": null,
                                    "baseTableName": null,
                                    "columnName": "first_name",
                                    "columnOrdinal": 2,
                                    "columnSize": 20,
                                    "isAliased": null,
                                    "isAutoIncrement": false,
                                    "isExpression": null,
                                    "isHidden": null,
                                    "isIdentity": false,
                                    "isKey": null,
                                    "isLong": false,
                                    "isReadOnly": false,
                                    "isUnique": false,
                                    "numericPrecision": 255,
                                    "numericScale": 255,
                                    "udtAssemblyQualifiedName": null,
                                    "dataType": "System.String, System.Private.CoreLib, Version=4.0.0.0, Culture=neutral, PublicKeyToken=7cec85d7bea7798e",
                                    "dataTypeName": "varchar"
                                },
                                {
                                    "isBytes": false,
                                    "isChars": true,
                                    "isSqlVariant": false,
                                    "isUdt": false,
                                    "isXml": false,
                                    "isJson": false,
                                    "sqlDbType": 22,
                                    "isHierarchyId": false,
                                    "isSqlXmlType": false,
                                    "isUnknownType": false,
                                    "isUpdatable": true,
                                    "allowDBNull": true,
                                    "baseCatalogName": null,
                                    "baseColumnName": null,
                                    "baseSchemaName": null,
                                    "baseServerName": null,
                                    "baseTableName": null,
                                    "columnName": "email",
                                    "columnOrdinal": 3,
                                    "columnSize": 40,
                                    "isAliased": null,
                                    "isAutoIncrement": false,
                                    "isExpression": null,
                                    "isHidden": null,
                                    "isIdentity": false,
                                    "isKey": null,
                                    "isLong": false,
                                    "isReadOnly": false,
                                    "isUnique": false,
                                    "numericPrecision": 255,
                                    "numericScale": 255,
                                    "udtAssemblyQualifiedName": null,
                                    "dataType": "System.String, System.Private.CoreLib, Version=4.0.0.0, Culture=neutral, PublicKeyToken=7cec85d7bea7798e",
                                    "dataTypeName": "varchar"
                                },
                                {
                                    "isBytes": false,
                                    "isChars": false,
                                    "isSqlVariant": false,
                                    "isUdt": false,
                                    "isXml": false,
                                    "isJson": false,
                                    "sqlDbType": 8,
                                    "isHierarchyId": false,
                                    "isSqlXmlType": false,
                                    "isUnknownType": false,
                                    "isUpdatable": true,
                                    "allowDBNull": true,
                                    "baseCatalogName": null,
                                    "baseColumnName": null,
                                    "baseSchemaName": null,
                                    "baseServerName": null,
                                    "baseTableName": null,
                                    "columnName": "salary",
                                    "columnOrdinal": 4,
                                    "columnSize": 4,
                                    "isAliased": null,
                                    "isAutoIncrement": false,
                                    "isExpression": null,
                                    "isHidden": null,
                                    "isIdentity": false,
                                    "isKey": null,
                                    "isLong": false,
                                    "isReadOnly": false,
                                    "isUnique": false,
                                    "numericPrecision": 10,
                                    "numericScale": 255,
                                    "udtAssemblyQualifiedName": null,
                                    "dataType": "System.Int32, System.Private.CoreLib, Version=4.0.0.0, Culture=neutral, PublicKeyToken=7cec85d7bea7798e",
                                    "dataTypeName": "int"
                                }
                            ],
                            "specialAction": {
                                "none": true,
                                "expectYukonXMLShowPlan": false
                            }
                        }
                    }
                }
            ],
            "execution_count": 114
        },
        {
            "cell_type": "code",
            "source": [
                "select employee_id, last_name, first_name, salary from employees\n",
                "order by salary ASC;\n",
                ""
            ],
            "metadata": {
                "azdata_cell_guid": "4cb65658-bfb3-4d70-ad31-33030ff43700"
            },
            "outputs": [
                {
                    "output_type": "display_data",
                    "data": {
                        "text/html": "(20 rows affected)"
                    },
                    "metadata": {}
                },
                {
                    "output_type": "display_data",
                    "data": {
                        "text/html": "Total execution time: 00:00:00.013"
                    },
                    "metadata": {}
                },
                {
                    "output_type": "execute_result",
                    "execution_count": 115,
                    "data": {
                        "application/vnd.dataresource+json": {
                            "schema": {
                                "fields": [
                                    {
                                        "name": "employee_id"
                                    },
                                    {
                                        "name": "last_name"
                                    },
                                    {
                                        "name": "first_name"
                                    },
                                    {
                                        "name": "salary"
                                    }
                                ]
                            },
                            "data": [
                                {
                                    "0": "144",
                                    "1": "Vargas",
                                    "2": "Peter",
                                    "3": "2500"
                                },
                                {
                                    "0": "143",
                                    "1": "Matos",
                                    "2": "Randall",
                                    "3": "2600"
                                },
                                {
                                    "0": "142",
                                    "1": "Davies",
                                    "2": "Curtis",
                                    "3": "3100"
                                },
                                {
                                    "0": "141",
                                    "1": "Rajs",
                                    "2": "Trenna",
                                    "3": "3500"
                                },
                                {
                                    "0": "107",
                                    "1": "Lorentz",
                                    "2": "Diana",
                                    "3": "4200"
                                },
                                {
                                    "0": "200",
                                    "1": "Whalen",
                                    "2": "Jennifer",
                                    "3": "4400"
                                },
                                {
                                    "0": "124",
                                    "1": "Morgous",
                                    "2": "Kevin",
                                    "3": "5800"
                                },
                                {
                                    "0": "104",
                                    "1": "Ernst",
                                    "2": "Bruce",
                                    "3": "6000"
                                },
                                {
                                    "0": "202",
                                    "1": "Fay",
                                    "2": "Pat",
                                    "3": "6000"
                                },
                                {
                                    "0": "178",
                                    "1": "Grant",
                                    "2": "Kimberely",
                                    "3": "7000"
                                },
                                {
                                    "0": "206",
                                    "1": "Gietz",
                                    "2": "William",
                                    "3": "8300"
                                },
                                {
                                    "0": "176",
                                    "1": "Taylor",
                                    "2": "Jonathon",
                                    "3": "8600"
                                },
                                {
                                    "0": "103",
                                    "1": "Hunold",
                                    "2": "Alex",
                                    "3": "9000"
                                },
                                {
                                    "0": "149",
                                    "1": "Zlotkey",
                                    "2": "Eleni",
                                    "3": "10500"
                                },
                                {
                                    "0": "174",
                                    "1": "Abel",
                                    "2": "Ellen",
                                    "3": "11000"
                                },
                                {
                                    "0": "205",
                                    "1": "Higgins",
                                    "2": "Shelley",
                                    "3": "12000"
                                },
                                {
                                    "0": "201",
                                    "1": "Hartstein",
                                    "2": "Michael",
                                    "3": "13000"
                                },
                                {
                                    "0": "101",
                                    "1": "Kochhar",
                                    "2": "Neena",
                                    "3": "17000"
                                },
                                {
                                    "0": "102",
                                    "1": "De Haan",
                                    "2": "Lex",
                                    "3": "17000"
                                },
                                {
                                    "0": "100",
                                    "1": "King",
                                    "2": "Steven",
                                    "3": "24000"
                                }
                            ]
                        },
                        "text/html": "<table><tr><th>employee_id</th><th>last_name</th><th>first_name</th><th>salary</th></tr><tr><td>144</td><td>Vargas</td><td>Peter</td><td>2500</td></tr><tr><td>143</td><td>Matos</td><td>Randall</td><td>2600</td></tr><tr><td>142</td><td>Davies</td><td>Curtis</td><td>3100</td></tr><tr><td>141</td><td>Rajs</td><td>Trenna</td><td>3500</td></tr><tr><td>107</td><td>Lorentz</td><td>Diana</td><td>4200</td></tr><tr><td>200</td><td>Whalen</td><td>Jennifer</td><td>4400</td></tr><tr><td>124</td><td>Morgous</td><td>Kevin</td><td>5800</td></tr><tr><td>104</td><td>Ernst</td><td>Bruce</td><td>6000</td></tr><tr><td>202</td><td>Fay</td><td>Pat</td><td>6000</td></tr><tr><td>178</td><td>Grant</td><td>Kimberely</td><td>7000</td></tr><tr><td>206</td><td>Gietz</td><td>William</td><td>8300</td></tr><tr><td>176</td><td>Taylor</td><td>Jonathon</td><td>8600</td></tr><tr><td>103</td><td>Hunold</td><td>Alex</td><td>9000</td></tr><tr><td>149</td><td>Zlotkey</td><td>Eleni</td><td>10500</td></tr><tr><td>174</td><td>Abel</td><td>Ellen</td><td>11000</td></tr><tr><td>205</td><td>Higgins</td><td>Shelley</td><td>12000</td></tr><tr><td>201</td><td>Hartstein</td><td>Michael</td><td>13000</td></tr><tr><td>101</td><td>Kochhar</td><td>Neena</td><td>17000</td></tr><tr><td>102</td><td>De Haan</td><td>Lex</td><td>17000</td></tr><tr><td>100</td><td>King</td><td>Steven</td><td>24000</td></tr></table>"
                    },
                    "metadata": {
                        "resultSet": {
                            "id": 0,
                            "batchId": 0,
                            "rowCount": 20,
                            "complete": true,
                            "columnInfo": [
                                {
                                    "isBytes": false,
                                    "isChars": false,
                                    "isSqlVariant": false,
                                    "isUdt": false,
                                    "isXml": false,
                                    "isJson": false,
                                    "sqlDbType": 8,
                                    "isHierarchyId": false,
                                    "isSqlXmlType": false,
                                    "isUnknownType": false,
                                    "isUpdatable": true,
                                    "allowDBNull": true,
                                    "baseCatalogName": null,
                                    "baseColumnName": null,
                                    "baseSchemaName": null,
                                    "baseServerName": null,
                                    "baseTableName": null,
                                    "columnName": "employee_id",
                                    "columnOrdinal": 0,
                                    "columnSize": 4,
                                    "isAliased": null,
                                    "isAutoIncrement": false,
                                    "isExpression": null,
                                    "isHidden": null,
                                    "isIdentity": false,
                                    "isKey": null,
                                    "isLong": false,
                                    "isReadOnly": false,
                                    "isUnique": false,
                                    "numericPrecision": 10,
                                    "numericScale": 255,
                                    "udtAssemblyQualifiedName": null,
                                    "dataType": "System.Int32, System.Private.CoreLib, Version=4.0.0.0, Culture=neutral, PublicKeyToken=7cec85d7bea7798e",
                                    "dataTypeName": "int"
                                },
                                {
                                    "isBytes": false,
                                    "isChars": true,
                                    "isSqlVariant": false,
                                    "isUdt": false,
                                    "isXml": false,
                                    "isJson": false,
                                    "sqlDbType": 22,
                                    "isHierarchyId": false,
                                    "isSqlXmlType": false,
                                    "isUnknownType": false,
                                    "isUpdatable": true,
                                    "allowDBNull": true,
                                    "baseCatalogName": null,
                                    "baseColumnName": null,
                                    "baseSchemaName": null,
                                    "baseServerName": null,
                                    "baseTableName": null,
                                    "columnName": "last_name",
                                    "columnOrdinal": 1,
                                    "columnSize": 20,
                                    "isAliased": null,
                                    "isAutoIncrement": false,
                                    "isExpression": null,
                                    "isHidden": null,
                                    "isIdentity": false,
                                    "isKey": null,
                                    "isLong": false,
                                    "isReadOnly": false,
                                    "isUnique": false,
                                    "numericPrecision": 255,
                                    "numericScale": 255,
                                    "udtAssemblyQualifiedName": null,
                                    "dataType": "System.String, System.Private.CoreLib, Version=4.0.0.0, Culture=neutral, PublicKeyToken=7cec85d7bea7798e",
                                    "dataTypeName": "varchar"
                                },
                                {
                                    "isBytes": false,
                                    "isChars": true,
                                    "isSqlVariant": false,
                                    "isUdt": false,
                                    "isXml": false,
                                    "isJson": false,
                                    "sqlDbType": 22,
                                    "isHierarchyId": false,
                                    "isSqlXmlType": false,
                                    "isUnknownType": false,
                                    "isUpdatable": true,
                                    "allowDBNull": true,
                                    "baseCatalogName": null,
                                    "baseColumnName": null,
                                    "baseSchemaName": null,
                                    "baseServerName": null,
                                    "baseTableName": null,
                                    "columnName": "first_name",
                                    "columnOrdinal": 2,
                                    "columnSize": 20,
                                    "isAliased": null,
                                    "isAutoIncrement": false,
                                    "isExpression": null,
                                    "isHidden": null,
                                    "isIdentity": false,
                                    "isKey": null,
                                    "isLong": false,
                                    "isReadOnly": false,
                                    "isUnique": false,
                                    "numericPrecision": 255,
                                    "numericScale": 255,
                                    "udtAssemblyQualifiedName": null,
                                    "dataType": "System.String, System.Private.CoreLib, Version=4.0.0.0, Culture=neutral, PublicKeyToken=7cec85d7bea7798e",
                                    "dataTypeName": "varchar"
                                },
                                {
                                    "isBytes": false,
                                    "isChars": false,
                                    "isSqlVariant": false,
                                    "isUdt": false,
                                    "isXml": false,
                                    "isJson": false,
                                    "sqlDbType": 8,
                                    "isHierarchyId": false,
                                    "isSqlXmlType": false,
                                    "isUnknownType": false,
                                    "isUpdatable": true,
                                    "allowDBNull": true,
                                    "baseCatalogName": null,
                                    "baseColumnName": null,
                                    "baseSchemaName": null,
                                    "baseServerName": null,
                                    "baseTableName": null,
                                    "columnName": "salary",
                                    "columnOrdinal": 3,
                                    "columnSize": 4,
                                    "isAliased": null,
                                    "isAutoIncrement": false,
                                    "isExpression": null,
                                    "isHidden": null,
                                    "isIdentity": false,
                                    "isKey": null,
                                    "isLong": false,
                                    "isReadOnly": false,
                                    "isUnique": false,
                                    "numericPrecision": 10,
                                    "numericScale": 255,
                                    "udtAssemblyQualifiedName": null,
                                    "dataType": "System.Int32, System.Private.CoreLib, Version=4.0.0.0, Culture=neutral, PublicKeyToken=7cec85d7bea7798e",
                                    "dataTypeName": "int"
                                }
                            ],
                            "specialAction": {
                                "none": true,
                                "expectYukonXMLShowPlan": false
                            }
                        }
                    }
                }
            ],
            "execution_count": 115
        },
        {
            "cell_type": "code",
            "source": [
                "select employee_id, last_name, first_name, salary from employees\n",
                "order by employee_id desc;"
            ],
            "metadata": {
                "azdata_cell_guid": "f0a6b732-618c-4a85-9def-65075442ff05"
            },
            "outputs": [
                {
                    "output_type": "display_data",
                    "data": {
                        "text/html": "(20 rows affected)"
                    },
                    "metadata": {}
                },
                {
                    "output_type": "display_data",
                    "data": {
                        "text/html": "Total execution time: 00:00:00.015"
                    },
                    "metadata": {}
                },
                {
                    "output_type": "execute_result",
                    "execution_count": 116,
                    "data": {
                        "application/vnd.dataresource+json": {
                            "schema": {
                                "fields": [
                                    {
                                        "name": "employee_id"
                                    },
                                    {
                                        "name": "last_name"
                                    },
                                    {
                                        "name": "first_name"
                                    },
                                    {
                                        "name": "salary"
                                    }
                                ]
                            },
                            "data": [
                                {
                                    "0": "206",
                                    "1": "Gietz",
                                    "2": "William",
                                    "3": "8300"
                                },
                                {
                                    "0": "205",
                                    "1": "Higgins",
                                    "2": "Shelley",
                                    "3": "12000"
                                },
                                {
                                    "0": "202",
                                    "1": "Fay",
                                    "2": "Pat",
                                    "3": "6000"
                                },
                                {
                                    "0": "201",
                                    "1": "Hartstein",
                                    "2": "Michael",
                                    "3": "13000"
                                },
                                {
                                    "0": "200",
                                    "1": "Whalen",
                                    "2": "Jennifer",
                                    "3": "4400"
                                },
                                {
                                    "0": "178",
                                    "1": "Grant",
                                    "2": "Kimberely",
                                    "3": "7000"
                                },
                                {
                                    "0": "176",
                                    "1": "Taylor",
                                    "2": "Jonathon",
                                    "3": "8600"
                                },
                                {
                                    "0": "174",
                                    "1": "Abel",
                                    "2": "Ellen",
                                    "3": "11000"
                                },
                                {
                                    "0": "149",
                                    "1": "Zlotkey",
                                    "2": "Eleni",
                                    "3": "10500"
                                },
                                {
                                    "0": "144",
                                    "1": "Vargas",
                                    "2": "Peter",
                                    "3": "2500"
                                },
                                {
                                    "0": "143",
                                    "1": "Matos",
                                    "2": "Randall",
                                    "3": "2600"
                                },
                                {
                                    "0": "142",
                                    "1": "Davies",
                                    "2": "Curtis",
                                    "3": "3100"
                                },
                                {
                                    "0": "141",
                                    "1": "Rajs",
                                    "2": "Trenna",
                                    "3": "3500"
                                },
                                {
                                    "0": "124",
                                    "1": "Morgous",
                                    "2": "Kevin",
                                    "3": "5800"
                                },
                                {
                                    "0": "107",
                                    "1": "Lorentz",
                                    "2": "Diana",
                                    "3": "4200"
                                },
                                {
                                    "0": "104",
                                    "1": "Ernst",
                                    "2": "Bruce",
                                    "3": "6000"
                                },
                                {
                                    "0": "103",
                                    "1": "Hunold",
                                    "2": "Alex",
                                    "3": "9000"
                                },
                                {
                                    "0": "102",
                                    "1": "De Haan",
                                    "2": "Lex",
                                    "3": "17000"
                                },
                                {
                                    "0": "101",
                                    "1": "Kochhar",
                                    "2": "Neena",
                                    "3": "17000"
                                },
                                {
                                    "0": "100",
                                    "1": "King",
                                    "2": "Steven",
                                    "3": "24000"
                                }
                            ]
                        },
                        "text/html": "<table><tr><th>employee_id</th><th>last_name</th><th>first_name</th><th>salary</th></tr><tr><td>206</td><td>Gietz</td><td>William</td><td>8300</td></tr><tr><td>205</td><td>Higgins</td><td>Shelley</td><td>12000</td></tr><tr><td>202</td><td>Fay</td><td>Pat</td><td>6000</td></tr><tr><td>201</td><td>Hartstein</td><td>Michael</td><td>13000</td></tr><tr><td>200</td><td>Whalen</td><td>Jennifer</td><td>4400</td></tr><tr><td>178</td><td>Grant</td><td>Kimberely</td><td>7000</td></tr><tr><td>176</td><td>Taylor</td><td>Jonathon</td><td>8600</td></tr><tr><td>174</td><td>Abel</td><td>Ellen</td><td>11000</td></tr><tr><td>149</td><td>Zlotkey</td><td>Eleni</td><td>10500</td></tr><tr><td>144</td><td>Vargas</td><td>Peter</td><td>2500</td></tr><tr><td>143</td><td>Matos</td><td>Randall</td><td>2600</td></tr><tr><td>142</td><td>Davies</td><td>Curtis</td><td>3100</td></tr><tr><td>141</td><td>Rajs</td><td>Trenna</td><td>3500</td></tr><tr><td>124</td><td>Morgous</td><td>Kevin</td><td>5800</td></tr><tr><td>107</td><td>Lorentz</td><td>Diana</td><td>4200</td></tr><tr><td>104</td><td>Ernst</td><td>Bruce</td><td>6000</td></tr><tr><td>103</td><td>Hunold</td><td>Alex</td><td>9000</td></tr><tr><td>102</td><td>De Haan</td><td>Lex</td><td>17000</td></tr><tr><td>101</td><td>Kochhar</td><td>Neena</td><td>17000</td></tr><tr><td>100</td><td>King</td><td>Steven</td><td>24000</td></tr></table>"
                    },
                    "metadata": {
                        "resultSet": {
                            "id": 0,
                            "batchId": 0,
                            "rowCount": 20,
                            "complete": true,
                            "columnInfo": [
                                {
                                    "isBytes": false,
                                    "isChars": false,
                                    "isSqlVariant": false,
                                    "isUdt": false,
                                    "isXml": false,
                                    "isJson": false,
                                    "sqlDbType": 8,
                                    "isHierarchyId": false,
                                    "isSqlXmlType": false,
                                    "isUnknownType": false,
                                    "isUpdatable": true,
                                    "allowDBNull": true,
                                    "baseCatalogName": null,
                                    "baseColumnName": null,
                                    "baseSchemaName": null,
                                    "baseServerName": null,
                                    "baseTableName": null,
                                    "columnName": "employee_id",
                                    "columnOrdinal": 0,
                                    "columnSize": 4,
                                    "isAliased": null,
                                    "isAutoIncrement": false,
                                    "isExpression": null,
                                    "isHidden": null,
                                    "isIdentity": false,
                                    "isKey": null,
                                    "isLong": false,
                                    "isReadOnly": false,
                                    "isUnique": false,
                                    "numericPrecision": 10,
                                    "numericScale": 255,
                                    "udtAssemblyQualifiedName": null,
                                    "dataType": "System.Int32, System.Private.CoreLib, Version=4.0.0.0, Culture=neutral, PublicKeyToken=7cec85d7bea7798e",
                                    "dataTypeName": "int"
                                },
                                {
                                    "isBytes": false,
                                    "isChars": true,
                                    "isSqlVariant": false,
                                    "isUdt": false,
                                    "isXml": false,
                                    "isJson": false,
                                    "sqlDbType": 22,
                                    "isHierarchyId": false,
                                    "isSqlXmlType": false,
                                    "isUnknownType": false,
                                    "isUpdatable": true,
                                    "allowDBNull": true,
                                    "baseCatalogName": null,
                                    "baseColumnName": null,
                                    "baseSchemaName": null,
                                    "baseServerName": null,
                                    "baseTableName": null,
                                    "columnName": "last_name",
                                    "columnOrdinal": 1,
                                    "columnSize": 20,
                                    "isAliased": null,
                                    "isAutoIncrement": false,
                                    "isExpression": null,
                                    "isHidden": null,
                                    "isIdentity": false,
                                    "isKey": null,
                                    "isLong": false,
                                    "isReadOnly": false,
                                    "isUnique": false,
                                    "numericPrecision": 255,
                                    "numericScale": 255,
                                    "udtAssemblyQualifiedName": null,
                                    "dataType": "System.String, System.Private.CoreLib, Version=4.0.0.0, Culture=neutral, PublicKeyToken=7cec85d7bea7798e",
                                    "dataTypeName": "varchar"
                                },
                                {
                                    "isBytes": false,
                                    "isChars": true,
                                    "isSqlVariant": false,
                                    "isUdt": false,
                                    "isXml": false,
                                    "isJson": false,
                                    "sqlDbType": 22,
                                    "isHierarchyId": false,
                                    "isSqlXmlType": false,
                                    "isUnknownType": false,
                                    "isUpdatable": true,
                                    "allowDBNull": true,
                                    "baseCatalogName": null,
                                    "baseColumnName": null,
                                    "baseSchemaName": null,
                                    "baseServerName": null,
                                    "baseTableName": null,
                                    "columnName": "first_name",
                                    "columnOrdinal": 2,
                                    "columnSize": 20,
                                    "isAliased": null,
                                    "isAutoIncrement": false,
                                    "isExpression": null,
                                    "isHidden": null,
                                    "isIdentity": false,
                                    "isKey": null,
                                    "isLong": false,
                                    "isReadOnly": false,
                                    "isUnique": false,
                                    "numericPrecision": 255,
                                    "numericScale": 255,
                                    "udtAssemblyQualifiedName": null,
                                    "dataType": "System.String, System.Private.CoreLib, Version=4.0.0.0, Culture=neutral, PublicKeyToken=7cec85d7bea7798e",
                                    "dataTypeName": "varchar"
                                },
                                {
                                    "isBytes": false,
                                    "isChars": false,
                                    "isSqlVariant": false,
                                    "isUdt": false,
                                    "isXml": false,
                                    "isJson": false,
                                    "sqlDbType": 8,
                                    "isHierarchyId": false,
                                    "isSqlXmlType": false,
                                    "isUnknownType": false,
                                    "isUpdatable": true,
                                    "allowDBNull": true,
                                    "baseCatalogName": null,
                                    "baseColumnName": null,
                                    "baseSchemaName": null,
                                    "baseServerName": null,
                                    "baseTableName": null,
                                    "columnName": "salary",
                                    "columnOrdinal": 3,
                                    "columnSize": 4,
                                    "isAliased": null,
                                    "isAutoIncrement": false,
                                    "isExpression": null,
                                    "isHidden": null,
                                    "isIdentity": false,
                                    "isKey": null,
                                    "isLong": false,
                                    "isReadOnly": false,
                                    "isUnique": false,
                                    "numericPrecision": 10,
                                    "numericScale": 255,
                                    "udtAssemblyQualifiedName": null,
                                    "dataType": "System.Int32, System.Private.CoreLib, Version=4.0.0.0, Culture=neutral, PublicKeyToken=7cec85d7bea7798e",
                                    "dataTypeName": "int"
                                }
                            ],
                            "specialAction": {
                                "none": true,
                                "expectYukonXMLShowPlan": false
                            }
                        }
                    }
                }
            ],
            "execution_count": 116
        },
        {
            "cell_type": "code",
            "source": [
                "select MAX(salary) as maximum, MIN(salary) as minimum, SUM(salary) as summ from employees;"
            ],
            "metadata": {
                "azdata_cell_guid": "25b2ed2b-8ebc-4d54-8487-477e5eb11ca9"
            },
            "outputs": [
                {
                    "output_type": "display_data",
                    "data": {
                        "text/html": "(1 row affected)"
                    },
                    "metadata": {}
                },
                {
                    "output_type": "display_data",
                    "data": {
                        "text/html": "Total execution time: 00:00:00.017"
                    },
                    "metadata": {}
                },
                {
                    "output_type": "execute_result",
                    "execution_count": 122,
                    "data": {
                        "application/vnd.dataresource+json": {
                            "schema": {
                                "fields": [
                                    {
                                        "name": "maximum"
                                    },
                                    {
                                        "name": "minimum"
                                    },
                                    {
                                        "name": "summ"
                                    }
                                ]
                            },
                            "data": [
                                {
                                    "0": "24000",
                                    "1": "2500",
                                    "2": "175500"
                                }
                            ]
                        },
                        "text/html": "<table><tr><th>maximum</th><th>minimum</th><th>summ</th></tr><tr><td>24000</td><td>2500</td><td>175500</td></tr></table>"
                    },
                    "metadata": {
                        "resultSet": {
                            "id": 0,
                            "batchId": 0,
                            "rowCount": 1,
                            "complete": true,
                            "columnInfo": [
                                {
                                    "isBytes": false,
                                    "isChars": false,
                                    "isSqlVariant": false,
                                    "isUdt": false,
                                    "isXml": false,
                                    "isJson": false,
                                    "sqlDbType": 8,
                                    "isHierarchyId": false,
                                    "isSqlXmlType": false,
                                    "isUnknownType": false,
                                    "isUpdatable": false,
                                    "allowDBNull": true,
                                    "baseCatalogName": null,
                                    "baseColumnName": null,
                                    "baseSchemaName": null,
                                    "baseServerName": null,
                                    "baseTableName": null,
                                    "columnName": "maximum",
                                    "columnOrdinal": 0,
                                    "columnSize": 4,
                                    "isAliased": null,
                                    "isAutoIncrement": false,
                                    "isExpression": null,
                                    "isHidden": null,
                                    "isIdentity": false,
                                    "isKey": null,
                                    "isLong": false,
                                    "isReadOnly": true,
                                    "isUnique": false,
                                    "numericPrecision": 10,
                                    "numericScale": 255,
                                    "udtAssemblyQualifiedName": null,
                                    "dataType": "System.Int32, System.Private.CoreLib, Version=4.0.0.0, Culture=neutral, PublicKeyToken=7cec85d7bea7798e",
                                    "dataTypeName": "int"
                                },
                                {
                                    "isBytes": false,
                                    "isChars": false,
                                    "isSqlVariant": false,
                                    "isUdt": false,
                                    "isXml": false,
                                    "isJson": false,
                                    "sqlDbType": 8,
                                    "isHierarchyId": false,
                                    "isSqlXmlType": false,
                                    "isUnknownType": false,
                                    "isUpdatable": false,
                                    "allowDBNull": true,
                                    "baseCatalogName": null,
                                    "baseColumnName": null,
                                    "baseSchemaName": null,
                                    "baseServerName": null,
                                    "baseTableName": null,
                                    "columnName": "minimum",
                                    "columnOrdinal": 1,
                                    "columnSize": 4,
                                    "isAliased": null,
                                    "isAutoIncrement": false,
                                    "isExpression": null,
                                    "isHidden": null,
                                    "isIdentity": false,
                                    "isKey": null,
                                    "isLong": false,
                                    "isReadOnly": true,
                                    "isUnique": false,
                                    "numericPrecision": 10,
                                    "numericScale": 255,
                                    "udtAssemblyQualifiedName": null,
                                    "dataType": "System.Int32, System.Private.CoreLib, Version=4.0.0.0, Culture=neutral, PublicKeyToken=7cec85d7bea7798e",
                                    "dataTypeName": "int"
                                },
                                {
                                    "isBytes": false,
                                    "isChars": false,
                                    "isSqlVariant": false,
                                    "isUdt": false,
                                    "isXml": false,
                                    "isJson": false,
                                    "sqlDbType": 8,
                                    "isHierarchyId": false,
                                    "isSqlXmlType": false,
                                    "isUnknownType": false,
                                    "isUpdatable": false,
                                    "allowDBNull": true,
                                    "baseCatalogName": null,
                                    "baseColumnName": null,
                                    "baseSchemaName": null,
                                    "baseServerName": null,
                                    "baseTableName": null,
                                    "columnName": "summ",
                                    "columnOrdinal": 2,
                                    "columnSize": 4,
                                    "isAliased": null,
                                    "isAutoIncrement": false,
                                    "isExpression": null,
                                    "isHidden": null,
                                    "isIdentity": false,
                                    "isKey": null,
                                    "isLong": false,
                                    "isReadOnly": true,
                                    "isUnique": false,
                                    "numericPrecision": 10,
                                    "numericScale": 255,
                                    "udtAssemblyQualifiedName": null,
                                    "dataType": "System.Int32, System.Private.CoreLib, Version=4.0.0.0, Culture=neutral, PublicKeyToken=7cec85d7bea7798e",
                                    "dataTypeName": "int"
                                }
                            ],
                            "specialAction": {
                                "none": true,
                                "expectYukonXMLShowPlan": false
                            }
                        }
                    }
                }
            ],
            "execution_count": 122
        },
        {
            "cell_type": "code",
            "source": [
                "SELECT COUNT(job_id) as cnt from employees;"
            ],
            "metadata": {
                "azdata_cell_guid": "57872af0-b51b-40d0-9a9f-639392280ee7"
            },
            "outputs": [
                {
                    "output_type": "display_data",
                    "data": {
                        "text/html": "(1 row affected)"
                    },
                    "metadata": {}
                },
                {
                    "output_type": "display_data",
                    "data": {
                        "text/html": "Total execution time: 00:00:00.007"
                    },
                    "metadata": {}
                },
                {
                    "output_type": "execute_result",
                    "execution_count": 124,
                    "data": {
                        "application/vnd.dataresource+json": {
                            "schema": {
                                "fields": [
                                    {
                                        "name": "cnt"
                                    }
                                ]
                            },
                            "data": [
                                {
                                    "0": "20"
                                }
                            ]
                        },
                        "text/html": "<table><tr><th>cnt</th></tr><tr><td>20</td></tr></table>"
                    },
                    "metadata": {
                        "resultSet": {
                            "id": 0,
                            "batchId": 0,
                            "rowCount": 1,
                            "complete": true,
                            "columnInfo": [
                                {
                                    "isBytes": false,
                                    "isChars": false,
                                    "isSqlVariant": false,
                                    "isUdt": false,
                                    "isXml": false,
                                    "isJson": false,
                                    "sqlDbType": 8,
                                    "isHierarchyId": false,
                                    "isSqlXmlType": false,
                                    "isUnknownType": false,
                                    "isUpdatable": false,
                                    "allowDBNull": true,
                                    "baseCatalogName": null,
                                    "baseColumnName": null,
                                    "baseSchemaName": null,
                                    "baseServerName": null,
                                    "baseTableName": null,
                                    "columnName": "cnt",
                                    "columnOrdinal": 0,
                                    "columnSize": 4,
                                    "isAliased": null,
                                    "isAutoIncrement": false,
                                    "isExpression": null,
                                    "isHidden": null,
                                    "isIdentity": false,
                                    "isKey": null,
                                    "isLong": false,
                                    "isReadOnly": true,
                                    "isUnique": false,
                                    "numericPrecision": 10,
                                    "numericScale": 255,
                                    "udtAssemblyQualifiedName": null,
                                    "dataType": "System.Int32, System.Private.CoreLib, Version=4.0.0.0, Culture=neutral, PublicKeyToken=7cec85d7bea7798e",
                                    "dataTypeName": "int"
                                }
                            ],
                            "specialAction": {
                                "none": true,
                                "expectYukonXMLShowPlan": false
                            }
                        }
                    }
                }
            ],
            "execution_count": 124
        },
        {
            "cell_type": "code",
            "source": [
                "SELECT COUNT(DIstinct job_id) as cnt from employees;"
            ],
            "metadata": {
                "azdata_cell_guid": "d55cc943-70be-4219-8ae5-abaa56a14b78"
            },
            "outputs": [
                {
                    "output_type": "display_data",
                    "data": {
                        "text/html": "(1 row affected)"
                    },
                    "metadata": {}
                },
                {
                    "output_type": "display_data",
                    "data": {
                        "text/html": "Total execution time: 00:00:00.025"
                    },
                    "metadata": {}
                },
                {
                    "output_type": "execute_result",
                    "execution_count": 126,
                    "data": {
                        "application/vnd.dataresource+json": {
                            "schema": {
                                "fields": [
                                    {
                                        "name": "cnt"
                                    }
                                ]
                            },
                            "data": [
                                {
                                    "0": "12"
                                }
                            ]
                        },
                        "text/html": "<table><tr><th>cnt</th></tr><tr><td>12</td></tr></table>"
                    },
                    "metadata": {
                        "resultSet": {
                            "id": 0,
                            "batchId": 0,
                            "rowCount": 1,
                            "complete": true,
                            "columnInfo": [
                                {
                                    "isBytes": false,
                                    "isChars": false,
                                    "isSqlVariant": false,
                                    "isUdt": false,
                                    "isXml": false,
                                    "isJson": false,
                                    "sqlDbType": 8,
                                    "isHierarchyId": false,
                                    "isSqlXmlType": false,
                                    "isUnknownType": false,
                                    "isUpdatable": false,
                                    "allowDBNull": true,
                                    "baseCatalogName": null,
                                    "baseColumnName": null,
                                    "baseSchemaName": null,
                                    "baseServerName": null,
                                    "baseTableName": null,
                                    "columnName": "cnt",
                                    "columnOrdinal": 0,
                                    "columnSize": 4,
                                    "isAliased": null,
                                    "isAutoIncrement": false,
                                    "isExpression": null,
                                    "isHidden": null,
                                    "isIdentity": false,
                                    "isKey": null,
                                    "isLong": false,
                                    "isReadOnly": true,
                                    "isUnique": false,
                                    "numericPrecision": 10,
                                    "numericScale": 255,
                                    "udtAssemblyQualifiedName": null,
                                    "dataType": "System.Int32, System.Private.CoreLib, Version=4.0.0.0, Culture=neutral, PublicKeyToken=7cec85d7bea7798e",
                                    "dataTypeName": "int"
                                }
                            ],
                            "specialAction": {
                                "none": true,
                                "expectYukonXMLShowPlan": false
                            }
                        }
                    }
                }
            ],
            "execution_count": 126
        },
        {
            "cell_type": "code",
            "source": [
                "select sum(salary) from employees\n",
                "GROUP by job_id;"
            ],
            "metadata": {
                "azdata_cell_guid": "58fef45a-13a6-4de7-ba36-a1add659bc32"
            },
            "outputs": [
                {
                    "output_type": "display_data",
                    "data": {
                        "text/html": "(12 rows affected)"
                    },
                    "metadata": {}
                },
                {
                    "output_type": "display_data",
                    "data": {
                        "text/html": "Total execution time: 00:00:00.015"
                    },
                    "metadata": {}
                },
                {
                    "output_type": "execute_result",
                    "execution_count": 128,
                    "data": {
                        "application/vnd.dataresource+json": {
                            "schema": {
                                "fields": [
                                    {
                                        "name": "(No column name)"
                                    }
                                ]
                            },
                            "data": [
                                {
                                    "0": "8300"
                                },
                                {
                                    "0": "12000"
                                },
                                {
                                    "0": "4400"
                                },
                                {
                                    "0": "27100"
                                },
                                {
                                    "0": "34000"
                                },
                                {
                                    "0": "19200"
                                },
                                {
                                    "0": "13000"
                                },
                                {
                                    "0": "6000"
                                },
                                {
                                    "0": "10500"
                                },
                                {
                                    "0": "26600"
                                },
                                {
                                    "0": "8600"
                                },
                                {
                                    "0": "5800"
                                }
                            ]
                        },
                        "text/html": "<table><tr><th>(No column name)</th></tr><tr><td>8300</td></tr><tr><td>12000</td></tr><tr><td>4400</td></tr><tr><td>27100</td></tr><tr><td>34000</td></tr><tr><td>19200</td></tr><tr><td>13000</td></tr><tr><td>6000</td></tr><tr><td>10500</td></tr><tr><td>26600</td></tr><tr><td>8600</td></tr><tr><td>5800</td></tr></table>"
                    },
                    "metadata": {
                        "resultSet": {
                            "id": 0,
                            "batchId": 0,
                            "rowCount": 12,
                            "complete": true,
                            "columnInfo": [
                                {
                                    "isBytes": false,
                                    "isChars": false,
                                    "isSqlVariant": false,
                                    "isUdt": false,
                                    "isXml": false,
                                    "isJson": false,
                                    "sqlDbType": 8,
                                    "isHierarchyId": false,
                                    "isSqlXmlType": false,
                                    "isUnknownType": false,
                                    "isUpdatable": false,
                                    "allowDBNull": true,
                                    "baseCatalogName": null,
                                    "baseColumnName": null,
                                    "baseSchemaName": null,
                                    "baseServerName": null,
                                    "baseTableName": null,
                                    "columnName": "(No column name)",
                                    "columnOrdinal": 0,
                                    "columnSize": 4,
                                    "isAliased": null,
                                    "isAutoIncrement": false,
                                    "isExpression": null,
                                    "isHidden": null,
                                    "isIdentity": false,
                                    "isKey": null,
                                    "isLong": false,
                                    "isReadOnly": true,
                                    "isUnique": false,
                                    "numericPrecision": 10,
                                    "numericScale": 255,
                                    "udtAssemblyQualifiedName": null,
                                    "dataType": "System.Int32, System.Private.CoreLib, Version=4.0.0.0, Culture=neutral, PublicKeyToken=7cec85d7bea7798e",
                                    "dataTypeName": "int"
                                }
                            ],
                            "specialAction": {
                                "none": true,
                                "expectYukonXMLShowPlan": false
                            }
                        }
                    }
                }
            ],
            "execution_count": 128
        },
        {
            "cell_type": "code",
            "source": [
                "select avg(salary) from employees\n",
                "GROUP by job_id;"
            ],
            "metadata": {
                "azdata_cell_guid": "8d9d45b5-2242-4fb0-b5ea-516e425dd828"
            },
            "outputs": [
                {
                    "output_type": "display_data",
                    "data": {
                        "text/html": "(12 rows affected)"
                    },
                    "metadata": {}
                },
                {
                    "output_type": "display_data",
                    "data": {
                        "text/html": "Total execution time: 00:00:00.008"
                    },
                    "metadata": {}
                },
                {
                    "output_type": "execute_result",
                    "execution_count": 129,
                    "data": {
                        "application/vnd.dataresource+json": {
                            "schema": {
                                "fields": [
                                    {
                                        "name": "(No column name)"
                                    }
                                ]
                            },
                            "data": [
                                {
                                    "0": "8300"
                                },
                                {
                                    "0": "12000"
                                },
                                {
                                    "0": "4400"
                                },
                                {
                                    "0": "13550"
                                },
                                {
                                    "0": "17000"
                                },
                                {
                                    "0": "6400"
                                },
                                {
                                    "0": "13000"
                                },
                                {
                                    "0": "6000"
                                },
                                {
                                    "0": "10500"
                                },
                                {
                                    "0": "8866"
                                },
                                {
                                    "0": "2866"
                                },
                                {
                                    "0": "5800"
                                }
                            ]
                        },
                        "text/html": "<table><tr><th>(No column name)</th></tr><tr><td>8300</td></tr><tr><td>12000</td></tr><tr><td>4400</td></tr><tr><td>13550</td></tr><tr><td>17000</td></tr><tr><td>6400</td></tr><tr><td>13000</td></tr><tr><td>6000</td></tr><tr><td>10500</td></tr><tr><td>8866</td></tr><tr><td>2866</td></tr><tr><td>5800</td></tr></table>"
                    },
                    "metadata": {
                        "resultSet": {
                            "id": 0,
                            "batchId": 0,
                            "rowCount": 12,
                            "complete": true,
                            "columnInfo": [
                                {
                                    "isBytes": false,
                                    "isChars": false,
                                    "isSqlVariant": false,
                                    "isUdt": false,
                                    "isXml": false,
                                    "isJson": false,
                                    "sqlDbType": 8,
                                    "isHierarchyId": false,
                                    "isSqlXmlType": false,
                                    "isUnknownType": false,
                                    "isUpdatable": false,
                                    "allowDBNull": true,
                                    "baseCatalogName": null,
                                    "baseColumnName": null,
                                    "baseSchemaName": null,
                                    "baseServerName": null,
                                    "baseTableName": null,
                                    "columnName": "(No column name)",
                                    "columnOrdinal": 0,
                                    "columnSize": 4,
                                    "isAliased": null,
                                    "isAutoIncrement": false,
                                    "isExpression": null,
                                    "isHidden": null,
                                    "isIdentity": false,
                                    "isKey": null,
                                    "isLong": false,
                                    "isReadOnly": true,
                                    "isUnique": false,
                                    "numericPrecision": 10,
                                    "numericScale": 255,
                                    "udtAssemblyQualifiedName": null,
                                    "dataType": "System.Int32, System.Private.CoreLib, Version=4.0.0.0, Culture=neutral, PublicKeyToken=7cec85d7bea7798e",
                                    "dataTypeName": "int"
                                }
                            ],
                            "specialAction": {
                                "none": true,
                                "expectYukonXMLShowPlan": false
                            }
                        }
                    }
                }
            ],
            "execution_count": 129
        },
        {
            "cell_type": "code",
            "source": [
                "select max(salary) as maximum from employees\n",
                "where salary>10000\n",
                "GROUP by job_id\n",
                "order by maximum desc;\n",
                ""
            ],
            "metadata": {
                "azdata_cell_guid": "15e86a77-0ca0-4688-9a80-e3960a2223f7",
                "tags": []
            },
            "outputs": [
                {
                    "output_type": "display_data",
                    "data": {
                        "text/html": "(6 rows affected)"
                    },
                    "metadata": {}
                },
                {
                    "output_type": "display_data",
                    "data": {
                        "text/html": "Total execution time: 00:00:00.026"
                    },
                    "metadata": {}
                },
                {
                    "output_type": "execute_result",
                    "execution_count": 144,
                    "data": {
                        "application/vnd.dataresource+json": {
                            "schema": {
                                "fields": [
                                    {
                                        "name": "maximum"
                                    }
                                ]
                            },
                            "data": [
                                {
                                    "0": "24000"
                                },
                                {
                                    "0": "17000"
                                },
                                {
                                    "0": "13000"
                                },
                                {
                                    "0": "12000"
                                },
                                {
                                    "0": "11000"
                                },
                                {
                                    "0": "10500"
                                }
                            ]
                        },
                        "text/html": "<table><tr><th>maximum</th></tr><tr><td>24000</td></tr><tr><td>17000</td></tr><tr><td>13000</td></tr><tr><td>12000</td></tr><tr><td>11000</td></tr><tr><td>10500</td></tr></table>"
                    },
                    "metadata": {
                        "resultSet": {
                            "id": 0,
                            "batchId": 0,
                            "rowCount": 6,
                            "complete": true,
                            "columnInfo": [
                                {
                                    "isBytes": false,
                                    "isChars": false,
                                    "isSqlVariant": false,
                                    "isUdt": false,
                                    "isXml": false,
                                    "isJson": false,
                                    "sqlDbType": 8,
                                    "isHierarchyId": false,
                                    "isSqlXmlType": false,
                                    "isUnknownType": false,
                                    "isUpdatable": false,
                                    "allowDBNull": true,
                                    "baseCatalogName": null,
                                    "baseColumnName": null,
                                    "baseSchemaName": null,
                                    "baseServerName": null,
                                    "baseTableName": null,
                                    "columnName": "maximum",
                                    "columnOrdinal": 0,
                                    "columnSize": 4,
                                    "isAliased": null,
                                    "isAutoIncrement": false,
                                    "isExpression": null,
                                    "isHidden": null,
                                    "isIdentity": false,
                                    "isKey": null,
                                    "isLong": false,
                                    "isReadOnly": true,
                                    "isUnique": false,
                                    "numericPrecision": 10,
                                    "numericScale": 255,
                                    "udtAssemblyQualifiedName": null,
                                    "dataType": "System.Int32, System.Private.CoreLib, Version=4.0.0.0, Culture=neutral, PublicKeyToken=7cec85d7bea7798e",
                                    "dataTypeName": "int"
                                }
                            ],
                            "specialAction": {
                                "none": true,
                                "expectYukonXMLShowPlan": false
                            }
                        }
                    }
                }
            ],
            "execution_count": 144
        },
        {
            "cell_type": "code",
            "source": [
                "USE DB_lab1;\n",
                "select max(average) as max_avg\n",
                "from (\n",
                "    select avg(salary) as average\n",
                "    from employees\n",
                "    where job_id='IT_PROG'\n",
                "    group by job_id) as a\n",
                "    ;"
            ],
            "metadata": {
                "azdata_cell_guid": "75b5bcea-3ba4-4053-b6c2-10d1b649e117",
                "tags": []
            },
            "outputs": [
                {
                    "output_type": "display_data",
                    "data": {
                        "text/html": "(1 row affected)"
                    },
                    "metadata": {}
                },
                {
                    "output_type": "display_data",
                    "data": {
                        "text/html": "Total execution time: 00:00:00.025"
                    },
                    "metadata": {}
                },
                {
                    "output_type": "execute_result",
                    "metadata": {
                        "resultSet": {
                            "id": 0,
                            "batchId": 0,
                            "rowCount": 1,
                            "complete": true,
                            "columnInfo": [
                                {
                                    "isBytes": false,
                                    "isChars": false,
                                    "isSqlVariant": false,
                                    "isUdt": false,
                                    "isXml": false,
                                    "isJson": false,
                                    "sqlDbType": 8,
                                    "isHierarchyId": false,
                                    "isSqlXmlType": false,
                                    "isUnknownType": false,
                                    "isUpdatable": false,
                                    "allowDBNull": true,
                                    "baseCatalogName": null,
                                    "baseColumnName": null,
                                    "baseSchemaName": null,
                                    "baseServerName": null,
                                    "baseTableName": null,
                                    "columnName": "max_avg",
                                    "columnOrdinal": 0,
                                    "columnSize": 4,
                                    "isAliased": null,
                                    "isAutoIncrement": false,
                                    "isExpression": null,
                                    "isHidden": null,
                                    "isIdentity": false,
                                    "isKey": null,
                                    "isLong": false,
                                    "isReadOnly": true,
                                    "isUnique": false,
                                    "numericPrecision": 10,
                                    "numericScale": 255,
                                    "udtAssemblyQualifiedName": null,
                                    "dataType": "System.Int32, System.Private.CoreLib, Version=4.0.0.0, Culture=neutral, PublicKeyToken=7cec85d7bea7798e",
                                    "dataTypeName": "int"
                                }
                            ],
                            "specialAction": {
                                "none": true,
                                "expectYukonXMLShowPlan": false
                            }
                        }
                    },
                    "execution_count": 3,
                    "data": {
                        "application/vnd.dataresource+json": {
                            "schema": {
                                "fields": [
                                    {
                                        "name": "max_avg"
                                    }
                                ]
                            },
                            "data": [
                                {
                                    "0": "6400"
                                }
                            ]
                        },
                        "text/html": [
                            "<table>",
                            "<tr><th>max_avg</th></tr>",
                            "<tr><td>6400</td></tr>",
                            "</table>"
                        ]
                    }
                }
            ],
            "execution_count": 3
        },
        {
            "cell_type": "code",
            "source": [
                "SELECT last_name, salary, salary*3 as Dream_Salary from employees;"
            ],
            "metadata": {
                "azdata_cell_guid": "a5446b50-0dff-44c5-80ac-73f99e578ccd"
            },
            "outputs": [
                {
                    "output_type": "display_data",
                    "data": {
                        "text/html": "(20 rows affected)"
                    },
                    "metadata": {}
                },
                {
                    "output_type": "display_data",
                    "data": {
                        "text/html": "Total execution time: 00:00:00.017"
                    },
                    "metadata": {}
                },
                {
                    "output_type": "execute_result",
                    "metadata": {
                        "resultSet": {
                            "id": 0,
                            "batchId": 0,
                            "rowCount": 20,
                            "complete": true,
                            "columnInfo": [
                                {
                                    "isBytes": false,
                                    "isChars": true,
                                    "isSqlVariant": false,
                                    "isUdt": false,
                                    "isXml": false,
                                    "isJson": false,
                                    "sqlDbType": 22,
                                    "isHierarchyId": false,
                                    "isSqlXmlType": false,
                                    "isUnknownType": false,
                                    "isUpdatable": true,
                                    "allowDBNull": true,
                                    "baseCatalogName": null,
                                    "baseColumnName": null,
                                    "baseSchemaName": null,
                                    "baseServerName": null,
                                    "baseTableName": null,
                                    "columnName": "last_name",
                                    "columnOrdinal": 0,
                                    "columnSize": 20,
                                    "isAliased": null,
                                    "isAutoIncrement": false,
                                    "isExpression": null,
                                    "isHidden": null,
                                    "isIdentity": false,
                                    "isKey": null,
                                    "isLong": false,
                                    "isReadOnly": false,
                                    "isUnique": false,
                                    "numericPrecision": 255,
                                    "numericScale": 255,
                                    "udtAssemblyQualifiedName": null,
                                    "dataType": "System.String, System.Private.CoreLib, Version=4.0.0.0, Culture=neutral, PublicKeyToken=7cec85d7bea7798e",
                                    "dataTypeName": "varchar"
                                },
                                {
                                    "isBytes": false,
                                    "isChars": false,
                                    "isSqlVariant": false,
                                    "isUdt": false,
                                    "isXml": false,
                                    "isJson": false,
                                    "sqlDbType": 8,
                                    "isHierarchyId": false,
                                    "isSqlXmlType": false,
                                    "isUnknownType": false,
                                    "isUpdatable": true,
                                    "allowDBNull": true,
                                    "baseCatalogName": null,
                                    "baseColumnName": null,
                                    "baseSchemaName": null,
                                    "baseServerName": null,
                                    "baseTableName": null,
                                    "columnName": "salary",
                                    "columnOrdinal": 1,
                                    "columnSize": 4,
                                    "isAliased": null,
                                    "isAutoIncrement": false,
                                    "isExpression": null,
                                    "isHidden": null,
                                    "isIdentity": false,
                                    "isKey": null,
                                    "isLong": false,
                                    "isReadOnly": false,
                                    "isUnique": false,
                                    "numericPrecision": 10,
                                    "numericScale": 255,
                                    "udtAssemblyQualifiedName": null,
                                    "dataType": "System.Int32, System.Private.CoreLib, Version=4.0.0.0, Culture=neutral, PublicKeyToken=7cec85d7bea7798e",
                                    "dataTypeName": "int"
                                },
                                {
                                    "isBytes": false,
                                    "isChars": false,
                                    "isSqlVariant": false,
                                    "isUdt": false,
                                    "isXml": false,
                                    "isJson": false,
                                    "sqlDbType": 8,
                                    "isHierarchyId": false,
                                    "isSqlXmlType": false,
                                    "isUnknownType": false,
                                    "isUpdatable": false,
                                    "allowDBNull": true,
                                    "baseCatalogName": null,
                                    "baseColumnName": null,
                                    "baseSchemaName": null,
                                    "baseServerName": null,
                                    "baseTableName": null,
                                    "columnName": "Dream_Salary",
                                    "columnOrdinal": 2,
                                    "columnSize": 4,
                                    "isAliased": null,
                                    "isAutoIncrement": false,
                                    "isExpression": null,
                                    "isHidden": null,
                                    "isIdentity": false,
                                    "isKey": null,
                                    "isLong": false,
                                    "isReadOnly": true,
                                    "isUnique": false,
                                    "numericPrecision": 10,
                                    "numericScale": 255,
                                    "udtAssemblyQualifiedName": null,
                                    "dataType": "System.Int32, System.Private.CoreLib, Version=4.0.0.0, Culture=neutral, PublicKeyToken=7cec85d7bea7798e",
                                    "dataTypeName": "int"
                                }
                            ],
                            "specialAction": {
                                "none": true,
                                "expectYukonXMLShowPlan": false
                            }
                        }
                    },
                    "execution_count": 4,
                    "data": {
                        "application/vnd.dataresource+json": {
                            "schema": {
                                "fields": [
                                    {
                                        "name": "last_name"
                                    },
                                    {
                                        "name": "salary"
                                    },
                                    {
                                        "name": "Dream_Salary"
                                    }
                                ]
                            },
                            "data": [
                                {
                                    "0": "King",
                                    "1": "24000",
                                    "2": "72000"
                                },
                                {
                                    "0": "Kochhar",
                                    "1": "17000",
                                    "2": "51000"
                                },
                                {
                                    "0": "De Haan",
                                    "1": "17000",
                                    "2": "51000"
                                },
                                {
                                    "0": "Hunold",
                                    "1": "9000",
                                    "2": "27000"
                                },
                                {
                                    "0": "Ernst",
                                    "1": "6000",
                                    "2": "18000"
                                },
                                {
                                    "0": "Lorentz",
                                    "1": "4200",
                                    "2": "12600"
                                },
                                {
                                    "0": "Morgous",
                                    "1": "5800",
                                    "2": "17400"
                                },
                                {
                                    "0": "Rajs",
                                    "1": "3500",
                                    "2": "10500"
                                },
                                {
                                    "0": "Davies",
                                    "1": "3100",
                                    "2": "9300"
                                },
                                {
                                    "0": "Matos",
                                    "1": "2600",
                                    "2": "7800"
                                },
                                {
                                    "0": "Vargas",
                                    "1": "2500",
                                    "2": "7500"
                                },
                                {
                                    "0": "Zlotkey",
                                    "1": "10500",
                                    "2": "31500"
                                },
                                {
                                    "0": "Abel",
                                    "1": "11000",
                                    "2": "33000"
                                },
                                {
                                    "0": "Taylor",
                                    "1": "8600",
                                    "2": "25800"
                                },
                                {
                                    "0": "Grant",
                                    "1": "7000",
                                    "2": "21000"
                                },
                                {
                                    "0": "Whalen",
                                    "1": "4400",
                                    "2": "13200"
                                },
                                {
                                    "0": "Hartstein",
                                    "1": "13000",
                                    "2": "39000"
                                },
                                {
                                    "0": "Fay",
                                    "1": "6000",
                                    "2": "18000"
                                },
                                {
                                    "0": "Higgins",
                                    "1": "12000",
                                    "2": "36000"
                                },
                                {
                                    "0": "Gietz",
                                    "1": "8300",
                                    "2": "24900"
                                }
                            ]
                        },
                        "text/html": [
                            "<table>",
                            "<tr><th>last_name</th><th>salary</th><th>Dream_Salary</th></tr>",
                            "<tr><td>King</td><td>24000</td><td>72000</td></tr>",
                            "<tr><td>Kochhar</td><td>17000</td><td>51000</td></tr>",
                            "<tr><td>De Haan</td><td>17000</td><td>51000</td></tr>",
                            "<tr><td>Hunold</td><td>9000</td><td>27000</td></tr>",
                            "<tr><td>Ernst</td><td>6000</td><td>18000</td></tr>",
                            "<tr><td>Lorentz</td><td>4200</td><td>12600</td></tr>",
                            "<tr><td>Morgous</td><td>5800</td><td>17400</td></tr>",
                            "<tr><td>Rajs</td><td>3500</td><td>10500</td></tr>",
                            "<tr><td>Davies</td><td>3100</td><td>9300</td></tr>",
                            "<tr><td>Matos</td><td>2600</td><td>7800</td></tr>",
                            "<tr><td>Vargas</td><td>2500</td><td>7500</td></tr>",
                            "<tr><td>Zlotkey</td><td>10500</td><td>31500</td></tr>",
                            "<tr><td>Abel</td><td>11000</td><td>33000</td></tr>",
                            "<tr><td>Taylor</td><td>8600</td><td>25800</td></tr>",
                            "<tr><td>Grant</td><td>7000</td><td>21000</td></tr>",
                            "<tr><td>Whalen</td><td>4400</td><td>13200</td></tr>",
                            "<tr><td>Hartstein</td><td>13000</td><td>39000</td></tr>",
                            "<tr><td>Fay</td><td>6000</td><td>18000</td></tr>",
                            "<tr><td>Higgins</td><td>12000</td><td>36000</td></tr>",
                            "<tr><td>Gietz</td><td>8300</td><td>24900</td></tr>",
                            "</table>"
                        ]
                    }
                }
            ],
            "execution_count": 4
        },
        {
            "cell_type": "code",
            "source": [
                "select last_name, first_name, len(first_name) as let_num from Employees;\n",
                ""
            ],
            "metadata": {
                "azdata_cell_guid": "45a8e151-1c23-4346-8bbe-1a899f53d051"
            },
            "outputs": [
                {
                    "output_type": "display_data",
                    "data": {
                        "text/html": "(20 rows affected)"
                    },
                    "metadata": {}
                },
                {
                    "output_type": "display_data",
                    "data": {
                        "text/html": "Total execution time: 00:00:00.021"
                    },
                    "metadata": {}
                },
                {
                    "output_type": "execute_result",
                    "metadata": {
                        "resultSet": {
                            "id": 0,
                            "batchId": 0,
                            "rowCount": 20,
                            "complete": true,
                            "columnInfo": [
                                {
                                    "isBytes": false,
                                    "isChars": true,
                                    "isSqlVariant": false,
                                    "isUdt": false,
                                    "isXml": false,
                                    "isJson": false,
                                    "sqlDbType": 22,
                                    "isHierarchyId": false,
                                    "isSqlXmlType": false,
                                    "isUnknownType": false,
                                    "isUpdatable": true,
                                    "allowDBNull": true,
                                    "baseCatalogName": null,
                                    "baseColumnName": null,
                                    "baseSchemaName": null,
                                    "baseServerName": null,
                                    "baseTableName": null,
                                    "columnName": "last_name",
                                    "columnOrdinal": 0,
                                    "columnSize": 20,
                                    "isAliased": null,
                                    "isAutoIncrement": false,
                                    "isExpression": null,
                                    "isHidden": null,
                                    "isIdentity": false,
                                    "isKey": null,
                                    "isLong": false,
                                    "isReadOnly": false,
                                    "isUnique": false,
                                    "numericPrecision": 255,
                                    "numericScale": 255,
                                    "udtAssemblyQualifiedName": null,
                                    "dataType": "System.String, System.Private.CoreLib, Version=4.0.0.0, Culture=neutral, PublicKeyToken=7cec85d7bea7798e",
                                    "dataTypeName": "varchar"
                                },
                                {
                                    "isBytes": false,
                                    "isChars": true,
                                    "isSqlVariant": false,
                                    "isUdt": false,
                                    "isXml": false,
                                    "isJson": false,
                                    "sqlDbType": 22,
                                    "isHierarchyId": false,
                                    "isSqlXmlType": false,
                                    "isUnknownType": false,
                                    "isUpdatable": true,
                                    "allowDBNull": true,
                                    "baseCatalogName": null,
                                    "baseColumnName": null,
                                    "baseSchemaName": null,
                                    "baseServerName": null,
                                    "baseTableName": null,
                                    "columnName": "first_name",
                                    "columnOrdinal": 1,
                                    "columnSize": 20,
                                    "isAliased": null,
                                    "isAutoIncrement": false,
                                    "isExpression": null,
                                    "isHidden": null,
                                    "isIdentity": false,
                                    "isKey": null,
                                    "isLong": false,
                                    "isReadOnly": false,
                                    "isUnique": false,
                                    "numericPrecision": 255,
                                    "numericScale": 255,
                                    "udtAssemblyQualifiedName": null,
                                    "dataType": "System.String, System.Private.CoreLib, Version=4.0.0.0, Culture=neutral, PublicKeyToken=7cec85d7bea7798e",
                                    "dataTypeName": "varchar"
                                },
                                {
                                    "isBytes": false,
                                    "isChars": false,
                                    "isSqlVariant": false,
                                    "isUdt": false,
                                    "isXml": false,
                                    "isJson": false,
                                    "sqlDbType": 8,
                                    "isHierarchyId": false,
                                    "isSqlXmlType": false,
                                    "isUnknownType": false,
                                    "isUpdatable": false,
                                    "allowDBNull": true,
                                    "baseCatalogName": null,
                                    "baseColumnName": null,
                                    "baseSchemaName": null,
                                    "baseServerName": null,
                                    "baseTableName": null,
                                    "columnName": "let_num",
                                    "columnOrdinal": 2,
                                    "columnSize": 4,
                                    "isAliased": null,
                                    "isAutoIncrement": false,
                                    "isExpression": null,
                                    "isHidden": null,
                                    "isIdentity": false,
                                    "isKey": null,
                                    "isLong": false,
                                    "isReadOnly": true,
                                    "isUnique": false,
                                    "numericPrecision": 10,
                                    "numericScale": 255,
                                    "udtAssemblyQualifiedName": null,
                                    "dataType": "System.Int32, System.Private.CoreLib, Version=4.0.0.0, Culture=neutral, PublicKeyToken=7cec85d7bea7798e",
                                    "dataTypeName": "int"
                                }
                            ],
                            "specialAction": {
                                "none": true,
                                "expectYukonXMLShowPlan": false
                            }
                        }
                    },
                    "execution_count": 5,
                    "data": {
                        "application/vnd.dataresource+json": {
                            "schema": {
                                "fields": [
                                    {
                                        "name": "last_name"
                                    },
                                    {
                                        "name": "first_name"
                                    },
                                    {
                                        "name": "let_num"
                                    }
                                ]
                            },
                            "data": [
                                {
                                    "0": "King",
                                    "1": "Steven",
                                    "2": "6"
                                },
                                {
                                    "0": "Kochhar",
                                    "1": "Neena",
                                    "2": "5"
                                },
                                {
                                    "0": "De Haan",
                                    "1": "Lex",
                                    "2": "3"
                                },
                                {
                                    "0": "Hunold",
                                    "1": "Alex",
                                    "2": "4"
                                },
                                {
                                    "0": "Ernst",
                                    "1": "Bruce",
                                    "2": "5"
                                },
                                {
                                    "0": "Lorentz",
                                    "1": "Diana",
                                    "2": "5"
                                },
                                {
                                    "0": "Morgous",
                                    "1": "Kevin",
                                    "2": "5"
                                },
                                {
                                    "0": "Rajs",
                                    "1": "Trenna",
                                    "2": "6"
                                },
                                {
                                    "0": "Davies",
                                    "1": "Curtis",
                                    "2": "6"
                                },
                                {
                                    "0": "Matos",
                                    "1": "Randall",
                                    "2": "7"
                                },
                                {
                                    "0": "Vargas",
                                    "1": "Peter",
                                    "2": "5"
                                },
                                {
                                    "0": "Zlotkey",
                                    "1": "Eleni",
                                    "2": "5"
                                },
                                {
                                    "0": "Abel",
                                    "1": "Ellen",
                                    "2": "5"
                                },
                                {
                                    "0": "Taylor",
                                    "1": "Jonathon",
                                    "2": "8"
                                },
                                {
                                    "0": "Grant",
                                    "1": "Kimberely",
                                    "2": "9"
                                },
                                {
                                    "0": "Whalen",
                                    "1": "Jennifer",
                                    "2": "8"
                                },
                                {
                                    "0": "Hartstein",
                                    "1": "Michael",
                                    "2": "7"
                                },
                                {
                                    "0": "Fay",
                                    "1": "Pat",
                                    "2": "3"
                                },
                                {
                                    "0": "Higgins",
                                    "1": "Shelley",
                                    "2": "7"
                                },
                                {
                                    "0": "Gietz",
                                    "1": "William",
                                    "2": "7"
                                }
                            ]
                        },
                        "text/html": [
                            "<table>",
                            "<tr><th>last_name</th><th>first_name</th><th>let_num</th></tr>",
                            "<tr><td>King</td><td>Steven</td><td>6</td></tr>",
                            "<tr><td>Kochhar</td><td>Neena</td><td>5</td></tr>",
                            "<tr><td>De Haan</td><td>Lex</td><td>3</td></tr>",
                            "<tr><td>Hunold</td><td>Alex</td><td>4</td></tr>",
                            "<tr><td>Ernst</td><td>Bruce</td><td>5</td></tr>",
                            "<tr><td>Lorentz</td><td>Diana</td><td>5</td></tr>",
                            "<tr><td>Morgous</td><td>Kevin</td><td>5</td></tr>",
                            "<tr><td>Rajs</td><td>Trenna</td><td>6</td></tr>",
                            "<tr><td>Davies</td><td>Curtis</td><td>6</td></tr>",
                            "<tr><td>Matos</td><td>Randall</td><td>7</td></tr>",
                            "<tr><td>Vargas</td><td>Peter</td><td>5</td></tr>",
                            "<tr><td>Zlotkey</td><td>Eleni</td><td>5</td></tr>",
                            "<tr><td>Abel</td><td>Ellen</td><td>5</td></tr>",
                            "<tr><td>Taylor</td><td>Jonathon</td><td>8</td></tr>",
                            "<tr><td>Grant</td><td>Kimberely</td><td>9</td></tr>",
                            "<tr><td>Whalen</td><td>Jennifer</td><td>8</td></tr>",
                            "<tr><td>Hartstein</td><td>Michael</td><td>7</td></tr>",
                            "<tr><td>Fay</td><td>Pat</td><td>3</td></tr>",
                            "<tr><td>Higgins</td><td>Shelley</td><td>7</td></tr>",
                            "<tr><td>Gietz</td><td>William</td><td>7</td></tr>",
                            "</table>"
                        ]
                    }
                }
            ],
            "execution_count": 5
        },
        {
            "cell_type": "code",
            "source": [
                "select last_name+' '+FIRST_NAME as Employee_name from Employees;"
            ],
            "metadata": {
                "azdata_cell_guid": "950c9312-e6ac-4e63-8624-b4fe0f8394e0"
            },
            "outputs": [
                {
                    "output_type": "display_data",
                    "data": {
                        "text/html": "(20 rows affected)"
                    },
                    "metadata": {}
                },
                {
                    "output_type": "display_data",
                    "data": {
                        "text/html": "Total execution time: 00:00:00.018"
                    },
                    "metadata": {}
                },
                {
                    "output_type": "execute_result",
                    "metadata": {
                        "resultSet": {
                            "id": 0,
                            "batchId": 0,
                            "rowCount": 20,
                            "complete": true,
                            "columnInfo": [
                                {
                                    "isBytes": false,
                                    "isChars": true,
                                    "isSqlVariant": false,
                                    "isUdt": false,
                                    "isXml": false,
                                    "isJson": false,
                                    "sqlDbType": 22,
                                    "isHierarchyId": false,
                                    "isSqlXmlType": false,
                                    "isUnknownType": false,
                                    "isUpdatable": false,
                                    "allowDBNull": true,
                                    "baseCatalogName": null,
                                    "baseColumnName": null,
                                    "baseSchemaName": null,
                                    "baseServerName": null,
                                    "baseTableName": null,
                                    "columnName": "Employee_name",
                                    "columnOrdinal": 0,
                                    "columnSize": 41,
                                    "isAliased": null,
                                    "isAutoIncrement": false,
                                    "isExpression": null,
                                    "isHidden": null,
                                    "isIdentity": false,
                                    "isKey": null,
                                    "isLong": false,
                                    "isReadOnly": true,
                                    "isUnique": false,
                                    "numericPrecision": 255,
                                    "numericScale": 255,
                                    "udtAssemblyQualifiedName": null,
                                    "dataType": "System.String, System.Private.CoreLib, Version=4.0.0.0, Culture=neutral, PublicKeyToken=7cec85d7bea7798e",
                                    "dataTypeName": "varchar"
                                }
                            ],
                            "specialAction": {
                                "none": true,
                                "expectYukonXMLShowPlan": false
                            }
                        }
                    },
                    "execution_count": 8,
                    "data": {
                        "application/vnd.dataresource+json": {
                            "schema": {
                                "fields": [
                                    {
                                        "name": "Employee_name"
                                    }
                                ]
                            },
                            "data": [
                                {
                                    "0": "King Steven"
                                },
                                {
                                    "0": "Kochhar Neena"
                                },
                                {
                                    "0": "De Haan Lex"
                                },
                                {
                                    "0": "Hunold Alex"
                                },
                                {
                                    "0": "Ernst Bruce"
                                },
                                {
                                    "0": "Lorentz Diana"
                                },
                                {
                                    "0": "Morgous Kevin"
                                },
                                {
                                    "0": "Rajs Trenna"
                                },
                                {
                                    "0": "Davies Curtis"
                                },
                                {
                                    "0": "Matos Randall"
                                },
                                {
                                    "0": "Vargas Peter"
                                },
                                {
                                    "0": "Zlotkey Eleni"
                                },
                                {
                                    "0": "Abel Ellen"
                                },
                                {
                                    "0": "Taylor Jonathon"
                                },
                                {
                                    "0": "Grant Kimberely"
                                },
                                {
                                    "0": "Whalen Jennifer"
                                },
                                {
                                    "0": "Hartstein Michael"
                                },
                                {
                                    "0": "Fay Pat"
                                },
                                {
                                    "0": "Higgins Shelley"
                                },
                                {
                                    "0": "Gietz William"
                                }
                            ]
                        },
                        "text/html": [
                            "<table>",
                            "<tr><th>Employee_name</th></tr>",
                            "<tr><td>King Steven</td></tr>",
                            "<tr><td>Kochhar Neena</td></tr>",
                            "<tr><td>De Haan Lex</td></tr>",
                            "<tr><td>Hunold Alex</td></tr>",
                            "<tr><td>Ernst Bruce</td></tr>",
                            "<tr><td>Lorentz Diana</td></tr>",
                            "<tr><td>Morgous Kevin</td></tr>",
                            "<tr><td>Rajs Trenna</td></tr>",
                            "<tr><td>Davies Curtis</td></tr>",
                            "<tr><td>Matos Randall</td></tr>",
                            "<tr><td>Vargas Peter</td></tr>",
                            "<tr><td>Zlotkey Eleni</td></tr>",
                            "<tr><td>Abel Ellen</td></tr>",
                            "<tr><td>Taylor Jonathon</td></tr>",
                            "<tr><td>Grant Kimberely</td></tr>",
                            "<tr><td>Whalen Jennifer</td></tr>",
                            "<tr><td>Hartstein Michael</td></tr>",
                            "<tr><td>Fay Pat</td></tr>",
                            "<tr><td>Higgins Shelley</td></tr>",
                            "<tr><td>Gietz William</td></tr>",
                            "</table>"
                        ]
                    }
                }
            ],
            "execution_count": 8
        },
        {
            "cell_type": "code",
            "source": [
                "select left(last_name, 3) from Employees;"
            ],
            "metadata": {
                "azdata_cell_guid": "880f592a-2302-44bd-a893-a9623ac73e5c"
            },
            "outputs": [
                {
                    "output_type": "display_data",
                    "data": {
                        "text/html": "(20 rows affected)"
                    },
                    "metadata": {}
                },
                {
                    "output_type": "display_data",
                    "data": {
                        "text/html": "Total execution time: 00:00:00.014"
                    },
                    "metadata": {}
                },
                {
                    "output_type": "execute_result",
                    "metadata": {
                        "resultSet": {
                            "id": 0,
                            "batchId": 0,
                            "rowCount": 20,
                            "complete": true,
                            "columnInfo": [
                                {
                                    "isBytes": false,
                                    "isChars": true,
                                    "isSqlVariant": false,
                                    "isUdt": false,
                                    "isXml": false,
                                    "isJson": false,
                                    "sqlDbType": 22,
                                    "isHierarchyId": false,
                                    "isSqlXmlType": false,
                                    "isUnknownType": false,
                                    "isUpdatable": false,
                                    "allowDBNull": true,
                                    "baseCatalogName": null,
                                    "baseColumnName": null,
                                    "baseSchemaName": null,
                                    "baseServerName": null,
                                    "baseTableName": null,
                                    "columnName": "(No column name)",
                                    "columnOrdinal": 0,
                                    "columnSize": 3,
                                    "isAliased": null,
                                    "isAutoIncrement": false,
                                    "isExpression": null,
                                    "isHidden": null,
                                    "isIdentity": false,
                                    "isKey": null,
                                    "isLong": false,
                                    "isReadOnly": true,
                                    "isUnique": false,
                                    "numericPrecision": 255,
                                    "numericScale": 255,
                                    "udtAssemblyQualifiedName": null,
                                    "dataType": "System.String, System.Private.CoreLib, Version=4.0.0.0, Culture=neutral, PublicKeyToken=7cec85d7bea7798e",
                                    "dataTypeName": "varchar"
                                }
                            ],
                            "specialAction": {
                                "none": true,
                                "expectYukonXMLShowPlan": false
                            }
                        }
                    },
                    "execution_count": 10,
                    "data": {
                        "application/vnd.dataresource+json": {
                            "schema": {
                                "fields": [
                                    {
                                        "name": "(No column name)"
                                    }
                                ]
                            },
                            "data": [
                                {
                                    "0": "Kin"
                                },
                                {
                                    "0": "Koc"
                                },
                                {
                                    "0": "De "
                                },
                                {
                                    "0": "Hun"
                                },
                                {
                                    "0": "Ern"
                                },
                                {
                                    "0": "Lor"
                                },
                                {
                                    "0": "Mor"
                                },
                                {
                                    "0": "Raj"
                                },
                                {
                                    "0": "Dav"
                                },
                                {
                                    "0": "Mat"
                                },
                                {
                                    "0": "Var"
                                },
                                {
                                    "0": "Zlo"
                                },
                                {
                                    "0": "Abe"
                                },
                                {
                                    "0": "Tay"
                                },
                                {
                                    "0": "Gra"
                                },
                                {
                                    "0": "Wha"
                                },
                                {
                                    "0": "Har"
                                },
                                {
                                    "0": "Fay"
                                },
                                {
                                    "0": "Hig"
                                },
                                {
                                    "0": "Gie"
                                }
                            ]
                        },
                        "text/html": [
                            "<table>",
                            "<tr><th>(No column name)</th></tr>",
                            "<tr><td>Kin</td></tr>",
                            "<tr><td>Koc</td></tr>",
                            "<tr><td>De </td></tr>",
                            "<tr><td>Hun</td></tr>",
                            "<tr><td>Ern</td></tr>",
                            "<tr><td>Lor</td></tr>",
                            "<tr><td>Mor</td></tr>",
                            "<tr><td>Raj</td></tr>",
                            "<tr><td>Dav</td></tr>",
                            "<tr><td>Mat</td></tr>",
                            "<tr><td>Var</td></tr>",
                            "<tr><td>Zlo</td></tr>",
                            "<tr><td>Abe</td></tr>",
                            "<tr><td>Tay</td></tr>",
                            "<tr><td>Gra</td></tr>",
                            "<tr><td>Wha</td></tr>",
                            "<tr><td>Har</td></tr>",
                            "<tr><td>Fay</td></tr>",
                            "<tr><td>Hig</td></tr>",
                            "<tr><td>Gie</td></tr>",
                            "</table>"
                        ]
                    }
                }
            ],
            "execution_count": 10
        },
        {
            "cell_type": "code",
            "source": [
                "select reverse(first_name) as rev_name from Employees;"
            ],
            "metadata": {
                "azdata_cell_guid": "9cb2364e-19a9-4f14-bffd-400fa7339a02"
            },
            "outputs": [
                {
                    "output_type": "display_data",
                    "data": {
                        "text/html": "(20 rows affected)"
                    },
                    "metadata": {}
                },
                {
                    "output_type": "display_data",
                    "data": {
                        "text/html": "Total execution time: 00:00:00.012"
                    },
                    "metadata": {}
                },
                {
                    "output_type": "execute_result",
                    "metadata": {
                        "resultSet": {
                            "id": 0,
                            "batchId": 0,
                            "rowCount": 20,
                            "complete": true,
                            "columnInfo": [
                                {
                                    "isBytes": false,
                                    "isChars": true,
                                    "isSqlVariant": false,
                                    "isUdt": false,
                                    "isXml": false,
                                    "isJson": false,
                                    "sqlDbType": 22,
                                    "isHierarchyId": false,
                                    "isSqlXmlType": false,
                                    "isUnknownType": false,
                                    "isUpdatable": false,
                                    "allowDBNull": true,
                                    "baseCatalogName": null,
                                    "baseColumnName": null,
                                    "baseSchemaName": null,
                                    "baseServerName": null,
                                    "baseTableName": null,
                                    "columnName": "rev_name",
                                    "columnOrdinal": 0,
                                    "columnSize": 20,
                                    "isAliased": null,
                                    "isAutoIncrement": false,
                                    "isExpression": null,
                                    "isHidden": null,
                                    "isIdentity": false,
                                    "isKey": null,
                                    "isLong": false,
                                    "isReadOnly": true,
                                    "isUnique": false,
                                    "numericPrecision": 255,
                                    "numericScale": 255,
                                    "udtAssemblyQualifiedName": null,
                                    "dataType": "System.String, System.Private.CoreLib, Version=4.0.0.0, Culture=neutral, PublicKeyToken=7cec85d7bea7798e",
                                    "dataTypeName": "varchar"
                                }
                            ],
                            "specialAction": {
                                "none": true,
                                "expectYukonXMLShowPlan": false
                            }
                        }
                    },
                    "execution_count": 12,
                    "data": {
                        "application/vnd.dataresource+json": {
                            "schema": {
                                "fields": [
                                    {
                                        "name": "rev_name"
                                    }
                                ]
                            },
                            "data": [
                                {
                                    "0": "nevetS"
                                },
                                {
                                    "0": "aneeN"
                                },
                                {
                                    "0": "xeL"
                                },
                                {
                                    "0": "xelA"
                                },
                                {
                                    "0": "ecurB"
                                },
                                {
                                    "0": "anaiD"
                                },
                                {
                                    "0": "niveK"
                                },
                                {
                                    "0": "annerT"
                                },
                                {
                                    "0": "sitruC"
                                },
                                {
                                    "0": "lladnaR"
                                },
                                {
                                    "0": "reteP"
                                },
                                {
                                    "0": "inelE"
                                },
                                {
                                    "0": "nellE"
                                },
                                {
                                    "0": "nohtanoJ"
                                },
                                {
                                    "0": "ylerebmiK"
                                },
                                {
                                    "0": "refinneJ"
                                },
                                {
                                    "0": "leahciM"
                                },
                                {
                                    "0": "taP"
                                },
                                {
                                    "0": "yellehS"
                                },
                                {
                                    "0": "mailliW"
                                }
                            ]
                        },
                        "text/html": [
                            "<table>",
                            "<tr><th>rev_name</th></tr>",
                            "<tr><td>nevetS</td></tr>",
                            "<tr><td>aneeN</td></tr>",
                            "<tr><td>xeL</td></tr>",
                            "<tr><td>xelA</td></tr>",
                            "<tr><td>ecurB</td></tr>",
                            "<tr><td>anaiD</td></tr>",
                            "<tr><td>niveK</td></tr>",
                            "<tr><td>annerT</td></tr>",
                            "<tr><td>sitruC</td></tr>",
                            "<tr><td>lladnaR</td></tr>",
                            "<tr><td>reteP</td></tr>",
                            "<tr><td>inelE</td></tr>",
                            "<tr><td>nellE</td></tr>",
                            "<tr><td>nohtanoJ</td></tr>",
                            "<tr><td>ylerebmiK</td></tr>",
                            "<tr><td>refinneJ</td></tr>",
                            "<tr><td>leahciM</td></tr>",
                            "<tr><td>taP</td></tr>",
                            "<tr><td>yellehS</td></tr>",
                            "<tr><td>mailliW</td></tr>",
                            "</table>"
                        ]
                    }
                }
            ],
            "execution_count": 12
        },
        {
            "cell_type": "code",
            "source": [
                "select REPLACE(first_name, 'en', 'yu') from Employees;"
            ],
            "metadata": {
                "azdata_cell_guid": "fbe467e6-5272-4582-968f-0d19e2c03308"
            },
            "outputs": [
                {
                    "output_type": "display_data",
                    "data": {
                        "text/html": "(20 rows affected)"
                    },
                    "metadata": {}
                },
                {
                    "output_type": "display_data",
                    "data": {
                        "text/html": "Total execution time: 00:00:00.023"
                    },
                    "metadata": {}
                },
                {
                    "output_type": "execute_result",
                    "metadata": {
                        "resultSet": {
                            "id": 0,
                            "batchId": 0,
                            "rowCount": 20,
                            "complete": true,
                            "columnInfo": [
                                {
                                    "isBytes": false,
                                    "isChars": true,
                                    "isSqlVariant": false,
                                    "isUdt": false,
                                    "isXml": false,
                                    "isJson": false,
                                    "sqlDbType": 22,
                                    "isHierarchyId": false,
                                    "isSqlXmlType": false,
                                    "isUnknownType": false,
                                    "isUpdatable": false,
                                    "allowDBNull": true,
                                    "baseCatalogName": null,
                                    "baseColumnName": null,
                                    "baseSchemaName": null,
                                    "baseServerName": null,
                                    "baseTableName": null,
                                    "columnName": "(No column name)",
                                    "columnOrdinal": 0,
                                    "columnSize": 8000,
                                    "isAliased": null,
                                    "isAutoIncrement": false,
                                    "isExpression": null,
                                    "isHidden": null,
                                    "isIdentity": false,
                                    "isKey": null,
                                    "isLong": false,
                                    "isReadOnly": true,
                                    "isUnique": false,
                                    "numericPrecision": 255,
                                    "numericScale": 255,
                                    "udtAssemblyQualifiedName": null,
                                    "dataType": "System.String, System.Private.CoreLib, Version=4.0.0.0, Culture=neutral, PublicKeyToken=7cec85d7bea7798e",
                                    "dataTypeName": "varchar"
                                }
                            ],
                            "specialAction": {
                                "none": true,
                                "expectYukonXMLShowPlan": false
                            }
                        }
                    },
                    "execution_count": 13,
                    "data": {
                        "application/vnd.dataresource+json": {
                            "schema": {
                                "fields": [
                                    {
                                        "name": "(No column name)"
                                    }
                                ]
                            },
                            "data": [
                                {
                                    "0": "Stevyu"
                                },
                                {
                                    "0": "Neyua"
                                },
                                {
                                    "0": "Lex"
                                },
                                {
                                    "0": "Alex"
                                },
                                {
                                    "0": "Bruce"
                                },
                                {
                                    "0": "Diana"
                                },
                                {
                                    "0": "Kevin"
                                },
                                {
                                    "0": "Tryuna"
                                },
                                {
                                    "0": "Curtis"
                                },
                                {
                                    "0": "Randall"
                                },
                                {
                                    "0": "Peter"
                                },
                                {
                                    "0": "Elyui"
                                },
                                {
                                    "0": "Ellyu"
                                },
                                {
                                    "0": "Jonathon"
                                },
                                {
                                    "0": "Kimberely"
                                },
                                {
                                    "0": "Jyunifer"
                                },
                                {
                                    "0": "Michael"
                                },
                                {
                                    "0": "Pat"
                                },
                                {
                                    "0": "Shelley"
                                },
                                {
                                    "0": "William"
                                }
                            ]
                        },
                        "text/html": [
                            "<table>",
                            "<tr><th>(No column name)</th></tr>",
                            "<tr><td>Stevyu</td></tr>",
                            "<tr><td>Neyua</td></tr>",
                            "<tr><td>Lex</td></tr>",
                            "<tr><td>Alex</td></tr>",
                            "<tr><td>Bruce</td></tr>",
                            "<tr><td>Diana</td></tr>",
                            "<tr><td>Kevin</td></tr>",
                            "<tr><td>Tryuna</td></tr>",
                            "<tr><td>Curtis</td></tr>",
                            "<tr><td>Randall</td></tr>",
                            "<tr><td>Peter</td></tr>",
                            "<tr><td>Elyui</td></tr>",
                            "<tr><td>Ellyu</td></tr>",
                            "<tr><td>Jonathon</td></tr>",
                            "<tr><td>Kimberely</td></tr>",
                            "<tr><td>Jyunifer</td></tr>",
                            "<tr><td>Michael</td></tr>",
                            "<tr><td>Pat</td></tr>",
                            "<tr><td>Shelley</td></tr>",
                            "<tr><td>William</td></tr>",
                            "</table>"
                        ]
                    }
                }
            ],
            "execution_count": 13
        },
        {
            "cell_type": "code",
            "source": [
                "select UPPER(LAST_name) as name_upper from Employees;"
            ],
            "metadata": {
                "azdata_cell_guid": "3862321b-63d3-4d5e-9ded-202016d778fe"
            },
            "outputs": [
                {
                    "output_type": "display_data",
                    "data": {
                        "text/html": "(20 rows affected)"
                    },
                    "metadata": {}
                },
                {
                    "output_type": "display_data",
                    "data": {
                        "text/html": "Total execution time: 00:00:00.011"
                    },
                    "metadata": {}
                },
                {
                    "output_type": "execute_result",
                    "metadata": {
                        "resultSet": {
                            "id": 0,
                            "batchId": 0,
                            "rowCount": 20,
                            "complete": true,
                            "columnInfo": [
                                {
                                    "isBytes": false,
                                    "isChars": true,
                                    "isSqlVariant": false,
                                    "isUdt": false,
                                    "isXml": false,
                                    "isJson": false,
                                    "sqlDbType": 22,
                                    "isHierarchyId": false,
                                    "isSqlXmlType": false,
                                    "isUnknownType": false,
                                    "isUpdatable": false,
                                    "allowDBNull": true,
                                    "baseCatalogName": null,
                                    "baseColumnName": null,
                                    "baseSchemaName": null,
                                    "baseServerName": null,
                                    "baseTableName": null,
                                    "columnName": "name_upper",
                                    "columnOrdinal": 0,
                                    "columnSize": 20,
                                    "isAliased": null,
                                    "isAutoIncrement": false,
                                    "isExpression": null,
                                    "isHidden": null,
                                    "isIdentity": false,
                                    "isKey": null,
                                    "isLong": false,
                                    "isReadOnly": true,
                                    "isUnique": false,
                                    "numericPrecision": 255,
                                    "numericScale": 255,
                                    "udtAssemblyQualifiedName": null,
                                    "dataType": "System.String, System.Private.CoreLib, Version=4.0.0.0, Culture=neutral, PublicKeyToken=7cec85d7bea7798e",
                                    "dataTypeName": "varchar"
                                }
                            ],
                            "specialAction": {
                                "none": true,
                                "expectYukonXMLShowPlan": false
                            }
                        }
                    },
                    "execution_count": 14,
                    "data": {
                        "application/vnd.dataresource+json": {
                            "schema": {
                                "fields": [
                                    {
                                        "name": "name_upper"
                                    }
                                ]
                            },
                            "data": [
                                {
                                    "0": "KING"
                                },
                                {
                                    "0": "KOCHHAR"
                                },
                                {
                                    "0": "DE HAAN"
                                },
                                {
                                    "0": "HUNOLD"
                                },
                                {
                                    "0": "ERNST"
                                },
                                {
                                    "0": "LORENTZ"
                                },
                                {
                                    "0": "MORGOUS"
                                },
                                {
                                    "0": "RAJS"
                                },
                                {
                                    "0": "DAVIES"
                                },
                                {
                                    "0": "MATOS"
                                },
                                {
                                    "0": "VARGAS"
                                },
                                {
                                    "0": "ZLOTKEY"
                                },
                                {
                                    "0": "ABEL"
                                },
                                {
                                    "0": "TAYLOR"
                                },
                                {
                                    "0": "GRANT"
                                },
                                {
                                    "0": "WHALEN"
                                },
                                {
                                    "0": "HARTSTEIN"
                                },
                                {
                                    "0": "FAY"
                                },
                                {
                                    "0": "HIGGINS"
                                },
                                {
                                    "0": "GIETZ"
                                }
                            ]
                        },
                        "text/html": [
                            "<table>",
                            "<tr><th>name_upper</th></tr>",
                            "<tr><td>KING</td></tr>",
                            "<tr><td>KOCHHAR</td></tr>",
                            "<tr><td>DE HAAN</td></tr>",
                            "<tr><td>HUNOLD</td></tr>",
                            "<tr><td>ERNST</td></tr>",
                            "<tr><td>LORENTZ</td></tr>",
                            "<tr><td>MORGOUS</td></tr>",
                            "<tr><td>RAJS</td></tr>",
                            "<tr><td>DAVIES</td></tr>",
                            "<tr><td>MATOS</td></tr>",
                            "<tr><td>VARGAS</td></tr>",
                            "<tr><td>ZLOTKEY</td></tr>",
                            "<tr><td>ABEL</td></tr>",
                            "<tr><td>TAYLOR</td></tr>",
                            "<tr><td>GRANT</td></tr>",
                            "<tr><td>WHALEN</td></tr>",
                            "<tr><td>HARTSTEIN</td></tr>",
                            "<tr><td>FAY</td></tr>",
                            "<tr><td>HIGGINS</td></tr>",
                            "<tr><td>GIETZ</td></tr>",
                            "</table>"
                        ]
                    }
                }
            ],
            "execution_count": 14
        },
        {
            "cell_type": "code",
            "source": [
                ""
            ],
            "metadata": {
                "azdata_cell_guid": "9fa80de6-ee40-4cb1-9d2f-191fc93e5fe6"
            },
            "outputs": [],
            "execution_count": null
        }
    ]
}